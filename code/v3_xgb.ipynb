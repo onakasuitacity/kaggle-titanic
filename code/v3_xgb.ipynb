{
 "cells": [
  {
   "cell_type": "markdown",
   "id": "76d8136f-94eb-4308-922f-778c6d933ca9",
   "metadata": {},
   "source": [
    "# Import"
   ]
  },
  {
   "cell_type": "code",
   "execution_count": 1,
   "id": "972b5d24-0264-46bc-aef8-be403e577db6",
   "metadata": {},
   "outputs": [],
   "source": [
    "from utils import init_logger, timer, fix_seed\n",
    "import random\n",
    "import pandas as pd\n",
    "pd.set_option('display.max_columns', 150)\n",
    "import numpy as np\n",
    "import category_encoders as ce\n",
    "import matplotlib.pyplot as plt\n",
    "import datetime as dt\n",
    "from tqdm import tqdm\n",
    "from tqdm.notebook import tqdm_notebook\n",
    "tqdm_notebook.pandas(desc=\"Processing:\")\n",
    "\n",
    "fix_seed()\n",
    "logger = init_logger()"
   ]
  },
  {
   "cell_type": "code",
   "execution_count": 2,
   "id": "543c8c49-ac3f-459b-9e1a-14abb9068e90",
   "metadata": {},
   "outputs": [],
   "source": [
    "PROJECT_NAME = \"v3\""
   ]
  },
  {
   "cell_type": "markdown",
   "id": "18dcf465-00a9-4af5-a0c3-10a8ab81d29f",
   "metadata": {
    "tags": []
   },
   "source": [
    "# Load"
   ]
  },
  {
   "cell_type": "code",
   "execution_count": 3,
   "id": "c4abd8e9-2191-4f51-bd68-9ffd1f4771cf",
   "metadata": {},
   "outputs": [],
   "source": [
    "import pandas as pd\n",
    "import category_encoders as ce\n",
    "from sklearn.preprocessing import StandardScaler\n",
    "\n",
    "def load_data():\n",
    "    df_train = pd.read_csv(\"../input/train.csv\")\n",
    "    df_test = pd.read_csv(\"../input/test.csv\")\n",
    "    df = pd.concat([df_train, df_test]).reset_index(drop=True)\n",
    "    \n",
    "    df['Fare'].fillna(df.query('Pclass==3 & Embarked==\"S\"')['Fare'].median(), inplace=True)\n",
    "    \n",
    "    titles = [\n",
    "        \"Mr.\", \"Miss.\", \"Mrs.\", \"Master.\", \"Dr.\", \"Rev.\", \"Col.\", \"Ms.\", \n",
    "        \"Mlle.\", \"Mme.\", \"Capt.\", \"Countess.\", \"Major.\", \"Jonkheer.\", \"Don.\", \n",
    "        \"Dona.\", \"Sir.\", \"Lady.\"\n",
    "    ]\n",
    "    df[\"Title\"] = None\n",
    "    for title in titles:\n",
    "        df.loc[df[\"Name\"].str.contains(title, regex=False), \"Title\"] = title\n",
    "    df.loc[(df[\"Title\"] != \"Master.\") & (df[\"Sex\"] == \"male\"), \"Title\"] = \"Mr.\"\n",
    "    df.loc[(df[\"Title\"] != \"Mrs.\") & (df[\"Sex\"] == \"female\"), \"Title\"] = \"Miss.\"\n",
    "    \n",
    "    df[\"Surname_Fare\"] = df[\"Name\"].map(lambda name: name.split(',')[0].strip()) + df[\"Fare\"].astype(str)\n",
    "    df[\"Count_Surname_Fare\"] = df[\"Surname_Fare\"].map(df[\"Surname_Fare\"].value_counts())\n",
    "\n",
    "    for title in df[\"Title\"].unique():\n",
    "        df.loc[df[\"Title\"] == title, \"Age\"].fillna(df.loc[df[\"Title\"] == title, \"Age\"].mean(), inplace=True)\n",
    "    \n",
    "    # ordinal encoding\n",
    "    oe_columns = [\n",
    "        \"Sex\",\n",
    "        \"Title\",\n",
    "        \"Pclass\",\n",
    "        \"Embarked\"\n",
    "    ]\n",
    "    oe = ce.OrdinalEncoder(cols=oe_columns, handle_unknown='value')\n",
    "    df = oe.fit_transform(df)\n",
    "\n",
    "    \n",
    "    # extract\n",
    "    df.drop([\n",
    "        \"Name\",\n",
    "        \"Ticket\",\n",
    "        \"Cabin\"\n",
    "    ], axis=1, inplace=True)\n",
    "\n",
    "    df_train, df_test = df[:len(df_train)], df[len(df_train):]\n",
    "    \n",
    "    # target encoding\n",
    "    loo = ce.TargetEncoder(cols=\"Surname_Fare\", handle_unknown=\"value\")\n",
    "    df_train = loo.fit_transform(df_train, df_train[\"Survived\"])\n",
    "    df_test = loo.transform(df_test)\n",
    "    \n",
    "    return df_train, df_test"
   ]
  },
  {
   "cell_type": "code",
   "execution_count": 4,
   "id": "6bf1ac82-2cf3-4ec3-8b99-0e554d1932b9",
   "metadata": {},
   "outputs": [
    {
     "name": "stderr",
     "output_type": "stream",
     "text": [
      "2022/01/02 17:37:05 45 [INFO] [read csv] start.\n",
      "2022/01/02 17:37:05 47 [INFO] [read csv] done in 0.028 seconds.\n"
     ]
    }
   ],
   "source": [
    "with timer(\"read csv\", logger):\n",
    "    df_train, df_test = load_data()"
   ]
  },
  {
   "cell_type": "code",
   "execution_count": 5,
   "id": "e948dca9-f964-4a48-a9c4-f74413c457ee",
   "metadata": {},
   "outputs": [],
   "source": [
    "X_train = df_train.drop([\"PassengerId\", \"Survived\"], axis=1)\n",
    "y_train = df_train[\"Survived\"]\n",
    "X_test = df_test.drop([\"PassengerId\", \"Survived\"], axis=1)"
   ]
  },
  {
   "cell_type": "code",
   "execution_count": 6,
   "id": "0a896df7-c7a0-421c-addb-be71c2f96aff",
   "metadata": {},
   "outputs": [
    {
     "data": {
      "text/html": [
       "<div>\n",
       "<style scoped>\n",
       "    .dataframe tbody tr th:only-of-type {\n",
       "        vertical-align: middle;\n",
       "    }\n",
       "\n",
       "    .dataframe tbody tr th {\n",
       "        vertical-align: top;\n",
       "    }\n",
       "\n",
       "    .dataframe thead th {\n",
       "        text-align: right;\n",
       "    }\n",
       "</style>\n",
       "<table border=\"1\" class=\"dataframe\">\n",
       "  <thead>\n",
       "    <tr style=\"text-align: right;\">\n",
       "      <th></th>\n",
       "      <th>Pclass</th>\n",
       "      <th>Sex</th>\n",
       "      <th>Age</th>\n",
       "      <th>SibSp</th>\n",
       "      <th>Parch</th>\n",
       "      <th>Fare</th>\n",
       "      <th>Embarked</th>\n",
       "      <th>Title</th>\n",
       "      <th>Surname_Fare</th>\n",
       "      <th>Count_Surname_Fare</th>\n",
       "    </tr>\n",
       "  </thead>\n",
       "  <tbody>\n",
       "    <tr>\n",
       "      <th>0</th>\n",
       "      <td>1</td>\n",
       "      <td>1</td>\n",
       "      <td>22.0</td>\n",
       "      <td>1</td>\n",
       "      <td>0</td>\n",
       "      <td>7.2500</td>\n",
       "      <td>1</td>\n",
       "      <td>1</td>\n",
       "      <td>0.383838</td>\n",
       "      <td>1</td>\n",
       "    </tr>\n",
       "    <tr>\n",
       "      <th>1</th>\n",
       "      <td>2</td>\n",
       "      <td>2</td>\n",
       "      <td>38.0</td>\n",
       "      <td>1</td>\n",
       "      <td>0</td>\n",
       "      <td>71.2833</td>\n",
       "      <td>2</td>\n",
       "      <td>2</td>\n",
       "      <td>0.383838</td>\n",
       "      <td>2</td>\n",
       "    </tr>\n",
       "    <tr>\n",
       "      <th>2</th>\n",
       "      <td>1</td>\n",
       "      <td>2</td>\n",
       "      <td>26.0</td>\n",
       "      <td>0</td>\n",
       "      <td>0</td>\n",
       "      <td>7.9250</td>\n",
       "      <td>1</td>\n",
       "      <td>3</td>\n",
       "      <td>0.383838</td>\n",
       "      <td>1</td>\n",
       "    </tr>\n",
       "    <tr>\n",
       "      <th>3</th>\n",
       "      <td>2</td>\n",
       "      <td>2</td>\n",
       "      <td>35.0</td>\n",
       "      <td>1</td>\n",
       "      <td>0</td>\n",
       "      <td>53.1000</td>\n",
       "      <td>1</td>\n",
       "      <td>2</td>\n",
       "      <td>0.468759</td>\n",
       "      <td>2</td>\n",
       "    </tr>\n",
       "    <tr>\n",
       "      <th>4</th>\n",
       "      <td>1</td>\n",
       "      <td>1</td>\n",
       "      <td>35.0</td>\n",
       "      <td>0</td>\n",
       "      <td>0</td>\n",
       "      <td>8.0500</td>\n",
       "      <td>1</td>\n",
       "      <td>1</td>\n",
       "      <td>0.383838</td>\n",
       "      <td>1</td>\n",
       "    </tr>\n",
       "  </tbody>\n",
       "</table>\n",
       "</div>"
      ],
      "text/plain": [
       "   Pclass  Sex   Age  SibSp  Parch     Fare  Embarked  Title  Surname_Fare  \\\n",
       "0       1    1  22.0      1      0   7.2500         1      1      0.383838   \n",
       "1       2    2  38.0      1      0  71.2833         2      2      0.383838   \n",
       "2       1    2  26.0      0      0   7.9250         1      3      0.383838   \n",
       "3       2    2  35.0      1      0  53.1000         1      2      0.468759   \n",
       "4       1    1  35.0      0      0   8.0500         1      1      0.383838   \n",
       "\n",
       "   Count_Surname_Fare  \n",
       "0                   1  \n",
       "1                   2  \n",
       "2                   1  \n",
       "3                   2  \n",
       "4                   1  "
      ]
     },
     "execution_count": 6,
     "metadata": {},
     "output_type": "execute_result"
    }
   ],
   "source": [
    "X_train.head()"
   ]
  },
  {
   "cell_type": "code",
   "execution_count": 7,
   "id": "7a3d7633-0d71-4e2c-8620-55aabd97792b",
   "metadata": {},
   "outputs": [
    {
     "data": {
      "text/plain": [
       "Index(['Pclass', 'Sex', 'Age', 'SibSp', 'Parch', 'Fare', 'Embarked', 'Title',\n",
       "       'Surname_Fare', 'Count_Surname_Fare'],\n",
       "      dtype='object')"
      ]
     },
     "execution_count": 7,
     "metadata": {},
     "output_type": "execute_result"
    }
   ],
   "source": [
    "X_train.columns"
   ]
  },
  {
   "cell_type": "markdown",
   "id": "e6c607f2-84f6-4ec0-8fb3-8800cb738cf6",
   "metadata": {
    "tags": []
   },
   "source": [
    "# Training"
   ]
  },
  {
   "cell_type": "code",
   "execution_count": 8,
   "id": "20d74fee-5ecd-48b9-a51f-df20c97b935c",
   "metadata": {},
   "outputs": [],
   "source": [
    "from model_xgb import ModelXGB\n",
    "from runner import Runner\n",
    "from hyperopt import hp, fmin, tpe, space_eval"
   ]
  },
  {
   "cell_type": "code",
   "execution_count": 9,
   "id": "fd7219ce-2a81-4f57-9d60-2f3f21beafe8",
   "metadata": {},
   "outputs": [],
   "source": [
    "runner = Runner(PROJECT_NAME, ModelXGB, cv=False)"
   ]
  },
  {
   "cell_type": "code",
   "execution_count": 10,
   "id": "823ecd1e-fb26-42a0-a27d-0a932ee91eb4",
   "metadata": {},
   "outputs": [],
   "source": [
    "# space = {\n",
    "#     \"objective\": \"binary\",\n",
    "#     \"metric\": [\"binary_logloss\", \"binary_error\"],\n",
    "#     \"max_leaves\": hp.uniformint(\"max_leaves\", 30, 80),\n",
    "#     \"min_data_in_leaf\": hp.uniformint(\"min_data_in_leaf\", 10, 50),\n",
    "#     \"lambda_l1\": hp.loguniform(\"lambda_l1\", np.log(0.01), np.log(1)),\n",
    "#     \"lambda_l2\": hp.loguniform(\"lambda_l2\", np.log(0.01), np.log(1)),\n",
    "#     \"bagging_fraction\": hp.uniform(\"bagging_fraction\", 0.8, 1),\n",
    "#     \"feature_fraction\": hp.uniform(\"feature_fraction\", 0.8, 1),\n",
    "#     \"learning_rate\": 0.01,\n",
    "#     \"seed\": 0,\n",
    "#     \"verbose\": -1,\n",
    "# }\n",
    "\n",
    "params = {\n",
    "    'objective': 'binary:logistic',\n",
    "    \"learning_rate\": 0.01,\n",
    "    \"subsample\": 0.8,\n",
    "    \"lambda\": 0.8,\n",
    "    \"alpha\": 0.8,\n",
    "}\n",
    "\n",
    "train_params = {\n",
    "    \"num_boost_round\": 5000,\n",
    "    \"early_stopping_rounds\": 30,\n",
    "    \"verbose_eval\": 100\n",
    "}"
   ]
  },
  {
   "cell_type": "code",
   "execution_count": 10,
   "id": "ee343e70-78ba-409a-818e-4902b175c3ad",
   "metadata": {
    "tags": []
   },
   "outputs": [],
   "source": [
    "def objective(args):\n",
    "    logger.info(args)\n",
    "    runner.train(X_train, y_train, args, train_params)\n",
    "    return runner.get_score()"
   ]
  },
  {
   "cell_type": "code",
   "execution_count": 11,
   "id": "9d0261a7-4e64-445c-b503-5cfb13ff5fcb",
   "metadata": {
    "collapsed": true,
    "jupyter": {
     "outputs_hidden": true
    },
    "tags": []
   },
   "outputs": [
    {
     "name": "stdout",
     "output_type": "stream",
     "text": [
      "  0%|                                   | 0/100 [00:00<?, ?trial/s, best loss=?]"
     ]
    },
    {
     "name": "stderr",
     "output_type": "stream",
     "text": [
      "2022/01/01 18:13:35 2 [INFO] {'bagging_fraction': 0.8393722009273112, 'feature_fraction': 0.8910156806187918, 'lambda_l1': 0.017566243042311882, 'lambda_l2': 0.8430033228269593, 'learning_rate': 0.01, 'max_leaves': 44, 'metric': ('binary_logloss', 'binary_error'), 'min_data_in_leaf': 30, 'objective': 'binary', 'seed': 0, 'verbose': -1}\n"
     ]
    },
    {
     "name": "stdout",
     "output_type": "stream",
     "text": [
      "Training until validation scores don't improve for 40 rounds                    \n",
      "  0%|                                   | 0/100 [00:00<?, ?trial/s, best loss=?]"
     ]
    },
    {
     "name": "stderr",
     "output_type": "stream",
     "text": [
      "/Users/g-ogaki/miniforge3/lib/python3.9/site-packages/lightgbm/engine.py:181: UserWarning: 'early_stopping_rounds' argument is deprecated and will be removed in a future release of LightGBM. Pass 'early_stopping()' callback via 'callbacks' argument instead.\n",
      "  _log_warning(\"'early_stopping_rounds' argument is deprecated and will be removed in a future release of LightGBM. \"\n",
      "\n",
      "/Users/g-ogaki/miniforge3/lib/python3.9/site-packages/lightgbm/engine.py:239: UserWarning: 'verbose_eval' argument is deprecated and will be removed in a future release of LightGBM. Pass 'log_evaluation()' callback via 'callbacks' argument instead.\n",
      "  _log_warning(\"'verbose_eval' argument is deprecated and will be removed in a future release of LightGBM. \"\n",
      "\n"
     ]
    },
    {
     "name": "stdout",
     "output_type": "stream",
     "text": [
      "Early stopping, best iteration is:                                              \n",
      "[101]\ttraining's binary_logloss: 0.423016\ttraining's binary_error: 0.151685\tvalid_1's binary_logloss: 0.425635\tvalid_1's binary_error: 0.128492\n",
      "  1%|        | 1/100 [00:00<01:31,  1.08trial/s, best loss: 0.42563452297869253]"
     ]
    },
    {
     "name": "stderr",
     "output_type": "stream",
     "text": [
      "2022/01/01 18:13:36 2 [INFO] {'bagging_fraction': 0.8937153282648873, 'feature_fraction': 0.9801836870322927, 'lambda_l1': 0.24163565990221264, 'lambda_l2': 0.17102615887984027, 'learning_rate': 0.01, 'max_leaves': 31, 'metric': ('binary_logloss', 'binary_error'), 'min_data_in_leaf': 36, 'objective': 'binary', 'seed': 0, 'verbose': -1}\n"
     ]
    },
    {
     "name": "stdout",
     "output_type": "stream",
     "text": [
      "Training until validation scores don't improve for 40 rounds                    \n",
      "  1%|        | 1/100 [00:00<01:31,  1.08trial/s, best loss: 0.42563452297869253]"
     ]
    },
    {
     "name": "stderr",
     "output_type": "stream",
     "text": [
      "/Users/g-ogaki/miniforge3/lib/python3.9/site-packages/lightgbm/engine.py:181: UserWarning: 'early_stopping_rounds' argument is deprecated and will be removed in a future release of LightGBM. Pass 'early_stopping()' callback via 'callbacks' argument instead.\n",
      "  _log_warning(\"'early_stopping_rounds' argument is deprecated and will be removed in a future release of LightGBM. \"\n",
      "\n",
      "/Users/g-ogaki/miniforge3/lib/python3.9/site-packages/lightgbm/engine.py:239: UserWarning: 'verbose_eval' argument is deprecated and will be removed in a future release of LightGBM. Pass 'log_evaluation()' callback via 'callbacks' argument instead.\n",
      "  _log_warning(\"'verbose_eval' argument is deprecated and will be removed in a future release of LightGBM. \"\n",
      "\n"
     ]
    },
    {
     "name": "stdout",
     "output_type": "stream",
     "text": [
      "Early stopping, best iteration is:                                              \n",
      "[82]\ttraining's binary_logloss: 0.444563\ttraining's binary_error: 0.150281\tvalid_1's binary_logloss: 0.44264\tvalid_1's binary_error: 0.128492\n",
      "  2%|▏       | 2/100 [00:01<01:20,  1.22trial/s, best loss: 0.42563452297869253]"
     ]
    },
    {
     "name": "stderr",
     "output_type": "stream",
     "text": [
      "2022/01/01 18:13:37 2 [INFO] {'bagging_fraction': 0.9406370130884746, 'feature_fraction': 0.846433656285635, 'lambda_l1': 0.08647055053672613, 'lambda_l2': 0.07040419690013576, 'learning_rate': 0.01, 'max_leaves': 62, 'metric': ('binary_logloss', 'binary_error'), 'min_data_in_leaf': 15, 'objective': 'binary', 'seed': 0, 'verbose': -1}\n"
     ]
    },
    {
     "name": "stdout",
     "output_type": "stream",
     "text": [
      "Training until validation scores don't improve for 40 rounds                    \n",
      "  2%|▏       | 2/100 [00:01<01:20,  1.22trial/s, best loss: 0.42563452297869253]"
     ]
    },
    {
     "name": "stderr",
     "output_type": "stream",
     "text": [
      "/Users/g-ogaki/miniforge3/lib/python3.9/site-packages/lightgbm/engine.py:181: UserWarning: 'early_stopping_rounds' argument is deprecated and will be removed in a future release of LightGBM. Pass 'early_stopping()' callback via 'callbacks' argument instead.\n",
      "  _log_warning(\"'early_stopping_rounds' argument is deprecated and will be removed in a future release of LightGBM. \"\n",
      "\n",
      "/Users/g-ogaki/miniforge3/lib/python3.9/site-packages/lightgbm/engine.py:239: UserWarning: 'verbose_eval' argument is deprecated and will be removed in a future release of LightGBM. Pass 'log_evaluation()' callback via 'callbacks' argument instead.\n",
      "  _log_warning(\"'verbose_eval' argument is deprecated and will be removed in a future release of LightGBM. \"\n",
      "\n"
     ]
    },
    {
     "name": "stdout",
     "output_type": "stream",
     "text": [
      "Early stopping, best iteration is:                                              \n",
      "[63]\ttraining's binary_logloss: 0.454858\ttraining's binary_error: 0.141854\tvalid_1's binary_logloss: 0.46719\tvalid_1's binary_error: 0.122905\n",
      "  3%|▏       | 3/100 [00:02<01:35,  1.01trial/s, best loss: 0.42563452297869253]"
     ]
    },
    {
     "name": "stderr",
     "output_type": "stream",
     "text": [
      "2022/01/01 18:13:38 2 [INFO] {'bagging_fraction': 0.9108574636782434, 'feature_fraction': 0.8125978855134761, 'lambda_l1': 0.23865874650548322, 'lambda_l2': 0.08967291827538529, 'learning_rate': 0.01, 'max_leaves': 38, 'metric': ('binary_logloss', 'binary_error'), 'min_data_in_leaf': 49, 'objective': 'binary', 'seed': 0, 'verbose': -1}\n"
     ]
    },
    {
     "name": "stdout",
     "output_type": "stream",
     "text": [
      "Training until validation scores don't improve for 40 rounds                    \n",
      "  3%|▏       | 3/100 [00:02<01:35,  1.01trial/s, best loss: 0.42563452297869253]"
     ]
    },
    {
     "name": "stderr",
     "output_type": "stream",
     "text": [
      "/Users/g-ogaki/miniforge3/lib/python3.9/site-packages/lightgbm/engine.py:181: UserWarning: 'early_stopping_rounds' argument is deprecated and will be removed in a future release of LightGBM. Pass 'early_stopping()' callback via 'callbacks' argument instead.\n",
      "  _log_warning(\"'early_stopping_rounds' argument is deprecated and will be removed in a future release of LightGBM. \"\n",
      "\n",
      "/Users/g-ogaki/miniforge3/lib/python3.9/site-packages/lightgbm/engine.py:239: UserWarning: 'verbose_eval' argument is deprecated and will be removed in a future release of LightGBM. Pass 'log_evaluation()' callback via 'callbacks' argument instead.\n",
      "  _log_warning(\"'verbose_eval' argument is deprecated and will be removed in a future release of LightGBM. \"\n",
      "\n"
     ]
    },
    {
     "name": "stdout",
     "output_type": "stream",
     "text": [
      "Early stopping, best iteration is:                                              \n",
      "[54]\ttraining's binary_logloss: 0.508026\ttraining's binary_error: 0.168539\tvalid_1's binary_logloss: 0.502977\tvalid_1's binary_error: 0.156425\n",
      "  4%|▎       | 4/100 [00:03<01:13,  1.31trial/s, best loss: 0.42563452297869253]"
     ]
    },
    {
     "name": "stderr",
     "output_type": "stream",
     "text": [
      "2022/01/01 18:13:38 2 [INFO] {'bagging_fraction': 0.8021240150829756, 'feature_fraction': 0.8819050641675653, 'lambda_l1': 0.05234654840876949, 'lambda_l2': 0.22581278582161732, 'learning_rate': 0.01, 'max_leaves': 33, 'metric': ('binary_logloss', 'binary_error'), 'min_data_in_leaf': 44, 'objective': 'binary', 'seed': 0, 'verbose': -1}\n"
     ]
    },
    {
     "name": "stdout",
     "output_type": "stream",
     "text": [
      "Training until validation scores don't improve for 40 rounds                    \n",
      "  4%|▎       | 4/100 [00:03<01:13,  1.31trial/s, best loss: 0.42563452297869253]"
     ]
    },
    {
     "name": "stderr",
     "output_type": "stream",
     "text": [
      "/Users/g-ogaki/miniforge3/lib/python3.9/site-packages/lightgbm/engine.py:181: UserWarning: 'early_stopping_rounds' argument is deprecated and will be removed in a future release of LightGBM. Pass 'early_stopping()' callback via 'callbacks' argument instead.\n",
      "  _log_warning(\"'early_stopping_rounds' argument is deprecated and will be removed in a future release of LightGBM. \"\n",
      "\n",
      "/Users/g-ogaki/miniforge3/lib/python3.9/site-packages/lightgbm/engine.py:239: UserWarning: 'verbose_eval' argument is deprecated and will be removed in a future release of LightGBM. Pass 'log_evaluation()' callback via 'callbacks' argument instead.\n",
      "  _log_warning(\"'verbose_eval' argument is deprecated and will be removed in a future release of LightGBM. \"\n",
      "\n"
     ]
    },
    {
     "name": "stdout",
     "output_type": "stream",
     "text": [
      "Early stopping, best iteration is:                                              \n",
      "[89]\ttraining's binary_logloss: 0.444303\ttraining's binary_error: 0.150281\tvalid_1's binary_logloss: 0.437146\tvalid_1's binary_error: 0.122905\n",
      "  5%|▍       | 5/100 [00:03<01:06,  1.43trial/s, best loss: 0.42563452297869253]"
     ]
    },
    {
     "name": "stderr",
     "output_type": "stream",
     "text": [
      "2022/01/01 18:13:39 2 [INFO] {'bagging_fraction': 0.9205475343133219, 'feature_fraction': 0.9980900937090557, 'lambda_l1': 0.13119070842522168, 'lambda_l2': 0.13137792487764027, 'learning_rate': 0.01, 'max_leaves': 33, 'metric': ('binary_logloss', 'binary_error'), 'min_data_in_leaf': 17, 'objective': 'binary', 'seed': 0, 'verbose': -1}\n"
     ]
    },
    {
     "name": "stdout",
     "output_type": "stream",
     "text": [
      "Training until validation scores don't improve for 40 rounds                    \n",
      "  5%|▍       | 5/100 [00:03<01:06,  1.43trial/s, best loss: 0.42563452297869253]"
     ]
    },
    {
     "name": "stderr",
     "output_type": "stream",
     "text": [
      "/Users/g-ogaki/miniforge3/lib/python3.9/site-packages/lightgbm/engine.py:181: UserWarning: 'early_stopping_rounds' argument is deprecated and will be removed in a future release of LightGBM. Pass 'early_stopping()' callback via 'callbacks' argument instead.\n",
      "  _log_warning(\"'early_stopping_rounds' argument is deprecated and will be removed in a future release of LightGBM. \"\n",
      "\n",
      "/Users/g-ogaki/miniforge3/lib/python3.9/site-packages/lightgbm/engine.py:239: UserWarning: 'verbose_eval' argument is deprecated and will be removed in a future release of LightGBM. Pass 'log_evaluation()' callback via 'callbacks' argument instead.\n",
      "  _log_warning(\"'verbose_eval' argument is deprecated and will be removed in a future release of LightGBM. \"\n",
      "\n"
     ]
    },
    {
     "name": "stdout",
     "output_type": "stream",
     "text": [
      "Early stopping, best iteration is:                                              \n",
      "[70]\ttraining's binary_logloss: 0.443255\ttraining's binary_error: 0.136236\tvalid_1's binary_logloss: 0.452424\tvalid_1's binary_error: 0.128492\n",
      "  6%|▍       | 6/100 [00:05<01:25,  1.11trial/s, best loss: 0.42563452297869253]"
     ]
    },
    {
     "name": "stderr",
     "output_type": "stream",
     "text": [
      "2022/01/01 18:13:40 2 [INFO] {'bagging_fraction': 0.9131631853937775, 'feature_fraction': 0.8746895567481663, 'lambda_l1': 0.01809971249480841, 'lambda_l2': 0.019093190734067258, 'learning_rate': 0.01, 'max_leaves': 62, 'metric': ('binary_logloss', 'binary_error'), 'min_data_in_leaf': 35, 'objective': 'binary', 'seed': 0, 'verbose': -1}\n"
     ]
    },
    {
     "name": "stdout",
     "output_type": "stream",
     "text": [
      "Training until validation scores don't improve for 40 rounds                    \n",
      "  6%|▍       | 6/100 [00:05<01:25,  1.11trial/s, best loss: 0.42563452297869253]"
     ]
    },
    {
     "name": "stderr",
     "output_type": "stream",
     "text": [
      "/Users/g-ogaki/miniforge3/lib/python3.9/site-packages/lightgbm/engine.py:181: UserWarning: 'early_stopping_rounds' argument is deprecated and will be removed in a future release of LightGBM. Pass 'early_stopping()' callback via 'callbacks' argument instead.\n",
      "  _log_warning(\"'early_stopping_rounds' argument is deprecated and will be removed in a future release of LightGBM. \"\n",
      "\n",
      "/Users/g-ogaki/miniforge3/lib/python3.9/site-packages/lightgbm/engine.py:239: UserWarning: 'verbose_eval' argument is deprecated and will be removed in a future release of LightGBM. Pass 'log_evaluation()' callback via 'callbacks' argument instead.\n",
      "  _log_warning(\"'verbose_eval' argument is deprecated and will be removed in a future release of LightGBM. \"\n",
      "\n"
     ]
    },
    {
     "name": "stdout",
     "output_type": "stream",
     "text": [
      "Early stopping, best iteration is:                                              \n",
      "[77]\ttraining's binary_logloss: 0.4494\ttraining's binary_error: 0.150281\tvalid_1's binary_logloss: 0.447698\tvalid_1's binary_error: 0.128492\n",
      "  7%|▌       | 7/100 [00:06<01:27,  1.06trial/s, best loss: 0.42563452297869253]"
     ]
    },
    {
     "name": "stderr",
     "output_type": "stream",
     "text": [
      "2022/01/01 18:13:41 2 [INFO] {'bagging_fraction': 0.8747054697065724, 'feature_fraction': 0.9095557343976887, 'lambda_l1': 0.9947893346866463, 'lambda_l2': 0.010336773956663933, 'learning_rate': 0.01, 'max_leaves': 71, 'metric': ('binary_logloss', 'binary_error'), 'min_data_in_leaf': 38, 'objective': 'binary', 'seed': 0, 'verbose': -1}\n"
     ]
    },
    {
     "name": "stdout",
     "output_type": "stream",
     "text": [
      "Training until validation scores don't improve for 40 rounds                    \n",
      "  7%|▌       | 7/100 [00:06<01:27,  1.06trial/s, best loss: 0.42563452297869253]"
     ]
    },
    {
     "name": "stderr",
     "output_type": "stream",
     "text": [
      "/Users/g-ogaki/miniforge3/lib/python3.9/site-packages/lightgbm/engine.py:181: UserWarning: 'early_stopping_rounds' argument is deprecated and will be removed in a future release of LightGBM. Pass 'early_stopping()' callback via 'callbacks' argument instead.\n",
      "  _log_warning(\"'early_stopping_rounds' argument is deprecated and will be removed in a future release of LightGBM. \"\n",
      "\n",
      "/Users/g-ogaki/miniforge3/lib/python3.9/site-packages/lightgbm/engine.py:239: UserWarning: 'verbose_eval' argument is deprecated and will be removed in a future release of LightGBM. Pass 'log_evaluation()' callback via 'callbacks' argument instead.\n",
      "  _log_warning(\"'verbose_eval' argument is deprecated and will be removed in a future release of LightGBM. \"\n",
      "\n"
     ]
    },
    {
     "name": "stdout",
     "output_type": "stream",
     "text": [
      "Early stopping, best iteration is:                                              \n",
      "[29]\ttraining's binary_logloss: 0.562249\ttraining's binary_error: 0.191011\tvalid_1's binary_logloss: 0.557446\tvalid_1's binary_error: 0.173184\n",
      "  8%|▋       | 8/100 [00:06<01:10,  1.31trial/s, best loss: 0.42563452297869253]"
     ]
    },
    {
     "name": "stderr",
     "output_type": "stream",
     "text": [
      "2022/01/01 18:13:42 2 [INFO] {'bagging_fraction': 0.9610939290447331, 'feature_fraction': 0.9048167183022058, 'lambda_l1': 0.22400659102801815, 'lambda_l2': 0.20854089356140731, 'learning_rate': 0.01, 'max_leaves': 58, 'metric': ('binary_logloss', 'binary_error'), 'min_data_in_leaf': 20, 'objective': 'binary', 'seed': 0, 'verbose': -1}\n"
     ]
    },
    {
     "name": "stdout",
     "output_type": "stream",
     "text": [
      "Training until validation scores don't improve for 40 rounds                    \n",
      "  8%|▋       | 8/100 [00:06<01:10,  1.31trial/s, best loss: 0.42563452297869253]"
     ]
    },
    {
     "name": "stderr",
     "output_type": "stream",
     "text": [
      "/Users/g-ogaki/miniforge3/lib/python3.9/site-packages/lightgbm/engine.py:181: UserWarning: 'early_stopping_rounds' argument is deprecated and will be removed in a future release of LightGBM. Pass 'early_stopping()' callback via 'callbacks' argument instead.\n",
      "  _log_warning(\"'early_stopping_rounds' argument is deprecated and will be removed in a future release of LightGBM. \"\n",
      "\n",
      "/Users/g-ogaki/miniforge3/lib/python3.9/site-packages/lightgbm/engine.py:239: UserWarning: 'verbose_eval' argument is deprecated and will be removed in a future release of LightGBM. Pass 'log_evaluation()' callback via 'callbacks' argument instead.\n",
      "  _log_warning(\"'verbose_eval' argument is deprecated and will be removed in a future release of LightGBM. \"\n",
      "\n"
     ]
    },
    {
     "name": "stdout",
     "output_type": "stream",
     "text": [
      "Early stopping, best iteration is:                                              \n",
      "[77]\ttraining's binary_logloss: 0.445453\ttraining's binary_error: 0.150281\tvalid_1's binary_logloss: 0.456839\tvalid_1's binary_error: 0.145251\n",
      "  9%|▋       | 9/100 [00:07<01:18,  1.16trial/s, best loss: 0.42563452297869253]"
     ]
    },
    {
     "name": "stderr",
     "output_type": "stream",
     "text": [
      "2022/01/01 18:13:43 2 [INFO] {'bagging_fraction': 0.8583882993969977, 'feature_fraction': 0.8422672891450689, 'lambda_l1': 0.023028187819311846, 'lambda_l2': 0.015470865741884502, 'learning_rate': 0.01, 'max_leaves': 75, 'metric': ('binary_logloss', 'binary_error'), 'min_data_in_leaf': 25, 'objective': 'binary', 'seed': 0, 'verbose': -1}\n"
     ]
    },
    {
     "name": "stdout",
     "output_type": "stream",
     "text": [
      "Training until validation scores don't improve for 40 rounds                    \n",
      "  9%|▋       | 9/100 [00:07<01:18,  1.16trial/s, best loss: 0.42563452297869253]"
     ]
    },
    {
     "name": "stderr",
     "output_type": "stream",
     "text": [
      "/Users/g-ogaki/miniforge3/lib/python3.9/site-packages/lightgbm/engine.py:181: UserWarning: 'early_stopping_rounds' argument is deprecated and will be removed in a future release of LightGBM. Pass 'early_stopping()' callback via 'callbacks' argument instead.\n",
      "  _log_warning(\"'early_stopping_rounds' argument is deprecated and will be removed in a future release of LightGBM. \"\n",
      "\n",
      "/Users/g-ogaki/miniforge3/lib/python3.9/site-packages/lightgbm/engine.py:239: UserWarning: 'verbose_eval' argument is deprecated and will be removed in a future release of LightGBM. Pass 'log_evaluation()' callback via 'callbacks' argument instead.\n",
      "  _log_warning(\"'verbose_eval' argument is deprecated and will be removed in a future release of LightGBM. \"\n",
      "\n"
     ]
    },
    {
     "name": "stdout",
     "output_type": "stream",
     "text": [
      "Early stopping, best iteration is:                                              \n",
      "[86]\ttraining's binary_logloss: 0.432533\ttraining's binary_error: 0.15309\tvalid_1's binary_logloss: 0.444623\tvalid_1's binary_error: 0.145251\n",
      " 10%|▋      | 10/100 [00:08<01:30,  1.00s/trial, best loss: 0.42563452297869253]"
     ]
    },
    {
     "name": "stderr",
     "output_type": "stream",
     "text": [
      "2022/01/01 18:13:44 2 [INFO] {'bagging_fraction': 0.9071038716668786, 'feature_fraction': 0.8823028350118535, 'lambda_l1': 0.027382312966319645, 'lambda_l2': 0.0242794694514308, 'learning_rate': 0.01, 'max_leaves': 73, 'metric': ('binary_logloss', 'binary_error'), 'min_data_in_leaf': 49, 'objective': 'binary', 'seed': 0, 'verbose': -1}\n"
     ]
    },
    {
     "name": "stdout",
     "output_type": "stream",
     "text": [
      "Training until validation scores don't improve for 40 rounds                    \n",
      " 10%|▋      | 10/100 [00:08<01:30,  1.00s/trial, best loss: 0.42563452297869253]"
     ]
    },
    {
     "name": "stderr",
     "output_type": "stream",
     "text": [
      "/Users/g-ogaki/miniforge3/lib/python3.9/site-packages/lightgbm/engine.py:181: UserWarning: 'early_stopping_rounds' argument is deprecated and will be removed in a future release of LightGBM. Pass 'early_stopping()' callback via 'callbacks' argument instead.\n",
      "  _log_warning(\"'early_stopping_rounds' argument is deprecated and will be removed in a future release of LightGBM. \"\n",
      "\n",
      "/Users/g-ogaki/miniforge3/lib/python3.9/site-packages/lightgbm/engine.py:239: UserWarning: 'verbose_eval' argument is deprecated and will be removed in a future release of LightGBM. Pass 'log_evaluation()' callback via 'callbacks' argument instead.\n",
      "  _log_warning(\"'verbose_eval' argument is deprecated and will be removed in a future release of LightGBM. \"\n",
      "\n"
     ]
    },
    {
     "name": "stdout",
     "output_type": "stream",
     "text": [
      "Early stopping, best iteration is:                                              \n",
      "[87]\ttraining's binary_logloss: 0.447107\ttraining's binary_error: 0.150281\tvalid_1's binary_logloss: 0.439275\tvalid_1's binary_error: 0.122905\n",
      " 11%|▊      | 11/100 [00:09<01:20,  1.10trial/s, best loss: 0.42563452297869253]"
     ]
    },
    {
     "name": "stderr",
     "output_type": "stream",
     "text": [
      "2022/01/01 18:13:45 2 [INFO] {'bagging_fraction': 0.8945466012132973, 'feature_fraction': 0.9074747070326172, 'lambda_l1': 0.06852199633781554, 'lambda_l2': 0.19689988231351715, 'learning_rate': 0.01, 'max_leaves': 60, 'metric': ('binary_logloss', 'binary_error'), 'min_data_in_leaf': 24, 'objective': 'binary', 'seed': 0, 'verbose': -1}\n"
     ]
    },
    {
     "name": "stdout",
     "output_type": "stream",
     "text": [
      "Training until validation scores don't improve for 40 rounds                    \n",
      " 11%|▊      | 11/100 [00:09<01:20,  1.10trial/s, best loss: 0.42563452297869253]"
     ]
    },
    {
     "name": "stderr",
     "output_type": "stream",
     "text": [
      "/Users/g-ogaki/miniforge3/lib/python3.9/site-packages/lightgbm/engine.py:181: UserWarning: 'early_stopping_rounds' argument is deprecated and will be removed in a future release of LightGBM. Pass 'early_stopping()' callback via 'callbacks' argument instead.\n",
      "  _log_warning(\"'early_stopping_rounds' argument is deprecated and will be removed in a future release of LightGBM. \"\n",
      "\n",
      "/Users/g-ogaki/miniforge3/lib/python3.9/site-packages/lightgbm/engine.py:239: UserWarning: 'verbose_eval' argument is deprecated and will be removed in a future release of LightGBM. Pass 'log_evaluation()' callback via 'callbacks' argument instead.\n",
      "  _log_warning(\"'verbose_eval' argument is deprecated and will be removed in a future release of LightGBM. \"\n",
      "\n"
     ]
    },
    {
     "name": "stdout",
     "output_type": "stream",
     "text": [
      "Early stopping, best iteration is:                                              \n",
      "[158]\ttraining's binary_logloss: 0.363892\ttraining's binary_error: 0.140449\tvalid_1's binary_logloss: 0.381383\tvalid_1's binary_error: 0.122905\n",
      " 12%|▉       | 12/100 [00:11<01:47,  1.22s/trial, best loss: 0.3813828084794233]"
     ]
    },
    {
     "name": "stderr",
     "output_type": "stream",
     "text": [
      "2022/01/01 18:13:47 2 [INFO] {'bagging_fraction': 0.8268131219307447, 'feature_fraction': 0.9692732441043844, 'lambda_l1': 0.04489216013883436, 'lambda_l2': 0.21263671254634356, 'learning_rate': 0.01, 'max_leaves': 32, 'metric': ('binary_logloss', 'binary_error'), 'min_data_in_leaf': 41, 'objective': 'binary', 'seed': 0, 'verbose': -1}\n"
     ]
    },
    {
     "name": "stdout",
     "output_type": "stream",
     "text": [
      "Training until validation scores don't improve for 40 rounds                    \n",
      " 12%|▉       | 12/100 [00:11<01:47,  1.22s/trial, best loss: 0.3813828084794233]"
     ]
    },
    {
     "name": "stderr",
     "output_type": "stream",
     "text": [
      "/Users/g-ogaki/miniforge3/lib/python3.9/site-packages/lightgbm/engine.py:181: UserWarning: 'early_stopping_rounds' argument is deprecated and will be removed in a future release of LightGBM. Pass 'early_stopping()' callback via 'callbacks' argument instead.\n",
      "  _log_warning(\"'early_stopping_rounds' argument is deprecated and will be removed in a future release of LightGBM. \"\n",
      "\n",
      "/Users/g-ogaki/miniforge3/lib/python3.9/site-packages/lightgbm/engine.py:239: UserWarning: 'verbose_eval' argument is deprecated and will be removed in a future release of LightGBM. Pass 'log_evaluation()' callback via 'callbacks' argument instead.\n",
      "  _log_warning(\"'verbose_eval' argument is deprecated and will be removed in a future release of LightGBM. \"\n",
      "\n"
     ]
    },
    {
     "name": "stdout",
     "output_type": "stream",
     "text": [
      "Early stopping, best iteration is:                                              \n",
      "[82]\ttraining's binary_logloss: 0.452015\ttraining's binary_error: 0.150281\tvalid_1's binary_logloss: 0.44251\tvalid_1's binary_error: 0.122905\n",
      " 13%|█       | 13/100 [00:12<01:31,  1.05s/trial, best loss: 0.3813828084794233]"
     ]
    },
    {
     "name": "stderr",
     "output_type": "stream",
     "text": [
      "2022/01/01 18:13:47 2 [INFO] {'bagging_fraction': 0.9085251285819009, 'feature_fraction': 0.8698665108621202, 'lambda_l1': 0.027937273411365093, 'lambda_l2': 0.11600615442111832, 'learning_rate': 0.01, 'max_leaves': 39, 'metric': ('binary_logloss', 'binary_error'), 'min_data_in_leaf': 37, 'objective': 'binary', 'seed': 0, 'verbose': -1}\n"
     ]
    },
    {
     "name": "stdout",
     "output_type": "stream",
     "text": [
      "Training until validation scores don't improve for 40 rounds                    \n",
      " 13%|█       | 13/100 [00:12<01:31,  1.05s/trial, best loss: 0.3813828084794233]"
     ]
    },
    {
     "name": "stderr",
     "output_type": "stream",
     "text": [
      "/Users/g-ogaki/miniforge3/lib/python3.9/site-packages/lightgbm/engine.py:181: UserWarning: 'early_stopping_rounds' argument is deprecated and will be removed in a future release of LightGBM. Pass 'early_stopping()' callback via 'callbacks' argument instead.\n",
      "  _log_warning(\"'early_stopping_rounds' argument is deprecated and will be removed in a future release of LightGBM. \"\n",
      "\n",
      "/Users/g-ogaki/miniforge3/lib/python3.9/site-packages/lightgbm/engine.py:239: UserWarning: 'verbose_eval' argument is deprecated and will be removed in a future release of LightGBM. Pass 'log_evaluation()' callback via 'callbacks' argument instead.\n",
      "  _log_warning(\"'verbose_eval' argument is deprecated and will be removed in a future release of LightGBM. \"\n",
      "\n"
     ]
    },
    {
     "name": "stdout",
     "output_type": "stream",
     "text": [
      "Early stopping, best iteration is:                                              \n",
      "[79]\ttraining's binary_logloss: 0.448518\ttraining's binary_error: 0.150281\tvalid_1's binary_logloss: 0.446535\tvalid_1's binary_error: 0.128492\n",
      " 14%|█       | 14/100 [00:13<01:24,  1.02trial/s, best loss: 0.3813828084794233]"
     ]
    },
    {
     "name": "stderr",
     "output_type": "stream",
     "text": [
      "2022/01/01 18:13:48 2 [INFO] {'bagging_fraction': 0.8065993096022748, 'feature_fraction': 0.8567153509411258, 'lambda_l1': 0.010975569663216488, 'lambda_l2': 0.6404782690837102, 'learning_rate': 0.01, 'max_leaves': 49, 'metric': ('binary_logloss', 'binary_error'), 'min_data_in_leaf': 42, 'objective': 'binary', 'seed': 0, 'verbose': -1}\n"
     ]
    },
    {
     "name": "stdout",
     "output_type": "stream",
     "text": [
      "Training until validation scores don't improve for 40 rounds                    \n",
      " 14%|█       | 14/100 [00:13<01:24,  1.02trial/s, best loss: 0.3813828084794233]"
     ]
    },
    {
     "name": "stderr",
     "output_type": "stream",
     "text": [
      "/Users/g-ogaki/miniforge3/lib/python3.9/site-packages/lightgbm/engine.py:181: UserWarning: 'early_stopping_rounds' argument is deprecated and will be removed in a future release of LightGBM. Pass 'early_stopping()' callback via 'callbacks' argument instead.\n",
      "  _log_warning(\"'early_stopping_rounds' argument is deprecated and will be removed in a future release of LightGBM. \"\n",
      "\n",
      "/Users/g-ogaki/miniforge3/lib/python3.9/site-packages/lightgbm/engine.py:239: UserWarning: 'verbose_eval' argument is deprecated and will be removed in a future release of LightGBM. Pass 'log_evaluation()' callback via 'callbacks' argument instead.\n",
      "  _log_warning(\"'verbose_eval' argument is deprecated and will be removed in a future release of LightGBM. \"\n",
      "\n"
     ]
    },
    {
     "name": "stdout",
     "output_type": "stream",
     "text": [
      "Early stopping, best iteration is:                                              \n",
      "[89]\ttraining's binary_logloss: 0.446436\ttraining's binary_error: 0.150281\tvalid_1's binary_logloss: 0.439463\tvalid_1's binary_error: 0.122905\n",
      " 15%|█▏      | 15/100 [00:13<01:17,  1.10trial/s, best loss: 0.3813828084794233]"
     ]
    },
    {
     "name": "stderr",
     "output_type": "stream",
     "text": [
      "2022/01/01 18:13:49 2 [INFO] {'bagging_fraction': 0.9087137094206654, 'feature_fraction': 0.8219046475433551, 'lambda_l1': 0.03344121281250751, 'lambda_l2': 0.010121164894077187, 'learning_rate': 0.01, 'max_leaves': 49, 'metric': ('binary_logloss', 'binary_error'), 'min_data_in_leaf': 45, 'objective': 'binary', 'seed': 0, 'verbose': -1}\n"
     ]
    },
    {
     "name": "stdout",
     "output_type": "stream",
     "text": [
      "Training until validation scores don't improve for 40 rounds                    \n",
      " 15%|█▏      | 15/100 [00:13<01:17,  1.10trial/s, best loss: 0.3813828084794233]"
     ]
    },
    {
     "name": "stderr",
     "output_type": "stream",
     "text": [
      "/Users/g-ogaki/miniforge3/lib/python3.9/site-packages/lightgbm/engine.py:181: UserWarning: 'early_stopping_rounds' argument is deprecated and will be removed in a future release of LightGBM. Pass 'early_stopping()' callback via 'callbacks' argument instead.\n",
      "  _log_warning(\"'early_stopping_rounds' argument is deprecated and will be removed in a future release of LightGBM. \"\n",
      "\n",
      "/Users/g-ogaki/miniforge3/lib/python3.9/site-packages/lightgbm/engine.py:239: UserWarning: 'verbose_eval' argument is deprecated and will be removed in a future release of LightGBM. Pass 'log_evaluation()' callback via 'callbacks' argument instead.\n",
      "  _log_warning(\"'verbose_eval' argument is deprecated and will be removed in a future release of LightGBM. \"\n",
      "\n"
     ]
    },
    {
     "name": "stdout",
     "output_type": "stream",
     "text": [
      "Early stopping, best iteration is:                                              \n",
      "[124]\ttraining's binary_logloss: 0.413054\ttraining's binary_error: 0.150281\tvalid_1's binary_logloss: 0.408923\tvalid_1's binary_error: 0.122905\n",
      " 16%|█▎      | 16/100 [00:14<01:17,  1.08trial/s, best loss: 0.3813828084794233]"
     ]
    },
    {
     "name": "stderr",
     "output_type": "stream",
     "text": [
      "2022/01/01 18:13:50 2 [INFO] {'bagging_fraction': 0.9840409569668922, 'feature_fraction': 0.8612813698605514, 'lambda_l1': 0.7446042548056131, 'lambda_l2': 0.12155081086401852, 'learning_rate': 0.01, 'max_leaves': 35, 'metric': ('binary_logloss', 'binary_error'), 'min_data_in_leaf': 37, 'objective': 'binary', 'seed': 0, 'verbose': -1}\n"
     ]
    },
    {
     "name": "stdout",
     "output_type": "stream",
     "text": [
      "Training until validation scores don't improve for 40 rounds                    \n",
      " 16%|█▎      | 16/100 [00:14<01:17,  1.08trial/s, best loss: 0.3813828084794233]"
     ]
    },
    {
     "name": "stderr",
     "output_type": "stream",
     "text": [
      "/Users/g-ogaki/miniforge3/lib/python3.9/site-packages/lightgbm/engine.py:181: UserWarning: 'early_stopping_rounds' argument is deprecated and will be removed in a future release of LightGBM. Pass 'early_stopping()' callback via 'callbacks' argument instead.\n",
      "  _log_warning(\"'early_stopping_rounds' argument is deprecated and will be removed in a future release of LightGBM. \"\n",
      "\n",
      "/Users/g-ogaki/miniforge3/lib/python3.9/site-packages/lightgbm/engine.py:239: UserWarning: 'verbose_eval' argument is deprecated and will be removed in a future release of LightGBM. Pass 'log_evaluation()' callback via 'callbacks' argument instead.\n",
      "  _log_warning(\"'verbose_eval' argument is deprecated and will be removed in a future release of LightGBM. \"\n",
      "\n"
     ]
    },
    {
     "name": "stdout",
     "output_type": "stream",
     "text": [
      "Early stopping, best iteration is:                                              \n",
      "[77]\ttraining's binary_logloss: 0.4579\ttraining's binary_error: 0.151685\tvalid_1's binary_logloss: 0.454134\tvalid_1's binary_error: 0.128492\n",
      " 17%|█▎      | 17/100 [00:15<01:08,  1.22trial/s, best loss: 0.3813828084794233]"
     ]
    },
    {
     "name": "stderr",
     "output_type": "stream",
     "text": [
      "2022/01/01 18:13:50 2 [INFO] {'bagging_fraction': 0.9622954650432527, 'feature_fraction': 0.9883901793591314, 'lambda_l1': 0.05847577587657012, 'lambda_l2': 0.07743186421992249, 'learning_rate': 0.01, 'max_leaves': 38, 'metric': ('binary_logloss', 'binary_error'), 'min_data_in_leaf': 24, 'objective': 'binary', 'seed': 0, 'verbose': -1}\n"
     ]
    },
    {
     "name": "stdout",
     "output_type": "stream",
     "text": [
      "Training until validation scores don't improve for 40 rounds                    \n",
      " 17%|█▎      | 17/100 [00:15<01:08,  1.22trial/s, best loss: 0.3813828084794233]"
     ]
    },
    {
     "name": "stderr",
     "output_type": "stream",
     "text": [
      "/Users/g-ogaki/miniforge3/lib/python3.9/site-packages/lightgbm/engine.py:181: UserWarning: 'early_stopping_rounds' argument is deprecated and will be removed in a future release of LightGBM. Pass 'early_stopping()' callback via 'callbacks' argument instead.\n",
      "  _log_warning(\"'early_stopping_rounds' argument is deprecated and will be removed in a future release of LightGBM. \"\n",
      "\n",
      "/Users/g-ogaki/miniforge3/lib/python3.9/site-packages/lightgbm/engine.py:239: UserWarning: 'verbose_eval' argument is deprecated and will be removed in a future release of LightGBM. Pass 'log_evaluation()' callback via 'callbacks' argument instead.\n",
      "  _log_warning(\"'verbose_eval' argument is deprecated and will be removed in a future release of LightGBM. \"\n",
      "\n"
     ]
    },
    {
     "name": "stdout",
     "output_type": "stream",
     "text": [
      "Early stopping, best iteration is:                                              \n",
      "[65]\ttraining's binary_logloss: 0.463213\ttraining's binary_error: 0.15309\tvalid_1's binary_logloss: 0.474878\tvalid_1's binary_error: 0.145251\n",
      " 18%|█▍      | 18/100 [00:16<01:07,  1.22trial/s, best loss: 0.3813828084794233]"
     ]
    },
    {
     "name": "stderr",
     "output_type": "stream",
     "text": [
      "2022/01/01 18:13:51 2 [INFO] {'bagging_fraction': 0.8119903070340029, 'feature_fraction': 0.906391288361413, 'lambda_l1': 0.037253978122183014, 'lambda_l2': 0.05325925975867447, 'learning_rate': 0.01, 'max_leaves': 38, 'metric': ('binary_logloss', 'binary_error'), 'min_data_in_leaf': 49, 'objective': 'binary', 'seed': 0, 'verbose': -1}\n"
     ]
    },
    {
     "name": "stdout",
     "output_type": "stream",
     "text": [
      "Training until validation scores don't improve for 40 rounds                    \n",
      " 18%|█▍      | 18/100 [00:16<01:07,  1.22trial/s, best loss: 0.3813828084794233]"
     ]
    },
    {
     "name": "stderr",
     "output_type": "stream",
     "text": [
      "/Users/g-ogaki/miniforge3/lib/python3.9/site-packages/lightgbm/engine.py:181: UserWarning: 'early_stopping_rounds' argument is deprecated and will be removed in a future release of LightGBM. Pass 'early_stopping()' callback via 'callbacks' argument instead.\n",
      "  _log_warning(\"'early_stopping_rounds' argument is deprecated and will be removed in a future release of LightGBM. \"\n",
      "\n",
      "/Users/g-ogaki/miniforge3/lib/python3.9/site-packages/lightgbm/engine.py:239: UserWarning: 'verbose_eval' argument is deprecated and will be removed in a future release of LightGBM. Pass 'log_evaluation()' callback via 'callbacks' argument instead.\n",
      "  _log_warning(\"'verbose_eval' argument is deprecated and will be removed in a future release of LightGBM. \"\n",
      "\n"
     ]
    },
    {
     "name": "stdout",
     "output_type": "stream",
     "text": [
      "Early stopping, best iteration is:                                              \n",
      "[87]\ttraining's binary_logloss: 0.447399\ttraining's binary_error: 0.150281\tvalid_1's binary_logloss: 0.439482\tvalid_1's binary_error: 0.122905\n",
      " 19%|█▌      | 19/100 [00:16<01:01,  1.31trial/s, best loss: 0.3813828084794233]"
     ]
    },
    {
     "name": "stderr",
     "output_type": "stream",
     "text": [
      "2022/01/01 18:13:52 2 [INFO] {'bagging_fraction': 0.8069886300027858, 'feature_fraction': 0.8823397781103186, 'lambda_l1': 0.0770656804143371, 'lambda_l2': 0.02387984630665026, 'learning_rate': 0.01, 'max_leaves': 80, 'metric': ('binary_logloss', 'binary_error'), 'min_data_in_leaf': 42, 'objective': 'binary', 'seed': 0, 'verbose': -1}\n"
     ]
    },
    {
     "name": "stdout",
     "output_type": "stream",
     "text": [
      "Training until validation scores don't improve for 40 rounds                    \n",
      " 19%|█▌      | 19/100 [00:16<01:01,  1.31trial/s, best loss: 0.3813828084794233]"
     ]
    },
    {
     "name": "stderr",
     "output_type": "stream",
     "text": [
      "/Users/g-ogaki/miniforge3/lib/python3.9/site-packages/lightgbm/engine.py:181: UserWarning: 'early_stopping_rounds' argument is deprecated and will be removed in a future release of LightGBM. Pass 'early_stopping()' callback via 'callbacks' argument instead.\n",
      "  _log_warning(\"'early_stopping_rounds' argument is deprecated and will be removed in a future release of LightGBM. \"\n",
      "\n",
      "/Users/g-ogaki/miniforge3/lib/python3.9/site-packages/lightgbm/engine.py:239: UserWarning: 'verbose_eval' argument is deprecated and will be removed in a future release of LightGBM. Pass 'log_evaluation()' callback via 'callbacks' argument instead.\n",
      "  _log_warning(\"'verbose_eval' argument is deprecated and will be removed in a future release of LightGBM. \"\n",
      "\n"
     ]
    },
    {
     "name": "stdout",
     "output_type": "stream",
     "text": [
      "Early stopping, best iteration is:                                              \n",
      "[90]\ttraining's binary_logloss: 0.441152\ttraining's binary_error: 0.150281\tvalid_1's binary_logloss: 0.434171\tvalid_1's binary_error: 0.122905\n",
      " 20%|█▌      | 20/100 [00:17<00:58,  1.37trial/s, best loss: 0.3813828084794233]"
     ]
    },
    {
     "name": "stderr",
     "output_type": "stream",
     "text": [
      "2022/01/01 18:13:53 2 [INFO] {'bagging_fraction': 0.8807519184061097, 'feature_fraction': 0.9315856720398553, 'lambda_l1': 0.11807213911020714, 'lambda_l2': 0.35590640432803716, 'learning_rate': 0.01, 'max_leaves': 51, 'metric': ('binary_logloss', 'binary_error'), 'min_data_in_leaf': 11, 'objective': 'binary', 'seed': 0, 'verbose': -1}\n"
     ]
    },
    {
     "name": "stdout",
     "output_type": "stream",
     "text": [
      "Training until validation scores don't improve for 40 rounds                    \n",
      " 20%|█▌      | 20/100 [00:17<00:58,  1.37trial/s, best loss: 0.3813828084794233]"
     ]
    },
    {
     "name": "stderr",
     "output_type": "stream",
     "text": [
      "/Users/g-ogaki/miniforge3/lib/python3.9/site-packages/lightgbm/engine.py:181: UserWarning: 'early_stopping_rounds' argument is deprecated and will be removed in a future release of LightGBM. Pass 'early_stopping()' callback via 'callbacks' argument instead.\n",
      "  _log_warning(\"'early_stopping_rounds' argument is deprecated and will be removed in a future release of LightGBM. \"\n",
      "\n",
      "/Users/g-ogaki/miniforge3/lib/python3.9/site-packages/lightgbm/engine.py:239: UserWarning: 'verbose_eval' argument is deprecated and will be removed in a future release of LightGBM. Pass 'log_evaluation()' callback via 'callbacks' argument instead.\n",
      "  _log_warning(\"'verbose_eval' argument is deprecated and will be removed in a future release of LightGBM. \"\n",
      "\n"
     ]
    },
    {
     "name": "stdout",
     "output_type": "stream",
     "text": [
      "Early stopping, best iteration is:                                              \n",
      "[50]\ttraining's binary_logloss: 0.483677\ttraining's binary_error: 0.147472\tvalid_1's binary_logloss: 0.489717\tvalid_1's binary_error: 0.117318\n",
      " 21%|█▋      | 21/100 [00:18<01:05,  1.20trial/s, best loss: 0.3813828084794233]"
     ]
    },
    {
     "name": "stderr",
     "output_type": "stream",
     "text": [
      "2022/01/01 18:13:54 2 [INFO] {'bagging_fraction': 0.9364244179314883, 'feature_fraction': 0.8027147894022746, 'lambda_l1': 0.01041817058140209, 'lambda_l2': 0.40985428763032994, 'learning_rate': 0.01, 'max_leaves': 56, 'metric': ('binary_logloss', 'binary_error'), 'min_data_in_leaf': 30, 'objective': 'binary', 'seed': 0, 'verbose': -1}\n"
     ]
    },
    {
     "name": "stdout",
     "output_type": "stream",
     "text": [
      "Training until validation scores don't improve for 40 rounds                    \n",
      " 21%|█▋      | 21/100 [00:18<01:05,  1.20trial/s, best loss: 0.3813828084794233]"
     ]
    },
    {
     "name": "stderr",
     "output_type": "stream",
     "text": [
      "/Users/g-ogaki/miniforge3/lib/python3.9/site-packages/lightgbm/engine.py:181: UserWarning: 'early_stopping_rounds' argument is deprecated and will be removed in a future release of LightGBM. Pass 'early_stopping()' callback via 'callbacks' argument instead.\n",
      "  _log_warning(\"'early_stopping_rounds' argument is deprecated and will be removed in a future release of LightGBM. \"\n",
      "\n",
      "/Users/g-ogaki/miniforge3/lib/python3.9/site-packages/lightgbm/engine.py:239: UserWarning: 'verbose_eval' argument is deprecated and will be removed in a future release of LightGBM. Pass 'log_evaluation()' callback via 'callbacks' argument instead.\n",
      "  _log_warning(\"'verbose_eval' argument is deprecated and will be removed in a future release of LightGBM. \"\n",
      "\n"
     ]
    },
    {
     "name": "stdout",
     "output_type": "stream",
     "text": [
      "Early stopping, best iteration is:                                              \n",
      "[122]\ttraining's binary_logloss: 0.401846\ttraining's binary_error: 0.148876\tvalid_1's binary_logloss: 0.408654\tvalid_1's binary_error: 0.128492\n",
      " 22%|█▊      | 22/100 [00:19<01:09,  1.12trial/s, best loss: 0.3813828084794233]"
     ]
    },
    {
     "name": "stderr",
     "output_type": "stream",
     "text": [
      "2022/01/01 18:13:55 2 [INFO] {'bagging_fraction': 0.9983920745550748, 'feature_fraction': 0.9426916463997671, 'lambda_l1': 0.011822688663296771, 'lambda_l2': 0.44034415399584126, 'learning_rate': 0.01, 'max_leaves': 67, 'metric': ('binary_logloss', 'binary_error'), 'min_data_in_leaf': 30, 'objective': 'binary', 'seed': 0, 'verbose': -1}\n"
     ]
    },
    {
     "name": "stdout",
     "output_type": "stream",
     "text": [
      "Training until validation scores don't improve for 40 rounds                    \n",
      " 22%|█▊      | 22/100 [00:19<01:09,  1.12trial/s, best loss: 0.3813828084794233]"
     ]
    },
    {
     "name": "stderr",
     "output_type": "stream",
     "text": [
      "/Users/g-ogaki/miniforge3/lib/python3.9/site-packages/lightgbm/engine.py:181: UserWarning: 'early_stopping_rounds' argument is deprecated and will be removed in a future release of LightGBM. Pass 'early_stopping()' callback via 'callbacks' argument instead.\n",
      "  _log_warning(\"'early_stopping_rounds' argument is deprecated and will be removed in a future release of LightGBM. \"\n",
      "\n",
      "/Users/g-ogaki/miniforge3/lib/python3.9/site-packages/lightgbm/engine.py:239: UserWarning: 'verbose_eval' argument is deprecated and will be removed in a future release of LightGBM. Pass 'log_evaluation()' callback via 'callbacks' argument instead.\n",
      "  _log_warning(\"'verbose_eval' argument is deprecated and will be removed in a future release of LightGBM. \"\n",
      "\n"
     ]
    },
    {
     "name": "stdout",
     "output_type": "stream",
     "text": [
      "Early stopping, best iteration is:                                              \n",
      "[94]\ttraining's binary_logloss: 0.427258\ttraining's binary_error: 0.151685\tvalid_1's binary_logloss: 0.430324\tvalid_1's binary_error: 0.128492\n",
      " 23%|█▊      | 23/100 [00:20<01:09,  1.11trial/s, best loss: 0.3813828084794233]"
     ]
    },
    {
     "name": "stderr",
     "output_type": "stream",
     "text": [
      "2022/01/01 18:13:56 2 [INFO] {'bagging_fraction': 0.9339863731248625, 'feature_fraction': 0.9318763304335813, 'lambda_l1': 0.5205919204638487, 'lambda_l2': 0.3435340244894375, 'learning_rate': 0.01, 'max_leaves': 55, 'metric': ('binary_logloss', 'binary_error'), 'min_data_in_leaf': 24, 'objective': 'binary', 'seed': 0, 'verbose': -1}\n"
     ]
    },
    {
     "name": "stdout",
     "output_type": "stream",
     "text": [
      "Training until validation scores don't improve for 40 rounds                    \n",
      " 23%|█▊      | 23/100 [00:20<01:09,  1.11trial/s, best loss: 0.3813828084794233]"
     ]
    },
    {
     "name": "stderr",
     "output_type": "stream",
     "text": [
      "/Users/g-ogaki/miniforge3/lib/python3.9/site-packages/lightgbm/engine.py:181: UserWarning: 'early_stopping_rounds' argument is deprecated and will be removed in a future release of LightGBM. Pass 'early_stopping()' callback via 'callbacks' argument instead.\n",
      "  _log_warning(\"'early_stopping_rounds' argument is deprecated and will be removed in a future release of LightGBM. \"\n",
      "\n",
      "/Users/g-ogaki/miniforge3/lib/python3.9/site-packages/lightgbm/engine.py:239: UserWarning: 'verbose_eval' argument is deprecated and will be removed in a future release of LightGBM. Pass 'log_evaluation()' callback via 'callbacks' argument instead.\n",
      "  _log_warning(\"'verbose_eval' argument is deprecated and will be removed in a future release of LightGBM. \"\n",
      "\n"
     ]
    },
    {
     "name": "stdout",
     "output_type": "stream",
     "text": [
      "Early stopping, best iteration is:                                              \n",
      "[73]\ttraining's binary_logloss: 0.458903\ttraining's binary_error: 0.150281\tvalid_1's binary_logloss: 0.46401\tvalid_1's binary_error: 0.139665\n",
      " 24%|█▉      | 24/100 [00:21<01:03,  1.19trial/s, best loss: 0.3813828084794233]"
     ]
    },
    {
     "name": "stderr",
     "output_type": "stream",
     "text": [
      "2022/01/01 18:13:56 2 [INFO] {'bagging_fraction': 0.9588641405447882, 'feature_fraction': 0.9486586561737792, 'lambda_l1': 0.5066325231504712, 'lambda_l2': 0.6237871658880196, 'learning_rate': 0.01, 'max_leaves': 65, 'metric': ('binary_logloss', 'binary_error'), 'min_data_in_leaf': 28, 'objective': 'binary', 'seed': 0, 'verbose': -1}\n"
     ]
    },
    {
     "name": "stdout",
     "output_type": "stream",
     "text": [
      "Training until validation scores don't improve for 40 rounds                    \n",
      " 24%|█▉      | 24/100 [00:21<01:03,  1.19trial/s, best loss: 0.3813828084794233]"
     ]
    },
    {
     "name": "stderr",
     "output_type": "stream",
     "text": [
      "/Users/g-ogaki/miniforge3/lib/python3.9/site-packages/lightgbm/engine.py:181: UserWarning: 'early_stopping_rounds' argument is deprecated and will be removed in a future release of LightGBM. Pass 'early_stopping()' callback via 'callbacks' argument instead.\n",
      "  _log_warning(\"'early_stopping_rounds' argument is deprecated and will be removed in a future release of LightGBM. \"\n",
      "\n",
      "/Users/g-ogaki/miniforge3/lib/python3.9/site-packages/lightgbm/engine.py:239: UserWarning: 'verbose_eval' argument is deprecated and will be removed in a future release of LightGBM. Pass 'log_evaluation()' callback via 'callbacks' argument instead.\n",
      "  _log_warning(\"'verbose_eval' argument is deprecated and will be removed in a future release of LightGBM. \"\n",
      "\n"
     ]
    },
    {
     "name": "stdout",
     "output_type": "stream",
     "text": [
      "Early stopping, best iteration is:                                              \n",
      "[74]\ttraining's binary_logloss: 0.460224\ttraining's binary_error: 0.151685\tvalid_1's binary_logloss: 0.464559\tvalid_1's binary_error: 0.139665\n",
      " 25%|██      | 25/100 [00:21<01:00,  1.24trial/s, best loss: 0.3813828084794233]"
     ]
    },
    {
     "name": "stderr",
     "output_type": "stream",
     "text": [
      "2022/01/01 18:13:57 2 [INFO] {'bagging_fraction': 0.9362659304488982, 'feature_fraction': 0.8339513158458225, 'lambda_l1': 0.15698029384720674, 'lambda_l2': 0.044003499168400365, 'learning_rate': 0.01, 'max_leaves': 58, 'metric': ('binary_logloss', 'binary_error'), 'min_data_in_leaf': 33, 'objective': 'binary', 'seed': 0, 'verbose': -1}\n"
     ]
    },
    {
     "name": "stdout",
     "output_type": "stream",
     "text": [
      "Training until validation scores don't improve for 40 rounds                    \n",
      " 25%|██      | 25/100 [00:21<01:00,  1.24trial/s, best loss: 0.3813828084794233]"
     ]
    },
    {
     "name": "stderr",
     "output_type": "stream",
     "text": [
      "/Users/g-ogaki/miniforge3/lib/python3.9/site-packages/lightgbm/engine.py:181: UserWarning: 'early_stopping_rounds' argument is deprecated and will be removed in a future release of LightGBM. Pass 'early_stopping()' callback via 'callbacks' argument instead.\n",
      "  _log_warning(\"'early_stopping_rounds' argument is deprecated and will be removed in a future release of LightGBM. \"\n",
      "\n",
      "/Users/g-ogaki/miniforge3/lib/python3.9/site-packages/lightgbm/engine.py:239: UserWarning: 'verbose_eval' argument is deprecated and will be removed in a future release of LightGBM. Pass 'log_evaluation()' callback via 'callbacks' argument instead.\n",
      "  _log_warning(\"'verbose_eval' argument is deprecated and will be removed in a future release of LightGBM. \"\n",
      "\n"
     ]
    },
    {
     "name": "stdout",
     "output_type": "stream",
     "text": [
      "Early stopping, best iteration is:                                              \n",
      "[122]\ttraining's binary_logloss: 0.402306\ttraining's binary_error: 0.150281\tvalid_1's binary_logloss: 0.407444\tvalid_1's binary_error: 0.128492\n",
      " 26%|██      | 26/100 [00:23<01:09,  1.06trial/s, best loss: 0.3813828084794233]"
     ]
    },
    {
     "name": "stderr",
     "output_type": "stream",
     "text": [
      "2022/01/01 18:13:58 2 [INFO] {'bagging_fraction': 0.8639027315512338, 'feature_fraction': 0.8314958287174394, 'lambda_l1': 0.152331719292946, 'lambda_l2': 0.04163779049401039, 'learning_rate': 0.01, 'max_leaves': 59, 'metric': ('binary_logloss', 'binary_error'), 'min_data_in_leaf': 33, 'objective': 'binary', 'seed': 0, 'verbose': -1}\n"
     ]
    },
    {
     "name": "stdout",
     "output_type": "stream",
     "text": [
      "Training until validation scores don't improve for 40 rounds                    \n",
      " 26%|██      | 26/100 [00:23<01:09,  1.06trial/s, best loss: 0.3813828084794233]"
     ]
    },
    {
     "name": "stderr",
     "output_type": "stream",
     "text": [
      "/Users/g-ogaki/miniforge3/lib/python3.9/site-packages/lightgbm/engine.py:181: UserWarning: 'early_stopping_rounds' argument is deprecated and will be removed in a future release of LightGBM. Pass 'early_stopping()' callback via 'callbacks' argument instead.\n",
      "  _log_warning(\"'early_stopping_rounds' argument is deprecated and will be removed in a future release of LightGBM. \"\n",
      "\n",
      "/Users/g-ogaki/miniforge3/lib/python3.9/site-packages/lightgbm/engine.py:239: UserWarning: 'verbose_eval' argument is deprecated and will be removed in a future release of LightGBM. Pass 'log_evaluation()' callback via 'callbacks' argument instead.\n",
      "  _log_warning(\"'verbose_eval' argument is deprecated and will be removed in a future release of LightGBM. \"\n",
      "\n"
     ]
    },
    {
     "name": "stdout",
     "output_type": "stream",
     "text": [
      "Early stopping, best iteration is:                                              \n",
      "[121]\ttraining's binary_logloss: 0.403053\ttraining's binary_error: 0.150281\tvalid_1's binary_logloss: 0.407994\tvalid_1's binary_error: 0.128492\n",
      " 27%|██▏     | 27/100 [00:24<01:13,  1.00s/trial, best loss: 0.3813828084794233]"
     ]
    },
    {
     "name": "stderr",
     "output_type": "stream",
     "text": [
      "2022/01/01 18:13:59 2 [INFO] {'bagging_fraction': 0.8903026025223224, 'feature_fraction': 0.9179666077799203, 'lambda_l1': 0.1851178661815138, 'lambda_l2': 0.03935272142850508, 'learning_rate': 0.01, 'max_leaves': 52, 'metric': ('binary_logloss', 'binary_error'), 'min_data_in_leaf': 21, 'objective': 'binary', 'seed': 0, 'verbose': -1}\n"
     ]
    },
    {
     "name": "stdout",
     "output_type": "stream",
     "text": [
      "Training until validation scores don't improve for 40 rounds                    \n",
      " 27%|██▏     | 27/100 [00:24<01:13,  1.00s/trial, best loss: 0.3813828084794233]"
     ]
    },
    {
     "name": "stderr",
     "output_type": "stream",
     "text": [
      "/Users/g-ogaki/miniforge3/lib/python3.9/site-packages/lightgbm/engine.py:181: UserWarning: 'early_stopping_rounds' argument is deprecated and will be removed in a future release of LightGBM. Pass 'early_stopping()' callback via 'callbacks' argument instead.\n",
      "  _log_warning(\"'early_stopping_rounds' argument is deprecated and will be removed in a future release of LightGBM. \"\n",
      "\n",
      "/Users/g-ogaki/miniforge3/lib/python3.9/site-packages/lightgbm/engine.py:239: UserWarning: 'verbose_eval' argument is deprecated and will be removed in a future release of LightGBM. Pass 'log_evaluation()' callback via 'callbacks' argument instead.\n",
      "  _log_warning(\"'verbose_eval' argument is deprecated and will be removed in a future release of LightGBM. \"\n",
      "\n"
     ]
    },
    {
     "name": "stdout",
     "output_type": "stream",
     "text": [
      "Early stopping, best iteration is:                                              \n",
      "[145]\ttraining's binary_logloss: 0.364137\ttraining's binary_error: 0.139045\tvalid_1's binary_logloss: 0.385112\tvalid_1's binary_error: 0.122905\n",
      " 28%|██▏     | 28/100 [00:25<01:26,  1.20s/trial, best loss: 0.3813828084794233]"
     ]
    },
    {
     "name": "stderr",
     "output_type": "stream",
     "text": [
      "2022/01/01 18:14:01 2 [INFO] {'bagging_fraction': 0.8448713103500877, 'feature_fraction': 0.920947816931116, 'lambda_l1': 0.3310464384841066, 'lambda_l2': 0.030776471362882342, 'learning_rate': 0.01, 'max_leaves': 45, 'metric': ('binary_logloss', 'binary_error'), 'min_data_in_leaf': 20, 'objective': 'binary', 'seed': 0, 'verbose': -1}\n"
     ]
    },
    {
     "name": "stdout",
     "output_type": "stream",
     "text": [
      "Training until validation scores don't improve for 40 rounds                    \n",
      " 28%|██▏     | 28/100 [00:25<01:26,  1.20s/trial, best loss: 0.3813828084794233]"
     ]
    },
    {
     "name": "stderr",
     "output_type": "stream",
     "text": [
      "/Users/g-ogaki/miniforge3/lib/python3.9/site-packages/lightgbm/engine.py:181: UserWarning: 'early_stopping_rounds' argument is deprecated and will be removed in a future release of LightGBM. Pass 'early_stopping()' callback via 'callbacks' argument instead.\n",
      "  _log_warning(\"'early_stopping_rounds' argument is deprecated and will be removed in a future release of LightGBM. \"\n",
      "\n",
      "/Users/g-ogaki/miniforge3/lib/python3.9/site-packages/lightgbm/engine.py:239: UserWarning: 'verbose_eval' argument is deprecated and will be removed in a future release of LightGBM. Pass 'log_evaluation()' callback via 'callbacks' argument instead.\n",
      "  _log_warning(\"'verbose_eval' argument is deprecated and will be removed in a future release of LightGBM. \"\n",
      "\n"
     ]
    },
    {
     "name": "stdout",
     "output_type": "stream",
     "text": [
      "Early stopping, best iteration is:                                              \n",
      "[77]\ttraining's binary_logloss: 0.444239\ttraining's binary_error: 0.150281\tvalid_1's binary_logloss: 0.456529\tvalid_1's binary_error: 0.145251\n",
      " 29%|██▎     | 29/100 [00:26<01:17,  1.10s/trial, best loss: 0.3813828084794233]"
     ]
    },
    {
     "name": "stderr",
     "output_type": "stream",
     "text": [
      "2022/01/01 18:14:02 2 [INFO] {'bagging_fraction': 0.8802428298655086, 'feature_fraction': 0.9595839970908979, 'lambda_l1': 0.07311033654400685, 'lambda_l2': 0.0560466906039907, 'learning_rate': 0.01, 'max_leaves': 45, 'metric': ('binary_logloss', 'binary_error'), 'min_data_in_leaf': 11, 'objective': 'binary', 'seed': 0, 'verbose': -1}\n"
     ]
    },
    {
     "name": "stdout",
     "output_type": "stream",
     "text": [
      "Training until validation scores don't improve for 40 rounds                    \n",
      " 29%|██▎     | 29/100 [00:26<01:17,  1.10s/trial, best loss: 0.3813828084794233]"
     ]
    },
    {
     "name": "stderr",
     "output_type": "stream",
     "text": [
      "/Users/g-ogaki/miniforge3/lib/python3.9/site-packages/lightgbm/engine.py:181: UserWarning: 'early_stopping_rounds' argument is deprecated and will be removed in a future release of LightGBM. Pass 'early_stopping()' callback via 'callbacks' argument instead.\n",
      "  _log_warning(\"'early_stopping_rounds' argument is deprecated and will be removed in a future release of LightGBM. \"\n",
      "\n",
      "/Users/g-ogaki/miniforge3/lib/python3.9/site-packages/lightgbm/engine.py:239: UserWarning: 'verbose_eval' argument is deprecated and will be removed in a future release of LightGBM. Pass 'log_evaluation()' callback via 'callbacks' argument instead.\n",
      "  _log_warning(\"'verbose_eval' argument is deprecated and will be removed in a future release of LightGBM. \"\n",
      "\n"
     ]
    },
    {
     "name": "stdout",
     "output_type": "stream",
     "text": [
      "Early stopping, best iteration is:                                              \n",
      "[65]\ttraining's binary_logloss: 0.440478\ttraining's binary_error: 0.130618\tvalid_1's binary_logloss: 0.455037\tvalid_1's binary_error: 0.122905\n",
      " 30%|██▍     | 30/100 [00:28<01:26,  1.24s/trial, best loss: 0.3813828084794233]"
     ]
    },
    {
     "name": "stderr",
     "output_type": "stream",
     "text": [
      "2022/01/01 18:14:04 2 [INFO] {'bagging_fraction': 0.891204719114485, 'feature_fraction': 0.8959922160495509, 'lambda_l1': 0.3484113567813276, 'lambda_l2': 0.9061256414662551, 'learning_rate': 0.01, 'max_leaves': 53, 'metric': ('binary_logloss', 'binary_error'), 'min_data_in_leaf': 15, 'objective': 'binary', 'seed': 0, 'verbose': -1}\n"
     ]
    },
    {
     "name": "stdout",
     "output_type": "stream",
     "text": [
      "Training until validation scores don't improve for 40 rounds                    \n",
      " 30%|██▍     | 30/100 [00:28<01:26,  1.24s/trial, best loss: 0.3813828084794233]"
     ]
    },
    {
     "name": "stderr",
     "output_type": "stream",
     "text": [
      "/Users/g-ogaki/miniforge3/lib/python3.9/site-packages/lightgbm/engine.py:181: UserWarning: 'early_stopping_rounds' argument is deprecated and will be removed in a future release of LightGBM. Pass 'early_stopping()' callback via 'callbacks' argument instead.\n",
      "  _log_warning(\"'early_stopping_rounds' argument is deprecated and will be removed in a future release of LightGBM. \"\n",
      "\n",
      "/Users/g-ogaki/miniforge3/lib/python3.9/site-packages/lightgbm/engine.py:239: UserWarning: 'verbose_eval' argument is deprecated and will be removed in a future release of LightGBM. Pass 'log_evaluation()' callback via 'callbacks' argument instead.\n",
      "  _log_warning(\"'verbose_eval' argument is deprecated and will be removed in a future release of LightGBM. \"\n",
      "\n"
     ]
    },
    {
     "name": "stdout",
     "output_type": "stream",
     "text": [
      "Early stopping, best iteration is:                                              \n",
      "[48]\ttraining's binary_logloss: 0.500629\ttraining's binary_error: 0.147472\tvalid_1's binary_logloss: 0.49943\tvalid_1's binary_error: 0.117318\n",
      " 31%|██▍     | 31/100 [00:29<01:18,  1.13s/trial, best loss: 0.3813828084794233]"
     ]
    },
    {
     "name": "stderr",
     "output_type": "stream",
     "text": [
      "2022/01/01 18:14:04 2 [INFO] {'bagging_fraction': 0.8412687724154211, 'feature_fraction': 0.9671972145573469, 'lambda_l1': 0.10310739543488888, 'lambda_l2': 0.1699041577302032, 'learning_rate': 0.01, 'max_leaves': 69, 'metric': ('binary_logloss', 'binary_error'), 'min_data_in_leaf': 27, 'objective': 'binary', 'seed': 0, 'verbose': -1}\n"
     ]
    },
    {
     "name": "stdout",
     "output_type": "stream",
     "text": [
      "Training until validation scores don't improve for 40 rounds                    \n",
      " 31%|██▍     | 31/100 [00:29<01:18,  1.13s/trial, best loss: 0.3813828084794233]"
     ]
    },
    {
     "name": "stderr",
     "output_type": "stream",
     "text": [
      "/Users/g-ogaki/miniforge3/lib/python3.9/site-packages/lightgbm/engine.py:181: UserWarning: 'early_stopping_rounds' argument is deprecated and will be removed in a future release of LightGBM. Pass 'early_stopping()' callback via 'callbacks' argument instead.\n",
      "  _log_warning(\"'early_stopping_rounds' argument is deprecated and will be removed in a future release of LightGBM. \"\n",
      "\n",
      "/Users/g-ogaki/miniforge3/lib/python3.9/site-packages/lightgbm/engine.py:239: UserWarning: 'verbose_eval' argument is deprecated and will be removed in a future release of LightGBM. Pass 'log_evaluation()' callback via 'callbacks' argument instead.\n",
      "  _log_warning(\"'verbose_eval' argument is deprecated and will be removed in a future release of LightGBM. \"\n",
      "\n"
     ]
    },
    {
     "name": "stdout",
     "output_type": "stream",
     "text": [
      "Early stopping, best iteration is:                                              \n",
      "[70]\ttraining's binary_logloss: 0.458904\ttraining's binary_error: 0.151685\tvalid_1's binary_logloss: 0.464181\tvalid_1's binary_error: 0.139665\n",
      " 32%|██▌     | 32/100 [00:30<01:10,  1.04s/trial, best loss: 0.3813828084794233]"
     ]
    },
    {
     "name": "stderr",
     "output_type": "stream",
     "text": [
      "2022/01/01 18:14:05 2 [INFO] {'bagging_fraction': 0.8918605950427597, 'feature_fraction': 0.9181845722525157, 'lambda_l1': 0.19284893329303837, 'lambda_l2': 0.03327411402095858, 'learning_rate': 0.01, 'max_leaves': 62, 'metric': ('binary_logloss', 'binary_error'), 'min_data_in_leaf': 20, 'objective': 'binary', 'seed': 0, 'verbose': -1}\n"
     ]
    },
    {
     "name": "stdout",
     "output_type": "stream",
     "text": [
      "Training until validation scores don't improve for 40 rounds                    \n",
      " 32%|██▌     | 32/100 [00:30<01:10,  1.04s/trial, best loss: 0.3813828084794233]"
     ]
    },
    {
     "name": "stderr",
     "output_type": "stream",
     "text": [
      "/Users/g-ogaki/miniforge3/lib/python3.9/site-packages/lightgbm/engine.py:181: UserWarning: 'early_stopping_rounds' argument is deprecated and will be removed in a future release of LightGBM. Pass 'early_stopping()' callback via 'callbacks' argument instead.\n",
      "  _log_warning(\"'early_stopping_rounds' argument is deprecated and will be removed in a future release of LightGBM. \"\n",
      "\n",
      "/Users/g-ogaki/miniforge3/lib/python3.9/site-packages/lightgbm/engine.py:239: UserWarning: 'verbose_eval' argument is deprecated and will be removed in a future release of LightGBM. Pass 'log_evaluation()' callback via 'callbacks' argument instead.\n",
      "  _log_warning(\"'verbose_eval' argument is deprecated and will be removed in a future release of LightGBM. \"\n",
      "\n"
     ]
    },
    {
     "name": "stdout",
     "output_type": "stream",
     "text": [
      "Early stopping, best iteration is:                                              \n",
      "[147]\ttraining's binary_logloss: 0.358414\ttraining's binary_error: 0.130618\tvalid_1's binary_logloss: 0.38618\tvalid_1's binary_error: 0.122905\n",
      " 33%|██▋     | 33/100 [00:32<01:29,  1.34s/trial, best loss: 0.3813828084794233]"
     ]
    },
    {
     "name": "stderr",
     "output_type": "stream",
     "text": [
      "2022/01/01 18:14:07 2 [INFO] {'bagging_fraction': 0.8572355919926469, 'feature_fraction': 0.8927914618222987, 'lambda_l1': 0.06369257165895996, 'lambda_l2': 0.014119902597089022, 'learning_rate': 0.01, 'max_leaves': 42, 'metric': ('binary_logloss', 'binary_error'), 'min_data_in_leaf': 14, 'objective': 'binary', 'seed': 0, 'verbose': -1}\n"
     ]
    },
    {
     "name": "stdout",
     "output_type": "stream",
     "text": [
      "Training until validation scores don't improve for 40 rounds                    \n",
      " 33%|██▋     | 33/100 [00:32<01:29,  1.34s/trial, best loss: 0.3813828084794233]"
     ]
    },
    {
     "name": "stderr",
     "output_type": "stream",
     "text": [
      "/Users/g-ogaki/miniforge3/lib/python3.9/site-packages/lightgbm/engine.py:181: UserWarning: 'early_stopping_rounds' argument is deprecated and will be removed in a future release of LightGBM. Pass 'early_stopping()' callback via 'callbacks' argument instead.\n",
      "  _log_warning(\"'early_stopping_rounds' argument is deprecated and will be removed in a future release of LightGBM. \"\n",
      "\n",
      "/Users/g-ogaki/miniforge3/lib/python3.9/site-packages/lightgbm/engine.py:239: UserWarning: 'verbose_eval' argument is deprecated and will be removed in a future release of LightGBM. Pass 'log_evaluation()' callback via 'callbacks' argument instead.\n",
      "  _log_warning(\"'verbose_eval' argument is deprecated and will be removed in a future release of LightGBM. \"\n",
      "\n"
     ]
    },
    {
     "name": "stdout",
     "output_type": "stream",
     "text": [
      "Early stopping, best iteration is:                                              \n",
      "[34]\ttraining's binary_logloss: 0.521498\ttraining's binary_error: 0.144663\tvalid_1's binary_logloss: 0.526511\tvalid_1's binary_error: 0.122905\n",
      " 34%|██▋     | 34/100 [00:33<01:22,  1.24s/trial, best loss: 0.3813828084794233]"
     ]
    },
    {
     "name": "stderr",
     "output_type": "stream",
     "text": [
      "2022/01/01 18:14:08 2 [INFO] {'bagging_fraction': 0.9226127480336324, 'feature_fraction': 0.9457166666694298, 'lambda_l1': 0.30251528207616757, 'lambda_l2': 0.09263383759361957, 'learning_rate': 0.01, 'max_leaves': 80, 'metric': ('binary_logloss', 'binary_error'), 'min_data_in_leaf': 18, 'objective': 'binary', 'seed': 0, 'verbose': -1}\n"
     ]
    },
    {
     "name": "stdout",
     "output_type": "stream",
     "text": [
      "Training until validation scores don't improve for 40 rounds                    \n",
      " 34%|██▋     | 34/100 [00:33<01:22,  1.24s/trial, best loss: 0.3813828084794233]"
     ]
    },
    {
     "name": "stderr",
     "output_type": "stream",
     "text": [
      "/Users/g-ogaki/miniforge3/lib/python3.9/site-packages/lightgbm/engine.py:181: UserWarning: 'early_stopping_rounds' argument is deprecated and will be removed in a future release of LightGBM. Pass 'early_stopping()' callback via 'callbacks' argument instead.\n",
      "  _log_warning(\"'early_stopping_rounds' argument is deprecated and will be removed in a future release of LightGBM. \"\n",
      "\n",
      "/Users/g-ogaki/miniforge3/lib/python3.9/site-packages/lightgbm/engine.py:239: UserWarning: 'verbose_eval' argument is deprecated and will be removed in a future release of LightGBM. Pass 'log_evaluation()' callback via 'callbacks' argument instead.\n",
      "  _log_warning(\"'verbose_eval' argument is deprecated and will be removed in a future release of LightGBM. \"\n",
      "\n"
     ]
    },
    {
     "name": "stdout",
     "output_type": "stream",
     "text": [
      "Early stopping, best iteration is:                                              \n",
      "[77]\ttraining's binary_logloss: 0.440629\ttraining's binary_error: 0.141854\tvalid_1's binary_logloss: 0.454834\tvalid_1's binary_error: 0.145251\n",
      " 35%|██▊     | 35/100 [00:34<01:14,  1.14s/trial, best loss: 0.3813828084794233]"
     ]
    },
    {
     "name": "stderr",
     "output_type": "stream",
     "text": [
      "2022/01/01 18:14:09 2 [INFO] {'bagging_fraction': 0.8982839385825218, 'feature_fraction': 0.9242579244921856, 'lambda_l1': 0.0984238336844585, 'lambda_l2': 0.15469795312765108, 'learning_rate': 0.01, 'max_leaves': 47, 'metric': ('binary_logloss', 'binary_error'), 'min_data_in_leaf': 21, 'objective': 'binary', 'seed': 0, 'verbose': -1}\n"
     ]
    },
    {
     "name": "stdout",
     "output_type": "stream",
     "text": [
      "Training until validation scores don't improve for 40 rounds                    \n",
      " 35%|██▊     | 35/100 [00:34<01:14,  1.14s/trial, best loss: 0.3813828084794233]"
     ]
    },
    {
     "name": "stderr",
     "output_type": "stream",
     "text": [
      "/Users/g-ogaki/miniforge3/lib/python3.9/site-packages/lightgbm/engine.py:181: UserWarning: 'early_stopping_rounds' argument is deprecated and will be removed in a future release of LightGBM. Pass 'early_stopping()' callback via 'callbacks' argument instead.\n",
      "  _log_warning(\"'early_stopping_rounds' argument is deprecated and will be removed in a future release of LightGBM. \"\n",
      "\n",
      "/Users/g-ogaki/miniforge3/lib/python3.9/site-packages/lightgbm/engine.py:239: UserWarning: 'verbose_eval' argument is deprecated and will be removed in a future release of LightGBM. Pass 'log_evaluation()' callback via 'callbacks' argument instead.\n",
      "  _log_warning(\"'verbose_eval' argument is deprecated and will be removed in a future release of LightGBM. \"\n",
      "\n"
     ]
    },
    {
     "name": "stdout",
     "output_type": "stream",
     "text": [
      "Early stopping, best iteration is:                                              \n",
      "[144]\ttraining's binary_logloss: 0.364359\ttraining's binary_error: 0.13764\tvalid_1's binary_logloss: 0.386838\tvalid_1's binary_error: 0.122905\n",
      " 36%|██▉     | 36/100 [00:35<01:20,  1.25s/trial, best loss: 0.3813828084794233]"
     ]
    },
    {
     "name": "stderr",
     "output_type": "stream",
     "text": [
      "2022/01/01 18:14:11 2 [INFO] {'bagging_fraction': 0.8241801664024014, 'feature_fraction': 0.9798706921071096, 'lambda_l1': 0.48278384994754314, 'lambda_l2': 0.2787309490327321, 'learning_rate': 0.01, 'max_leaves': 66, 'metric': ('binary_logloss', 'binary_error'), 'min_data_in_leaf': 13, 'objective': 'binary', 'seed': 0, 'verbose': -1}\n"
     ]
    },
    {
     "name": "stdout",
     "output_type": "stream",
     "text": [
      "Training until validation scores don't improve for 40 rounds                    \n",
      " 36%|██▉     | 36/100 [00:35<01:20,  1.25s/trial, best loss: 0.3813828084794233]"
     ]
    },
    {
     "name": "stderr",
     "output_type": "stream",
     "text": [
      "/Users/g-ogaki/miniforge3/lib/python3.9/site-packages/lightgbm/engine.py:181: UserWarning: 'early_stopping_rounds' argument is deprecated and will be removed in a future release of LightGBM. Pass 'early_stopping()' callback via 'callbacks' argument instead.\n",
      "  _log_warning(\"'early_stopping_rounds' argument is deprecated and will be removed in a future release of LightGBM. \"\n",
      "\n",
      "/Users/g-ogaki/miniforge3/lib/python3.9/site-packages/lightgbm/engine.py:239: UserWarning: 'verbose_eval' argument is deprecated and will be removed in a future release of LightGBM. Pass 'log_evaluation()' callback via 'callbacks' argument instead.\n",
      "  _log_warning(\"'verbose_eval' argument is deprecated and will be removed in a future release of LightGBM. \"\n",
      "\n"
     ]
    },
    {
     "name": "stdout",
     "output_type": "stream",
     "text": [
      "Early stopping, best iteration is:                                              \n",
      "[81]\ttraining's binary_logloss: 0.430419\ttraining's binary_error: 0.132022\tvalid_1's binary_logloss: 0.433951\tvalid_1's binary_error: 0.111732\n",
      " 37%|██▉     | 37/100 [00:36<01:14,  1.19s/trial, best loss: 0.3813828084794233]"
     ]
    },
    {
     "name": "stderr",
     "output_type": "stream",
     "text": [
      "2022/01/01 18:14:12 2 [INFO] {'bagging_fraction': 0.9506715322701774, 'feature_fraction': 0.9143842241929624, 'lambda_l1': 0.016163168245027587, 'lambda_l2': 0.07634982657744371, 'learning_rate': 0.01, 'max_leaves': 76, 'metric': ('binary_logloss', 'binary_error'), 'min_data_in_leaf': 17, 'objective': 'binary', 'seed': 0, 'verbose': -1}\n"
     ]
    },
    {
     "name": "stdout",
     "output_type": "stream",
     "text": [
      "Training until validation scores don't improve for 40 rounds                    \n",
      " 37%|██▉     | 37/100 [00:36<01:14,  1.19s/trial, best loss: 0.3813828084794233]"
     ]
    },
    {
     "name": "stderr",
     "output_type": "stream",
     "text": [
      "/Users/g-ogaki/miniforge3/lib/python3.9/site-packages/lightgbm/engine.py:181: UserWarning: 'early_stopping_rounds' argument is deprecated and will be removed in a future release of LightGBM. Pass 'early_stopping()' callback via 'callbacks' argument instead.\n",
      "  _log_warning(\"'early_stopping_rounds' argument is deprecated and will be removed in a future release of LightGBM. \"\n",
      "\n",
      "/Users/g-ogaki/miniforge3/lib/python3.9/site-packages/lightgbm/engine.py:239: UserWarning: 'verbose_eval' argument is deprecated and will be removed in a future release of LightGBM. Pass 'log_evaluation()' callback via 'callbacks' argument instead.\n",
      "  _log_warning(\"'verbose_eval' argument is deprecated and will be removed in a future release of LightGBM. \"\n",
      "\n"
     ]
    },
    {
     "name": "stdout",
     "output_type": "stream",
     "text": [
      "Early stopping, best iteration is:                                              \n",
      "[78]\ttraining's binary_logloss: 0.427376\ttraining's binary_error: 0.13764\tvalid_1's binary_logloss: 0.439953\tvalid_1's binary_error: 0.128492\n",
      " 38%|███     | 38/100 [00:38<01:19,  1.29s/trial, best loss: 0.3813828084794233]"
     ]
    },
    {
     "name": "stderr",
     "output_type": "stream",
     "text": [
      "2022/01/01 18:14:13 2 [INFO] {'bagging_fraction': 0.8670713705620392, 'feature_fraction': 0.932473436587582, 'lambda_l1': 0.048270586939844436, 'lambda_l2': 0.2642499966871372, 'learning_rate': 0.01, 'max_leaves': 53, 'metric': ('binary_logloss', 'binary_error'), 'min_data_in_leaf': 23, 'objective': 'binary', 'seed': 0, 'verbose': -1}\n"
     ]
    },
    {
     "name": "stdout",
     "output_type": "stream",
     "text": [
      "Training until validation scores don't improve for 40 rounds                    \n",
      " 38%|███     | 38/100 [00:38<01:19,  1.29s/trial, best loss: 0.3813828084794233]"
     ]
    },
    {
     "name": "stderr",
     "output_type": "stream",
     "text": [
      "/Users/g-ogaki/miniforge3/lib/python3.9/site-packages/lightgbm/engine.py:181: UserWarning: 'early_stopping_rounds' argument is deprecated and will be removed in a future release of LightGBM. Pass 'early_stopping()' callback via 'callbacks' argument instead.\n",
      "  _log_warning(\"'early_stopping_rounds' argument is deprecated and will be removed in a future release of LightGBM. \"\n",
      "\n",
      "/Users/g-ogaki/miniforge3/lib/python3.9/site-packages/lightgbm/engine.py:239: UserWarning: 'verbose_eval' argument is deprecated and will be removed in a future release of LightGBM. Pass 'log_evaluation()' callback via 'callbacks' argument instead.\n",
      "  _log_warning(\"'verbose_eval' argument is deprecated and will be removed in a future release of LightGBM. \"\n",
      "\n"
     ]
    },
    {
     "name": "stdout",
     "output_type": "stream",
     "text": [
      "Early stopping, best iteration is:                                              \n",
      "[80]\ttraining's binary_logloss: 0.439995\ttraining's binary_error: 0.15309\tvalid_1's binary_logloss: 0.451683\tvalid_1's binary_error: 0.145251\n",
      " 39%|███     | 39/100 [00:39<01:15,  1.24s/trial, best loss: 0.3813828084794233]"
     ]
    },
    {
     "name": "stderr",
     "output_type": "stream",
     "text": [
      "2022/01/01 18:14:14 2 [INFO] {'bagging_fraction': 0.9782517538810915, 'feature_fraction': 0.9554137204127708, 'lambda_l1': 0.9034460642093253, 'lambda_l2': 0.06619129886907424, 'learning_rate': 0.01, 'max_leaves': 64, 'metric': ('binary_logloss', 'binary_error'), 'min_data_in_leaf': 26, 'objective': 'binary', 'seed': 0, 'verbose': -1}\n"
     ]
    },
    {
     "name": "stdout",
     "output_type": "stream",
     "text": [
      "Training until validation scores don't improve for 40 rounds                    \n",
      " 39%|███     | 39/100 [00:39<01:15,  1.24s/trial, best loss: 0.3813828084794233]"
     ]
    },
    {
     "name": "stderr",
     "output_type": "stream",
     "text": [
      "/Users/g-ogaki/miniforge3/lib/python3.9/site-packages/lightgbm/engine.py:181: UserWarning: 'early_stopping_rounds' argument is deprecated and will be removed in a future release of LightGBM. Pass 'early_stopping()' callback via 'callbacks' argument instead.\n",
      "  _log_warning(\"'early_stopping_rounds' argument is deprecated and will be removed in a future release of LightGBM. \"\n",
      "\n",
      "/Users/g-ogaki/miniforge3/lib/python3.9/site-packages/lightgbm/engine.py:239: UserWarning: 'verbose_eval' argument is deprecated and will be removed in a future release of LightGBM. Pass 'log_evaluation()' callback via 'callbacks' argument instead.\n",
      "  _log_warning(\"'verbose_eval' argument is deprecated and will be removed in a future release of LightGBM. \"\n",
      "\n"
     ]
    },
    {
     "name": "stdout",
     "output_type": "stream",
     "text": [
      "Early stopping, best iteration is:                                              \n",
      "[122]\ttraining's binary_logloss: 0.403827\ttraining's binary_error: 0.150281\tvalid_1's binary_logloss: 0.404475\tvalid_1's binary_error: 0.122905\n",
      " 40%|███▏    | 40/100 [00:40<01:09,  1.16s/trial, best loss: 0.3813828084794233]"
     ]
    },
    {
     "name": "stderr",
     "output_type": "stream",
     "text": [
      "2022/01/01 18:14:15 2 [INFO] {'bagging_fraction': 0.8525419785080165, 'feature_fraction': 0.8704403539404331, 'lambda_l1': 0.16721455990017953, 'lambda_l2': 0.10308594631325094, 'learning_rate': 0.01, 'max_leaves': 61, 'metric': ('binary_logloss', 'binary_error'), 'min_data_in_leaf': 28, 'objective': 'binary', 'seed': 0, 'verbose': -1}\n"
     ]
    },
    {
     "name": "stdout",
     "output_type": "stream",
     "text": [
      "Training until validation scores don't improve for 40 rounds                    \n",
      " 40%|███▏    | 40/100 [00:40<01:09,  1.16s/trial, best loss: 0.3813828084794233]"
     ]
    },
    {
     "name": "stderr",
     "output_type": "stream",
     "text": [
      "/Users/g-ogaki/miniforge3/lib/python3.9/site-packages/lightgbm/engine.py:181: UserWarning: 'early_stopping_rounds' argument is deprecated and will be removed in a future release of LightGBM. Pass 'early_stopping()' callback via 'callbacks' argument instead.\n",
      "  _log_warning(\"'early_stopping_rounds' argument is deprecated and will be removed in a future release of LightGBM. \"\n",
      "\n",
      "/Users/g-ogaki/miniforge3/lib/python3.9/site-packages/lightgbm/engine.py:239: UserWarning: 'verbose_eval' argument is deprecated and will be removed in a future release of LightGBM. Pass 'log_evaluation()' callback via 'callbacks' argument instead.\n",
      "  _log_warning(\"'verbose_eval' argument is deprecated and will be removed in a future release of LightGBM. \"\n",
      "\n"
     ]
    },
    {
     "name": "stdout",
     "output_type": "stream",
     "text": [
      "Early stopping, best iteration is:                                              \n",
      "[123]\ttraining's binary_logloss: 0.39441\ttraining's binary_error: 0.144663\tvalid_1's binary_logloss: 0.403499\tvalid_1's binary_error: 0.128492\n",
      " 41%|███▎    | 41/100 [00:41<01:07,  1.15s/trial, best loss: 0.3813828084794233]"
     ]
    },
    {
     "name": "stderr",
     "output_type": "stream",
     "text": [
      "2022/01/01 18:14:16 2 [INFO] {'bagging_fraction': 0.9225865899530585, 'feature_fraction': 0.99938491717339, 'lambda_l1': 0.2706066390720325, 'lambda_l2': 0.013112530479086452, 'learning_rate': 0.01, 'max_leaves': 41, 'metric': ('binary_logloss', 'binary_error'), 'min_data_in_leaf': 22, 'objective': 'binary', 'seed': 0, 'verbose': -1}\n"
     ]
    },
    {
     "name": "stdout",
     "output_type": "stream",
     "text": [
      "Training until validation scores don't improve for 40 rounds                    \n",
      " 41%|███▎    | 41/100 [00:41<01:07,  1.15s/trial, best loss: 0.3813828084794233]"
     ]
    },
    {
     "name": "stderr",
     "output_type": "stream",
     "text": [
      "/Users/g-ogaki/miniforge3/lib/python3.9/site-packages/lightgbm/engine.py:181: UserWarning: 'early_stopping_rounds' argument is deprecated and will be removed in a future release of LightGBM. Pass 'early_stopping()' callback via 'callbacks' argument instead.\n",
      "  _log_warning(\"'early_stopping_rounds' argument is deprecated and will be removed in a future release of LightGBM. \"\n",
      "\n",
      "/Users/g-ogaki/miniforge3/lib/python3.9/site-packages/lightgbm/engine.py:239: UserWarning: 'verbose_eval' argument is deprecated and will be removed in a future release of LightGBM. Pass 'log_evaluation()' callback via 'callbacks' argument instead.\n",
      "  _log_warning(\"'verbose_eval' argument is deprecated and will be removed in a future release of LightGBM. \"\n",
      "\n"
     ]
    },
    {
     "name": "stdout",
     "output_type": "stream",
     "text": [
      "Early stopping, best iteration is:                                              \n",
      "[145]\ttraining's binary_logloss: 0.369345\ttraining's binary_error: 0.13764\tvalid_1's binary_logloss: 0.388833\tvalid_1's binary_error: 0.122905\n",
      " 42%|███▎    | 42/100 [00:42<01:11,  1.24s/trial, best loss: 0.3813828084794233]"
     ]
    },
    {
     "name": "stderr",
     "output_type": "stream",
     "text": [
      "2022/01/01 18:14:18 2 [INFO] {'bagging_fraction': 0.8734004626072986, 'feature_fraction': 0.852331518155697, 'lambda_l1': 0.20411739131453183, 'lambda_l2': 0.5316431420256527, 'learning_rate': 0.01, 'max_leaves': 69, 'metric': ('binary_logloss', 'binary_error'), 'min_data_in_leaf': 16, 'objective': 'binary', 'seed': 0, 'verbose': -1}\n"
     ]
    },
    {
     "name": "stdout",
     "output_type": "stream",
     "text": [
      "Training until validation scores don't improve for 40 rounds                    \n",
      " 42%|███▎    | 42/100 [00:42<01:11,  1.24s/trial, best loss: 0.3813828084794233]"
     ]
    },
    {
     "name": "stderr",
     "output_type": "stream",
     "text": [
      "/Users/g-ogaki/miniforge3/lib/python3.9/site-packages/lightgbm/engine.py:181: UserWarning: 'early_stopping_rounds' argument is deprecated and will be removed in a future release of LightGBM. Pass 'early_stopping()' callback via 'callbacks' argument instead.\n",
      "  _log_warning(\"'early_stopping_rounds' argument is deprecated and will be removed in a future release of LightGBM. \"\n",
      "\n",
      "/Users/g-ogaki/miniforge3/lib/python3.9/site-packages/lightgbm/engine.py:239: UserWarning: 'verbose_eval' argument is deprecated and will be removed in a future release of LightGBM. Pass 'log_evaluation()' callback via 'callbacks' argument instead.\n",
      "  _log_warning(\"'verbose_eval' argument is deprecated and will be removed in a future release of LightGBM. \"\n",
      "\n"
     ]
    },
    {
     "name": "stdout",
     "output_type": "stream",
     "text": [
      "Early stopping, best iteration is:                                              \n",
      "[88]\ttraining's binary_logloss: 0.423687\ttraining's binary_error: 0.130618\tvalid_1's binary_logloss: 0.431945\tvalid_1's binary_error: 0.117318\n",
      " 43%|███▍    | 43/100 [00:43<01:07,  1.18s/trial, best loss: 0.3813828084794233]"
     ]
    },
    {
     "name": "stderr",
     "output_type": "stream",
     "text": [
      "2022/01/01 18:14:19 2 [INFO] {'bagging_fraction': 0.8882148292772633, 'feature_fraction': 0.8881584492891791, 'lambda_l1': 0.12688068311439865, 'lambda_l2': 0.018748031885831223, 'learning_rate': 0.01, 'max_leaves': 52, 'metric': ('binary_logloss', 'binary_error'), 'min_data_in_leaf': 32, 'objective': 'binary', 'seed': 0, 'verbose': -1}\n"
     ]
    },
    {
     "name": "stdout",
     "output_type": "stream",
     "text": [
      "Training until validation scores don't improve for 40 rounds                    \n",
      " 43%|███▍    | 43/100 [00:43<01:07,  1.18s/trial, best loss: 0.3813828084794233]"
     ]
    },
    {
     "name": "stderr",
     "output_type": "stream",
     "text": [
      "/Users/g-ogaki/miniforge3/lib/python3.9/site-packages/lightgbm/engine.py:181: UserWarning: 'early_stopping_rounds' argument is deprecated and will be removed in a future release of LightGBM. Pass 'early_stopping()' callback via 'callbacks' argument instead.\n",
      "  _log_warning(\"'early_stopping_rounds' argument is deprecated and will be removed in a future release of LightGBM. \"\n",
      "\n",
      "/Users/g-ogaki/miniforge3/lib/python3.9/site-packages/lightgbm/engine.py:239: UserWarning: 'verbose_eval' argument is deprecated and will be removed in a future release of LightGBM. Pass 'log_evaluation()' callback via 'callbacks' argument instead.\n",
      "  _log_warning(\"'verbose_eval' argument is deprecated and will be removed in a future release of LightGBM. \"\n",
      "\n"
     ]
    },
    {
     "name": "stdout",
     "output_type": "stream",
     "text": [
      "Early stopping, best iteration is:                                              \n",
      "[92]\ttraining's binary_logloss: 0.428534\ttraining's binary_error: 0.150281\tvalid_1's binary_logloss: 0.428036\tvalid_1's binary_error: 0.128492\n",
      " 44%|███▌    | 44/100 [00:44<00:59,  1.07s/trial, best loss: 0.3813828084794233]"
     ]
    },
    {
     "name": "stderr",
     "output_type": "stream",
     "text": [
      "2022/01/01 18:14:20 2 [INFO] {'bagging_fraction': 0.9476518248592842, 'feature_fraction': 0.9087211793731371, 'lambda_l1': 0.020944342255757524, 'lambda_l2': 0.1618546134290024, 'learning_rate': 0.01, 'max_leaves': 49, 'metric': ('binary_logloss', 'binary_error'), 'min_data_in_leaf': 13, 'objective': 'binary', 'seed': 0, 'verbose': -1}\n"
     ]
    },
    {
     "name": "stdout",
     "output_type": "stream",
     "text": [
      "Training until validation scores don't improve for 40 rounds                    \n",
      " 44%|███▌    | 44/100 [00:44<00:59,  1.07s/trial, best loss: 0.3813828084794233]"
     ]
    },
    {
     "name": "stderr",
     "output_type": "stream",
     "text": [
      "/Users/g-ogaki/miniforge3/lib/python3.9/site-packages/lightgbm/engine.py:181: UserWarning: 'early_stopping_rounds' argument is deprecated and will be removed in a future release of LightGBM. Pass 'early_stopping()' callback via 'callbacks' argument instead.\n",
      "  _log_warning(\"'early_stopping_rounds' argument is deprecated and will be removed in a future release of LightGBM. \"\n",
      "\n",
      "/Users/g-ogaki/miniforge3/lib/python3.9/site-packages/lightgbm/engine.py:239: UserWarning: 'verbose_eval' argument is deprecated and will be removed in a future release of LightGBM. Pass 'log_evaluation()' callback via 'callbacks' argument instead.\n",
      "  _log_warning(\"'verbose_eval' argument is deprecated and will be removed in a future release of LightGBM. \"\n",
      "\n"
     ]
    },
    {
     "name": "stdout",
     "output_type": "stream",
     "text": [
      "Early stopping, best iteration is:                                              \n",
      "[56]\ttraining's binary_logloss: 0.463815\ttraining's binary_error: 0.130618\tvalid_1's binary_logloss: 0.473903\tvalid_1's binary_error: 0.122905\n",
      " 45%|███▌    | 45/100 [00:45<00:59,  1.09s/trial, best loss: 0.3813828084794233]"
     ]
    },
    {
     "name": "stderr",
     "output_type": "stream",
     "text": [
      "2022/01/01 18:14:21 2 [INFO] {'bagging_fraction': 0.8306064341073096, 'feature_fraction': 0.8979045670724971, 'lambda_l1': 0.08681048531488558, 'lambda_l2': 0.031361934660598154, 'learning_rate': 0.01, 'max_leaves': 60, 'metric': ('binary_logloss', 'binary_error'), 'min_data_in_leaf': 19, 'objective': 'binary', 'seed': 0, 'verbose': -1}\n"
     ]
    },
    {
     "name": "stdout",
     "output_type": "stream",
     "text": [
      "Training until validation scores don't improve for 40 rounds                    \n",
      " 45%|███▌    | 45/100 [00:45<00:59,  1.09s/trial, best loss: 0.3813828084794233]"
     ]
    },
    {
     "name": "stderr",
     "output_type": "stream",
     "text": [
      "/Users/g-ogaki/miniforge3/lib/python3.9/site-packages/lightgbm/engine.py:181: UserWarning: 'early_stopping_rounds' argument is deprecated and will be removed in a future release of LightGBM. Pass 'early_stopping()' callback via 'callbacks' argument instead.\n",
      "  _log_warning(\"'early_stopping_rounds' argument is deprecated and will be removed in a future release of LightGBM. \"\n",
      "\n",
      "/Users/g-ogaki/miniforge3/lib/python3.9/site-packages/lightgbm/engine.py:239: UserWarning: 'verbose_eval' argument is deprecated and will be removed in a future release of LightGBM. Pass 'log_evaluation()' callback via 'callbacks' argument instead.\n",
      "  _log_warning(\"'verbose_eval' argument is deprecated and will be removed in a future release of LightGBM. \"\n",
      "\n"
     ]
    },
    {
     "name": "stdout",
     "output_type": "stream",
     "text": [
      "Early stopping, best iteration is:                                              \n",
      "[151]\ttraining's binary_logloss: 0.348669\ttraining's binary_error: 0.129213\tvalid_1's binary_logloss: 0.382862\tvalid_1's binary_error: 0.122905\n",
      " 46%|███▋    | 46/100 [00:47<01:12,  1.34s/trial, best loss: 0.3813828084794233]"
     ]
    },
    {
     "name": "stderr",
     "output_type": "stream",
     "text": [
      "2022/01/01 18:14:23 2 [INFO] {'bagging_fraction': 0.8307436582338847, 'feature_fraction': 0.8671946465006326, 'lambda_l1': 0.036056518362568825, 'lambda_l2': 0.13219046249872798, 'learning_rate': 0.01, 'max_leaves': 72, 'metric': ('binary_logloss', 'binary_error'), 'min_data_in_leaf': 18, 'objective': 'binary', 'seed': 0, 'verbose': -1}\n"
     ]
    },
    {
     "name": "stdout",
     "output_type": "stream",
     "text": [
      "Training until validation scores don't improve for 40 rounds                    \n",
      " 46%|███▋    | 46/100 [00:47<01:12,  1.34s/trial, best loss: 0.3813828084794233]"
     ]
    },
    {
     "name": "stderr",
     "output_type": "stream",
     "text": [
      "/Users/g-ogaki/miniforge3/lib/python3.9/site-packages/lightgbm/engine.py:181: UserWarning: 'early_stopping_rounds' argument is deprecated and will be removed in a future release of LightGBM. Pass 'early_stopping()' callback via 'callbacks' argument instead.\n",
      "  _log_warning(\"'early_stopping_rounds' argument is deprecated and will be removed in a future release of LightGBM. \"\n",
      "\n",
      "/Users/g-ogaki/miniforge3/lib/python3.9/site-packages/lightgbm/engine.py:239: UserWarning: 'verbose_eval' argument is deprecated and will be removed in a future release of LightGBM. Pass 'log_evaluation()' callback via 'callbacks' argument instead.\n",
      "  _log_warning(\"'verbose_eval' argument is deprecated and will be removed in a future release of LightGBM. \"\n",
      "\n"
     ]
    },
    {
     "name": "stdout",
     "output_type": "stream",
     "text": [
      "Early stopping, best iteration is:                                              \n",
      "[148]\ttraining's binary_logloss: 0.34967\ttraining's binary_error: 0.127809\tvalid_1's binary_logloss: 0.384662\tvalid_1's binary_error: 0.122905\n",
      " 47%|███▊    | 47/100 [00:49<01:15,  1.42s/trial, best loss: 0.3813828084794233]"
     ]
    },
    {
     "name": "stderr",
     "output_type": "stream",
     "text": [
      "2022/01/01 18:14:24 2 [INFO] {'bagging_fraction': 0.8175673581755815, 'feature_fraction': 0.8770463706735272, 'lambda_l1': 0.01583358124846395, 'lambda_l2': 0.02400921581598727, 'learning_rate': 0.01, 'max_leaves': 76, 'metric': ('binary_logloss', 'binary_error'), 'min_data_in_leaf': 35, 'objective': 'binary', 'seed': 0, 'verbose': -1}\n"
     ]
    },
    {
     "name": "stdout",
     "output_type": "stream",
     "text": [
      "Training until validation scores don't improve for 40 rounds                    \n",
      " 47%|███▊    | 47/100 [00:49<01:15,  1.42s/trial, best loss: 0.3813828084794233]"
     ]
    },
    {
     "name": "stderr",
     "output_type": "stream",
     "text": [
      "/Users/g-ogaki/miniforge3/lib/python3.9/site-packages/lightgbm/engine.py:181: UserWarning: 'early_stopping_rounds' argument is deprecated and will be removed in a future release of LightGBM. Pass 'early_stopping()' callback via 'callbacks' argument instead.\n",
      "  _log_warning(\"'early_stopping_rounds' argument is deprecated and will be removed in a future release of LightGBM. \"\n",
      "\n",
      "/Users/g-ogaki/miniforge3/lib/python3.9/site-packages/lightgbm/engine.py:239: UserWarning: 'verbose_eval' argument is deprecated and will be removed in a future release of LightGBM. Pass 'log_evaluation()' callback via 'callbacks' argument instead.\n",
      "  _log_warning(\"'verbose_eval' argument is deprecated and will be removed in a future release of LightGBM. \"\n",
      "\n"
     ]
    },
    {
     "name": "stdout",
     "output_type": "stream",
     "text": [
      "Early stopping, best iteration is:                                              \n",
      "[75]\ttraining's binary_logloss: 0.452467\ttraining's binary_error: 0.150281\tvalid_1's binary_logloss: 0.450531\tvalid_1's binary_error: 0.128492\n",
      " 48%|███▊    | 48/100 [00:50<01:04,  1.24s/trial, best loss: 0.3813828084794233]"
     ]
    },
    {
     "name": "stderr",
     "output_type": "stream",
     "text": [
      "2022/01/01 18:14:25 2 [INFO] {'bagging_fraction': 0.8369566189126251, 'feature_fraction': 0.8451831337074998, 'lambda_l1': 0.04132014088020243, 'lambda_l2': 0.1985701858667155, 'learning_rate': 0.01, 'max_leaves': 59, 'metric': ('binary_logloss', 'binary_error'), 'min_data_in_leaf': 26, 'objective': 'binary', 'seed': 0, 'verbose': -1}\n"
     ]
    },
    {
     "name": "stdout",
     "output_type": "stream",
     "text": [
      "Training until validation scores don't improve for 40 rounds                    \n",
      " 48%|███▊    | 48/100 [00:50<01:04,  1.24s/trial, best loss: 0.3813828084794233]"
     ]
    },
    {
     "name": "stderr",
     "output_type": "stream",
     "text": [
      "/Users/g-ogaki/miniforge3/lib/python3.9/site-packages/lightgbm/engine.py:181: UserWarning: 'early_stopping_rounds' argument is deprecated and will be removed in a future release of LightGBM. Pass 'early_stopping()' callback via 'callbacks' argument instead.\n",
      "  _log_warning(\"'early_stopping_rounds' argument is deprecated and will be removed in a future release of LightGBM. \"\n",
      "\n",
      "/Users/g-ogaki/miniforge3/lib/python3.9/site-packages/lightgbm/engine.py:239: UserWarning: 'verbose_eval' argument is deprecated and will be removed in a future release of LightGBM. Pass 'log_evaluation()' callback via 'callbacks' argument instead.\n",
      "  _log_warning(\"'verbose_eval' argument is deprecated and will be removed in a future release of LightGBM. \"\n",
      "\n"
     ]
    },
    {
     "name": "stdout",
     "output_type": "stream",
     "text": [
      "Early stopping, best iteration is:                                              \n",
      "[89]\ttraining's binary_logloss: 0.433104\ttraining's binary_error: 0.141854\tvalid_1's binary_logloss: 0.443728\tvalid_1's binary_error: 0.134078\n",
      " 49%|███▉    | 49/100 [00:50<00:53,  1.05s/trial, best loss: 0.3813828084794233]"
     ]
    },
    {
     "name": "stderr",
     "output_type": "stream",
     "text": [
      "2022/01/01 18:14:26 2 [INFO] {'bagging_fraction': 0.8490648439325241, 'feature_fraction': 0.901983743864215, 'lambda_l1': 0.026883099609856992, 'lambda_l2': 0.05719952246919979, 'learning_rate': 0.01, 'max_leaves': 63, 'metric': ('binary_logloss', 'binary_error'), 'min_data_in_leaf': 18, 'objective': 'binary', 'seed': 0, 'verbose': -1}\n"
     ]
    },
    {
     "name": "stdout",
     "output_type": "stream",
     "text": [
      "Training until validation scores don't improve for 40 rounds                    \n",
      " 49%|███▉    | 49/100 [00:50<00:53,  1.05s/trial, best loss: 0.3813828084794233]"
     ]
    },
    {
     "name": "stderr",
     "output_type": "stream",
     "text": [
      "/Users/g-ogaki/miniforge3/lib/python3.9/site-packages/lightgbm/engine.py:181: UserWarning: 'early_stopping_rounds' argument is deprecated and will be removed in a future release of LightGBM. Pass 'early_stopping()' callback via 'callbacks' argument instead.\n",
      "  _log_warning(\"'early_stopping_rounds' argument is deprecated and will be removed in a future release of LightGBM. \"\n",
      "\n",
      "/Users/g-ogaki/miniforge3/lib/python3.9/site-packages/lightgbm/engine.py:239: UserWarning: 'verbose_eval' argument is deprecated and will be removed in a future release of LightGBM. Pass 'log_evaluation()' callback via 'callbacks' argument instead.\n",
      "  _log_warning(\"'verbose_eval' argument is deprecated and will be removed in a future release of LightGBM. \"\n",
      "\n"
     ]
    },
    {
     "name": "stdout",
     "output_type": "stream",
     "text": [
      "Early stopping, best iteration is:                                              \n",
      "[148]\ttraining's binary_logloss: 0.347207\ttraining's binary_error: 0.127809\tvalid_1's binary_logloss: 0.38339\tvalid_1's binary_error: 0.122905\n",
      " 50%|████    | 50/100 [00:52<00:55,  1.12s/trial, best loss: 0.3813828084794233]"
     ]
    },
    {
     "name": "stderr",
     "output_type": "stream",
     "text": [
      "2022/01/01 18:14:27 2 [INFO] {'bagging_fraction': 0.9175085486640199, 'feature_fraction': 0.8080541282402477, 'lambda_l1': 0.05670243344599327, 'lambda_l2': 0.01876953991744875, 'learning_rate': 0.01, 'max_leaves': 68, 'metric': ('binary_logloss', 'binary_error'), 'min_data_in_leaf': 29, 'objective': 'binary', 'seed': 0, 'verbose': -1}\n"
     ]
    },
    {
     "name": "stdout",
     "output_type": "stream",
     "text": [
      "Training until validation scores don't improve for 40 rounds                    \n",
      " 50%|████    | 50/100 [00:52<00:55,  1.12s/trial, best loss: 0.3813828084794233]"
     ]
    },
    {
     "name": "stderr",
     "output_type": "stream",
     "text": [
      "/Users/g-ogaki/miniforge3/lib/python3.9/site-packages/lightgbm/engine.py:181: UserWarning: 'early_stopping_rounds' argument is deprecated and will be removed in a future release of LightGBM. Pass 'early_stopping()' callback via 'callbacks' argument instead.\n",
      "  _log_warning(\"'early_stopping_rounds' argument is deprecated and will be removed in a future release of LightGBM. \"\n",
      "\n",
      "/Users/g-ogaki/miniforge3/lib/python3.9/site-packages/lightgbm/engine.py:239: UserWarning: 'verbose_eval' argument is deprecated and will be removed in a future release of LightGBM. Pass 'log_evaluation()' callback via 'callbacks' argument instead.\n",
      "  _log_warning(\"'verbose_eval' argument is deprecated and will be removed in a future release of LightGBM. \"\n",
      "\n"
     ]
    },
    {
     "name": "stdout",
     "output_type": "stream",
     "text": [
      "Early stopping, best iteration is:                                              \n",
      "[83]\ttraining's binary_logloss: 0.440222\ttraining's binary_error: 0.146067\tvalid_1's binary_logloss: 0.448027\tvalid_1's binary_error: 0.139665\n",
      " 51%|████    | 51/100 [00:52<00:47,  1.03trial/s, best loss: 0.3813828084794233]"
     ]
    },
    {
     "name": "stderr",
     "output_type": "stream",
     "text": [
      "2022/01/01 18:14:28 2 [INFO] {'bagging_fraction': 0.803455345963234, 'feature_fraction': 0.8856798988830205, 'lambda_l1': 0.07807614843822354, 'lambda_l2': 0.26068691425989443, 'learning_rate': 0.01, 'max_leaves': 57, 'metric': ('binary_logloss', 'binary_error'), 'min_data_in_leaf': 31, 'objective': 'binary', 'seed': 0, 'verbose': -1}\n"
     ]
    },
    {
     "name": "stdout",
     "output_type": "stream",
     "text": [
      "Training until validation scores don't improve for 40 rounds                    \n",
      " 51%|████    | 51/100 [00:52<00:47,  1.03trial/s, best loss: 0.3813828084794233]"
     ]
    },
    {
     "name": "stderr",
     "output_type": "stream",
     "text": [
      "/Users/g-ogaki/miniforge3/lib/python3.9/site-packages/lightgbm/engine.py:181: UserWarning: 'early_stopping_rounds' argument is deprecated and will be removed in a future release of LightGBM. Pass 'early_stopping()' callback via 'callbacks' argument instead.\n",
      "  _log_warning(\"'early_stopping_rounds' argument is deprecated and will be removed in a future release of LightGBM. \"\n",
      "\n",
      "/Users/g-ogaki/miniforge3/lib/python3.9/site-packages/lightgbm/engine.py:239: UserWarning: 'verbose_eval' argument is deprecated and will be removed in a future release of LightGBM. Pass 'log_evaluation()' callback via 'callbacks' argument instead.\n",
      "  _log_warning(\"'verbose_eval' argument is deprecated and will be removed in a future release of LightGBM. \"\n",
      "\n"
     ]
    },
    {
     "name": "stdout",
     "output_type": "stream",
     "text": [
      "Early stopping, best iteration is:                                              \n",
      "[90]\ttraining's binary_logloss: 0.431261\ttraining's binary_error: 0.151685\tvalid_1's binary_logloss: 0.433716\tvalid_1's binary_error: 0.128492\n",
      " 52%|████▏   | 52/100 [00:53<00:40,  1.19trial/s, best loss: 0.3813828084794233]"
     ]
    },
    {
     "name": "stderr",
     "output_type": "stream",
     "text": [
      "2022/01/01 18:14:28 2 [INFO] {'bagging_fraction': 0.9793020313073995, 'feature_fraction': 0.8211498296556627, 'lambda_l1': 0.09001800090529484, 'lambda_l2': 0.7506595570579997, 'learning_rate': 0.01, 'max_leaves': 74, 'metric': ('binary_logloss', 'binary_error'), 'min_data_in_leaf': 10, 'objective': 'binary', 'seed': 0, 'verbose': -1}\n"
     ]
    },
    {
     "name": "stdout",
     "output_type": "stream",
     "text": [
      "Training until validation scores don't improve for 40 rounds                    \n",
      " 52%|████▏   | 52/100 [00:53<00:40,  1.19trial/s, best loss: 0.3813828084794233]"
     ]
    },
    {
     "name": "stderr",
     "output_type": "stream",
     "text": [
      "/Users/g-ogaki/miniforge3/lib/python3.9/site-packages/lightgbm/engine.py:181: UserWarning: 'early_stopping_rounds' argument is deprecated and will be removed in a future release of LightGBM. Pass 'early_stopping()' callback via 'callbacks' argument instead.\n",
      "  _log_warning(\"'early_stopping_rounds' argument is deprecated and will be removed in a future release of LightGBM. \"\n",
      "\n",
      "/Users/g-ogaki/miniforge3/lib/python3.9/site-packages/lightgbm/engine.py:239: UserWarning: 'verbose_eval' argument is deprecated and will be removed in a future release of LightGBM. Pass 'log_evaluation()' callback via 'callbacks' argument instead.\n",
      "  _log_warning(\"'verbose_eval' argument is deprecated and will be removed in a future release of LightGBM. \"\n",
      "\n"
     ]
    },
    {
     "name": "stdout",
     "output_type": "stream",
     "text": [
      "Early stopping, best iteration is:                                              \n",
      "[72]\ttraining's binary_logloss: 0.44496\ttraining's binary_error: 0.134831\tvalid_1's binary_logloss: 0.455029\tvalid_1's binary_error: 0.111732\n",
      " 53%|████▏   | 53/100 [00:53<00:38,  1.23trial/s, best loss: 0.3813828084794233]"
     ]
    },
    {
     "name": "stderr",
     "output_type": "stream",
     "text": [
      "2022/01/01 18:14:29 2 [INFO] {'bagging_fraction': 0.8323455335896683, 'feature_fraction': 0.8613214824569526, 'lambda_l1': 0.03145367028529549, 'lambda_l2': 0.01152196857757377, 'learning_rate': 0.01, 'max_leaves': 60, 'metric': ('binary_logloss', 'binary_error'), 'min_data_in_leaf': 47, 'objective': 'binary', 'seed': 0, 'verbose': -1}\n"
     ]
    },
    {
     "name": "stdout",
     "output_type": "stream",
     "text": [
      "Training until validation scores don't improve for 40 rounds                    \n",
      " 53%|████▏   | 53/100 [00:53<00:38,  1.23trial/s, best loss: 0.3813828084794233]"
     ]
    },
    {
     "name": "stderr",
     "output_type": "stream",
     "text": [
      "/Users/g-ogaki/miniforge3/lib/python3.9/site-packages/lightgbm/engine.py:181: UserWarning: 'early_stopping_rounds' argument is deprecated and will be removed in a future release of LightGBM. Pass 'early_stopping()' callback via 'callbacks' argument instead.\n",
      "  _log_warning(\"'early_stopping_rounds' argument is deprecated and will be removed in a future release of LightGBM. \"\n",
      "\n",
      "/Users/g-ogaki/miniforge3/lib/python3.9/site-packages/lightgbm/engine.py:239: UserWarning: 'verbose_eval' argument is deprecated and will be removed in a future release of LightGBM. Pass 'log_evaluation()' callback via 'callbacks' argument instead.\n",
      "  _log_warning(\"'verbose_eval' argument is deprecated and will be removed in a future release of LightGBM. \"\n",
      "\n"
     ]
    },
    {
     "name": "stdout",
     "output_type": "stream",
     "text": [
      "Early stopping, best iteration is:                                              \n",
      "[87]\ttraining's binary_logloss: 0.445961\ttraining's binary_error: 0.150281\tvalid_1's binary_logloss: 0.439616\tvalid_1's binary_error: 0.122905\n",
      " 54%|████▎   | 54/100 [00:54<00:33,  1.39trial/s, best loss: 0.3813828084794233]"
     ]
    },
    {
     "name": "stderr",
     "output_type": "stream",
     "text": [
      "2022/01/01 18:14:30 2 [INFO] {'bagging_fraction': 0.8190534027953571, 'feature_fraction': 0.9406354094172742, 'lambda_l1': 0.24216140829546662, 'lambda_l2': 0.03062841643789736, 'learning_rate': 0.01, 'max_leaves': 78, 'metric': ('binary_logloss', 'binary_error'), 'min_data_in_leaf': 25, 'objective': 'binary', 'seed': 0, 'verbose': -1}\n"
     ]
    },
    {
     "name": "stdout",
     "output_type": "stream",
     "text": [
      "Training until validation scores don't improve for 40 rounds                    \n",
      " 54%|████▎   | 54/100 [00:54<00:33,  1.39trial/s, best loss: 0.3813828084794233]"
     ]
    },
    {
     "name": "stderr",
     "output_type": "stream",
     "text": [
      "/Users/g-ogaki/miniforge3/lib/python3.9/site-packages/lightgbm/engine.py:181: UserWarning: 'early_stopping_rounds' argument is deprecated and will be removed in a future release of LightGBM. Pass 'early_stopping()' callback via 'callbacks' argument instead.\n",
      "  _log_warning(\"'early_stopping_rounds' argument is deprecated and will be removed in a future release of LightGBM. \"\n",
      "\n",
      "/Users/g-ogaki/miniforge3/lib/python3.9/site-packages/lightgbm/engine.py:239: UserWarning: 'verbose_eval' argument is deprecated and will be removed in a future release of LightGBM. Pass 'log_evaluation()' callback via 'callbacks' argument instead.\n",
      "  _log_warning(\"'verbose_eval' argument is deprecated and will be removed in a future release of LightGBM. \"\n",
      "\n"
     ]
    },
    {
     "name": "stdout",
     "output_type": "stream",
     "text": [
      "Early stopping, best iteration is:                                              \n",
      "[123]\ttraining's binary_logloss: 0.393083\ttraining's binary_error: 0.144663\tvalid_1's binary_logloss: 0.403097\tvalid_1's binary_error: 0.128492\n",
      " 55%|████▍   | 55/100 [00:55<00:30,  1.47trial/s, best loss: 0.3813828084794233]"
     ]
    },
    {
     "name": "stderr",
     "output_type": "stream",
     "text": [
      "2022/01/01 18:14:30 2 [INFO] {'bagging_fraction': 0.900823718134525, 'feature_fraction': 0.9252951409005148, 'lambda_l1': 0.013573474332450127, 'lambda_l2': 0.10455459167905849, 'learning_rate': 0.01, 'max_leaves': 70, 'metric': ('binary_logloss', 'binary_error'), 'min_data_in_leaf': 12, 'objective': 'binary', 'seed': 0, 'verbose': -1}\n"
     ]
    },
    {
     "name": "stdout",
     "output_type": "stream",
     "text": [
      "Training until validation scores don't improve for 40 rounds                    \n",
      " 55%|████▍   | 55/100 [00:55<00:30,  1.47trial/s, best loss: 0.3813828084794233]"
     ]
    },
    {
     "name": "stderr",
     "output_type": "stream",
     "text": [
      "/Users/g-ogaki/miniforge3/lib/python3.9/site-packages/lightgbm/engine.py:181: UserWarning: 'early_stopping_rounds' argument is deprecated and will be removed in a future release of LightGBM. Pass 'early_stopping()' callback via 'callbacks' argument instead.\n",
      "  _log_warning(\"'early_stopping_rounds' argument is deprecated and will be removed in a future release of LightGBM. \"\n",
      "\n",
      "/Users/g-ogaki/miniforge3/lib/python3.9/site-packages/lightgbm/engine.py:239: UserWarning: 'verbose_eval' argument is deprecated and will be removed in a future release of LightGBM. Pass 'log_evaluation()' callback via 'callbacks' argument instead.\n",
      "  _log_warning(\"'verbose_eval' argument is deprecated and will be removed in a future release of LightGBM. \"\n",
      "\n"
     ]
    },
    {
     "name": "stdout",
     "output_type": "stream",
     "text": [
      "Early stopping, best iteration is:                                              \n",
      "[90]\ttraining's binary_logloss: 0.397175\ttraining's binary_error: 0.125\tvalid_1's binary_logloss: 0.420969\tvalid_1's binary_error: 0.122905\n",
      " 56%|████▍   | 56/100 [00:56<00:35,  1.24trial/s, best loss: 0.3813828084794233]"
     ]
    },
    {
     "name": "stderr",
     "output_type": "stream",
     "text": [
      "2022/01/01 18:14:31 2 [INFO] {'bagging_fraction': 0.8666124887271707, 'feature_fraction': 0.9017256465710568, 'lambda_l1': 0.06491598809831754, 'lambda_l2': 0.1319411934848648, 'learning_rate': 0.01, 'max_leaves': 55, 'metric': ('binary_logloss', 'binary_error'), 'min_data_in_leaf': 40, 'objective': 'binary', 'seed': 0, 'verbose': -1}\n"
     ]
    },
    {
     "name": "stdout",
     "output_type": "stream",
     "text": [
      "Training until validation scores don't improve for 40 rounds                    \n",
      " 56%|████▍   | 56/100 [00:56<00:35,  1.24trial/s, best loss: 0.3813828084794233]"
     ]
    },
    {
     "name": "stderr",
     "output_type": "stream",
     "text": [
      "/Users/g-ogaki/miniforge3/lib/python3.9/site-packages/lightgbm/engine.py:181: UserWarning: 'early_stopping_rounds' argument is deprecated and will be removed in a future release of LightGBM. Pass 'early_stopping()' callback via 'callbacks' argument instead.\n",
      "  _log_warning(\"'early_stopping_rounds' argument is deprecated and will be removed in a future release of LightGBM. \"\n",
      "\n",
      "/Users/g-ogaki/miniforge3/lib/python3.9/site-packages/lightgbm/engine.py:239: UserWarning: 'verbose_eval' argument is deprecated and will be removed in a future release of LightGBM. Pass 'log_evaluation()' callback via 'callbacks' argument instead.\n",
      "  _log_warning(\"'verbose_eval' argument is deprecated and will be removed in a future release of LightGBM. \"\n",
      "\n"
     ]
    },
    {
     "name": "stdout",
     "output_type": "stream",
     "text": [
      "Early stopping, best iteration is:                                              \n",
      "[30]\ttraining's binary_logloss: 0.556732\ttraining's binary_error: 0.191011\tvalid_1's binary_logloss: 0.554948\tvalid_1's binary_error: 0.173184\n",
      " 57%|████▌   | 57/100 [00:56<00:28,  1.50trial/s, best loss: 0.3813828084794233]"
     ]
    },
    {
     "name": "stderr",
     "output_type": "stream",
     "text": [
      "2022/01/01 18:14:32 2 [INFO] {'bagging_fraction': 0.9962106304796677, 'feature_fraction': 0.8345446218975383, 'lambda_l1': 0.40220465450146303, 'lambda_l2': 0.04854762269863368, 'learning_rate': 0.01, 'max_leaves': 47, 'metric': ('binary_logloss', 'binary_error'), 'min_data_in_leaf': 19, 'objective': 'binary', 'seed': 0, 'verbose': -1}\n"
     ]
    },
    {
     "name": "stdout",
     "output_type": "stream",
     "text": [
      "Training until validation scores don't improve for 40 rounds                    \n",
      " 57%|████▌   | 57/100 [00:56<00:28,  1.50trial/s, best loss: 0.3813828084794233]"
     ]
    },
    {
     "name": "stderr",
     "output_type": "stream",
     "text": [
      "/Users/g-ogaki/miniforge3/lib/python3.9/site-packages/lightgbm/engine.py:181: UserWarning: 'early_stopping_rounds' argument is deprecated and will be removed in a future release of LightGBM. Pass 'early_stopping()' callback via 'callbacks' argument instead.\n",
      "  _log_warning(\"'early_stopping_rounds' argument is deprecated and will be removed in a future release of LightGBM. \"\n",
      "\n",
      "/Users/g-ogaki/miniforge3/lib/python3.9/site-packages/lightgbm/engine.py:239: UserWarning: 'verbose_eval' argument is deprecated and will be removed in a future release of LightGBM. Pass 'log_evaluation()' callback via 'callbacks' argument instead.\n",
      "  _log_warning(\"'verbose_eval' argument is deprecated and will be removed in a future release of LightGBM. \"\n",
      "\n"
     ]
    },
    {
     "name": "stdout",
     "output_type": "stream",
     "text": [
      "Early stopping, best iteration is:                                              \n",
      "[147]\ttraining's binary_logloss: 0.367392\ttraining's binary_error: 0.127809\tvalid_1's binary_logloss: 0.389496\tvalid_1's binary_error: 0.117318\n",
      " 58%|████▋   | 58/100 [00:57<00:31,  1.33trial/s, best loss: 0.3813828084794233]"
     ]
    },
    {
     "name": "stderr",
     "output_type": "stream",
     "text": [
      "2022/01/01 18:14:33 2 [INFO] {'bagging_fraction': 0.9678584096439509, 'feature_fraction': 0.9782385212843073, 'lambda_l1': 0.6890737483636288, 'lambda_l2': 0.06948774849142063, 'learning_rate': 0.01, 'max_leaves': 71, 'metric': ('binary_logloss', 'binary_error'), 'min_data_in_leaf': 23, 'objective': 'binary', 'seed': 0, 'verbose': -1}\n"
     ]
    },
    {
     "name": "stdout",
     "output_type": "stream",
     "text": [
      "Training until validation scores don't improve for 40 rounds                    \n",
      " 58%|████▋   | 58/100 [00:57<00:31,  1.33trial/s, best loss: 0.3813828084794233]"
     ]
    },
    {
     "name": "stderr",
     "output_type": "stream",
     "text": [
      "/Users/g-ogaki/miniforge3/lib/python3.9/site-packages/lightgbm/engine.py:181: UserWarning: 'early_stopping_rounds' argument is deprecated and will be removed in a future release of LightGBM. Pass 'early_stopping()' callback via 'callbacks' argument instead.\n",
      "  _log_warning(\"'early_stopping_rounds' argument is deprecated and will be removed in a future release of LightGBM. \"\n",
      "\n",
      "/Users/g-ogaki/miniforge3/lib/python3.9/site-packages/lightgbm/engine.py:239: UserWarning: 'verbose_eval' argument is deprecated and will be removed in a future release of LightGBM. Pass 'log_evaluation()' callback via 'callbacks' argument instead.\n",
      "  _log_warning(\"'verbose_eval' argument is deprecated and will be removed in a future release of LightGBM. \"\n",
      "\n"
     ]
    },
    {
     "name": "stdout",
     "output_type": "stream",
     "text": [
      "Early stopping, best iteration is:                                              \n",
      "[78]\ttraining's binary_logloss: 0.449248\ttraining's binary_error: 0.151685\tvalid_1's binary_logloss: 0.454232\tvalid_1's binary_error: 0.139665\n",
      " 59%|████▋   | 59/100 [00:57<00:26,  1.55trial/s, best loss: 0.3813828084794233]"
     ]
    },
    {
     "name": "stderr",
     "output_type": "stream",
     "text": [
      "2022/01/01 18:14:33 2 [INFO] {'bagging_fraction': 0.8815918812319649, 'feature_fraction': 0.8784221550052527, 'lambda_l1': 0.11682148107481344, 'lambda_l2': 0.03597272582519196, 'learning_rate': 0.01, 'max_leaves': 66, 'metric': ('binary_logloss', 'binary_error'), 'min_data_in_leaf': 16, 'objective': 'binary', 'seed': 0, 'verbose': -1}\n"
     ]
    },
    {
     "name": "stdout",
     "output_type": "stream",
     "text": [
      "Training until validation scores don't improve for 40 rounds                    \n",
      " 59%|████▋   | 59/100 [00:57<00:26,  1.55trial/s, best loss: 0.3813828084794233]"
     ]
    },
    {
     "name": "stderr",
     "output_type": "stream",
     "text": [
      "/Users/g-ogaki/miniforge3/lib/python3.9/site-packages/lightgbm/engine.py:181: UserWarning: 'early_stopping_rounds' argument is deprecated and will be removed in a future release of LightGBM. Pass 'early_stopping()' callback via 'callbacks' argument instead.\n",
      "  _log_warning(\"'early_stopping_rounds' argument is deprecated and will be removed in a future release of LightGBM. \"\n",
      "\n",
      "/Users/g-ogaki/miniforge3/lib/python3.9/site-packages/lightgbm/engine.py:239: UserWarning: 'verbose_eval' argument is deprecated and will be removed in a future release of LightGBM. Pass 'log_evaluation()' callback via 'callbacks' argument instead.\n",
      "  _log_warning(\"'verbose_eval' argument is deprecated and will be removed in a future release of LightGBM. \"\n",
      "\n"
     ]
    },
    {
     "name": "stdout",
     "output_type": "stream",
     "text": [
      "Early stopping, best iteration is:                                              \n",
      "[78]\ttraining's binary_logloss: 0.425727\ttraining's binary_error: 0.134831\tvalid_1's binary_logloss: 0.44085\tvalid_1's binary_error: 0.128492\n",
      " 60%|████▊   | 60/100 [00:58<00:28,  1.42trial/s, best loss: 0.3813828084794233]"
     ]
    },
    {
     "name": "stderr",
     "output_type": "stream",
     "text": [
      "2022/01/01 18:14:34 2 [INFO] {'bagging_fraction': 0.9281003889735999, 'feature_fraction': 0.9115777765760708, 'lambda_l1': 0.02228606109625042, 'lambda_l2': 0.08471669515113886, 'learning_rate': 0.01, 'max_leaves': 36, 'metric': ('binary_logloss', 'binary_error'), 'min_data_in_leaf': 34, 'objective': 'binary', 'seed': 0, 'verbose': -1}\n"
     ]
    },
    {
     "name": "stdout",
     "output_type": "stream",
     "text": [
      "Training until validation scores don't improve for 40 rounds                    \n",
      " 60%|████▊   | 60/100 [00:58<00:28,  1.42trial/s, best loss: 0.3813828084794233]"
     ]
    },
    {
     "name": "stderr",
     "output_type": "stream",
     "text": [
      "/Users/g-ogaki/miniforge3/lib/python3.9/site-packages/lightgbm/engine.py:181: UserWarning: 'early_stopping_rounds' argument is deprecated and will be removed in a future release of LightGBM. Pass 'early_stopping()' callback via 'callbacks' argument instead.\n",
      "  _log_warning(\"'early_stopping_rounds' argument is deprecated and will be removed in a future release of LightGBM. \"\n",
      "\n",
      "/Users/g-ogaki/miniforge3/lib/python3.9/site-packages/lightgbm/engine.py:239: UserWarning: 'verbose_eval' argument is deprecated and will be removed in a future release of LightGBM. Pass 'log_evaluation()' callback via 'callbacks' argument instead.\n",
      "  _log_warning(\"'verbose_eval' argument is deprecated and will be removed in a future release of LightGBM. \"\n",
      "\n"
     ]
    },
    {
     "name": "stdout",
     "output_type": "stream",
     "text": [
      "Early stopping, best iteration is:                                              \n",
      "[76]\ttraining's binary_logloss: 0.450942\ttraining's binary_error: 0.150281\tvalid_1's binary_logloss: 0.449517\tvalid_1's binary_error: 0.128492\n",
      " 61%|████▉   | 61/100 [00:59<00:24,  1.57trial/s, best loss: 0.3813828084794233]"
     ]
    },
    {
     "name": "stderr",
     "output_type": "stream",
     "text": [
      "2022/01/01 18:14:34 2 [INFO] {'bagging_fraction': 0.9010696786752606, 'feature_fraction': 0.8969589597247243, 'lambda_l1': 0.047773807026575146, 'lambda_l2': 0.026818230322952406, 'learning_rate': 0.01, 'max_leaves': 31, 'metric': ('binary_logloss', 'binary_error'), 'min_data_in_leaf': 38, 'objective': 'binary', 'seed': 0, 'verbose': -1}\n"
     ]
    },
    {
     "name": "stdout",
     "output_type": "stream",
     "text": [
      "Training until validation scores don't improve for 40 rounds                    \n",
      " 61%|████▉   | 61/100 [00:59<00:24,  1.57trial/s, best loss: 0.3813828084794233]"
     ]
    },
    {
     "name": "stderr",
     "output_type": "stream",
     "text": [
      "/Users/g-ogaki/miniforge3/lib/python3.9/site-packages/lightgbm/engine.py:181: UserWarning: 'early_stopping_rounds' argument is deprecated and will be removed in a future release of LightGBM. Pass 'early_stopping()' callback via 'callbacks' argument instead.\n",
      "  _log_warning(\"'early_stopping_rounds' argument is deprecated and will be removed in a future release of LightGBM. \"\n",
      "\n",
      "/Users/g-ogaki/miniforge3/lib/python3.9/site-packages/lightgbm/engine.py:239: UserWarning: 'verbose_eval' argument is deprecated and will be removed in a future release of LightGBM. Pass 'log_evaluation()' callback via 'callbacks' argument instead.\n",
      "  _log_warning(\"'verbose_eval' argument is deprecated and will be removed in a future release of LightGBM. \"\n",
      "\n"
     ]
    },
    {
     "name": "stdout",
     "output_type": "stream",
     "text": [
      "Early stopping, best iteration is:                                              \n",
      "[29]\ttraining's binary_logloss: 0.557531\ttraining's binary_error: 0.19382\tvalid_1's binary_logloss: 0.55592\tvalid_1's binary_error: 0.173184\n",
      " 62%|████▉   | 62/100 [00:59<00:20,  1.85trial/s, best loss: 0.3813828084794233]"
     ]
    },
    {
     "name": "stderr",
     "output_type": "stream",
     "text": [
      "2022/01/01 18:14:35 2 [INFO] {'bagging_fraction': 0.8597130945759476, 'feature_fraction': 0.9647453493728939, 'lambda_l1': 0.1082484899531845, 'lambda_l2': 0.36022417679752905, 'learning_rate': 0.01, 'max_leaves': 57, 'metric': ('binary_logloss', 'binary_error'), 'min_data_in_leaf': 24, 'objective': 'binary', 'seed': 0, 'verbose': -1}\n"
     ]
    },
    {
     "name": "stdout",
     "output_type": "stream",
     "text": [
      "Training until validation scores don't improve for 40 rounds                    \n",
      " 62%|████▉   | 62/100 [00:59<00:20,  1.85trial/s, best loss: 0.3813828084794233]"
     ]
    },
    {
     "name": "stderr",
     "output_type": "stream",
     "text": [
      "/Users/g-ogaki/miniforge3/lib/python3.9/site-packages/lightgbm/engine.py:181: UserWarning: 'early_stopping_rounds' argument is deprecated and will be removed in a future release of LightGBM. Pass 'early_stopping()' callback via 'callbacks' argument instead.\n",
      "  _log_warning(\"'early_stopping_rounds' argument is deprecated and will be removed in a future release of LightGBM. \"\n",
      "\n",
      "/Users/g-ogaki/miniforge3/lib/python3.9/site-packages/lightgbm/engine.py:239: UserWarning: 'verbose_eval' argument is deprecated and will be removed in a future release of LightGBM. Pass 'log_evaluation()' callback via 'callbacks' argument instead.\n",
      "  _log_warning(\"'verbose_eval' argument is deprecated and will be removed in a future release of LightGBM. \"\n",
      "\n"
     ]
    },
    {
     "name": "stdout",
     "output_type": "stream",
     "text": [
      "Early stopping, best iteration is:                                              \n",
      "[78]\ttraining's binary_logloss: 0.446436\ttraining's binary_error: 0.150281\tvalid_1's binary_logloss: 0.453839\tvalid_1's binary_error: 0.145251\n",
      " 63%|█████   | 63/100 [01:00<00:22,  1.63trial/s, best loss: 0.3813828084794233]"
     ]
    },
    {
     "name": "stderr",
     "output_type": "stream",
     "text": [
      "2022/01/01 18:14:35 2 [INFO] {'bagging_fraction': 0.8730548294309306, 'feature_fraction': 0.9887307010880799, 'lambda_l1': 0.13598417128279308, 'lambda_l2': 0.016280305960918073, 'learning_rate': 0.01, 'max_leaves': 50, 'metric': ('binary_logloss', 'binary_error'), 'min_data_in_leaf': 22, 'objective': 'binary', 'seed': 0, 'verbose': -1}\n"
     ]
    },
    {
     "name": "stdout",
     "output_type": "stream",
     "text": [
      "Training until validation scores don't improve for 40 rounds                    \n",
      " 63%|█████   | 63/100 [01:00<00:22,  1.63trial/s, best loss: 0.3813828084794233]"
     ]
    },
    {
     "name": "stderr",
     "output_type": "stream",
     "text": [
      "/Users/g-ogaki/miniforge3/lib/python3.9/site-packages/lightgbm/engine.py:181: UserWarning: 'early_stopping_rounds' argument is deprecated and will be removed in a future release of LightGBM. Pass 'early_stopping()' callback via 'callbacks' argument instead.\n",
      "  _log_warning(\"'early_stopping_rounds' argument is deprecated and will be removed in a future release of LightGBM. \"\n",
      "\n",
      "/Users/g-ogaki/miniforge3/lib/python3.9/site-packages/lightgbm/engine.py:239: UserWarning: 'verbose_eval' argument is deprecated and will be removed in a future release of LightGBM. Pass 'log_evaluation()' callback via 'callbacks' argument instead.\n",
      "  _log_warning(\"'verbose_eval' argument is deprecated and will be removed in a future release of LightGBM. \"\n",
      "\n"
     ]
    },
    {
     "name": "stdout",
     "output_type": "stream",
     "text": [
      "Early stopping, best iteration is:                                              \n",
      "[68]\ttraining's binary_logloss: 0.4563\ttraining's binary_error: 0.15309\tvalid_1's binary_logloss: 0.471176\tvalid_1's binary_error: 0.145251\n",
      " 64%|█████   | 64/100 [01:00<00:20,  1.78trial/s, best loss: 0.3813828084794233]"
     ]
    },
    {
     "name": "stderr",
     "output_type": "stream",
     "text": [
      "2022/01/01 18:14:36 2 [INFO] {'bagging_fraction': 0.8119489344937342, 'feature_fraction': 0.9400692096560865, 'lambda_l1': 0.041012837555906394, 'lambda_l2': 0.49319951483166824, 'learning_rate': 0.01, 'max_leaves': 64, 'metric': ('binary_logloss', 'binary_error'), 'min_data_in_leaf': 28, 'objective': 'binary', 'seed': 0, 'verbose': -1}\n"
     ]
    },
    {
     "name": "stdout",
     "output_type": "stream",
     "text": [
      "Training until validation scores don't improve for 40 rounds                    \n",
      " 64%|█████   | 64/100 [01:00<00:20,  1.78trial/s, best loss: 0.3813828084794233]"
     ]
    },
    {
     "name": "stderr",
     "output_type": "stream",
     "text": [
      "/Users/g-ogaki/miniforge3/lib/python3.9/site-packages/lightgbm/engine.py:181: UserWarning: 'early_stopping_rounds' argument is deprecated and will be removed in a future release of LightGBM. Pass 'early_stopping()' callback via 'callbacks' argument instead.\n",
      "  _log_warning(\"'early_stopping_rounds' argument is deprecated and will be removed in a future release of LightGBM. \"\n",
      "\n",
      "/Users/g-ogaki/miniforge3/lib/python3.9/site-packages/lightgbm/engine.py:239: UserWarning: 'verbose_eval' argument is deprecated and will be removed in a future release of LightGBM. Pass 'log_evaluation()' callback via 'callbacks' argument instead.\n",
      "  _log_warning(\"'verbose_eval' argument is deprecated and will be removed in a future release of LightGBM. \"\n",
      "\n"
     ]
    },
    {
     "name": "stdout",
     "output_type": "stream",
     "text": [
      "Early stopping, best iteration is:                                              \n",
      "[80]\ttraining's binary_logloss: 0.445917\ttraining's binary_error: 0.151685\tvalid_1's binary_logloss: 0.452706\tvalid_1's binary_error: 0.139665\n",
      " 65%|█████▏  | 65/100 [01:01<00:23,  1.48trial/s, best loss: 0.3813828084794233]"
     ]
    },
    {
     "name": "stderr",
     "output_type": "stream",
     "text": [
      "2022/01/01 18:14:37 2 [INFO] {'bagging_fraction': 0.8472898268672246, 'feature_fraction': 0.9011582157172976, 'lambda_l1': 0.02869768224041916, 'lambda_l2': 0.06237241597198186, 'learning_rate': 0.01, 'max_leaves': 63, 'metric': ('binary_logloss', 'binary_error'), 'min_data_in_leaf': 19, 'objective': 'binary', 'seed': 0, 'verbose': -1}\n"
     ]
    },
    {
     "name": "stdout",
     "output_type": "stream",
     "text": [
      "Training until validation scores don't improve for 40 rounds                    \n",
      " 65%|█████▏  | 65/100 [01:01<00:23,  1.48trial/s, best loss: 0.3813828084794233]"
     ]
    },
    {
     "name": "stderr",
     "output_type": "stream",
     "text": [
      "/Users/g-ogaki/miniforge3/lib/python3.9/site-packages/lightgbm/engine.py:181: UserWarning: 'early_stopping_rounds' argument is deprecated and will be removed in a future release of LightGBM. Pass 'early_stopping()' callback via 'callbacks' argument instead.\n",
      "  _log_warning(\"'early_stopping_rounds' argument is deprecated and will be removed in a future release of LightGBM. \"\n",
      "\n",
      "/Users/g-ogaki/miniforge3/lib/python3.9/site-packages/lightgbm/engine.py:239: UserWarning: 'verbose_eval' argument is deprecated and will be removed in a future release of LightGBM. Pass 'log_evaluation()' callback via 'callbacks' argument instead.\n",
      "  _log_warning(\"'verbose_eval' argument is deprecated and will be removed in a future release of LightGBM. \"\n",
      "\n"
     ]
    },
    {
     "name": "stdout",
     "output_type": "stream",
     "text": [
      "Early stopping, best iteration is:                                              \n",
      "[157]\ttraining's binary_logloss: 0.343411\ttraining's binary_error: 0.127809\tvalid_1's binary_logloss: 0.378886\tvalid_1's binary_error: 0.122905\n",
      " 66%|█████▎  | 66/100 [01:03<00:30,  1.13trial/s, best loss: 0.3788863722385602]"
     ]
    },
    {
     "name": "stderr",
     "output_type": "stream",
     "text": [
      "2022/01/01 18:14:38 2 [INFO] {'bagging_fraction': 0.8446071913524517, 'feature_fraction': 0.8514271785849548, 'lambda_l1': 0.01832704263845366, 'lambda_l2': 0.06374888944626762, 'learning_rate': 0.01, 'max_leaves': 61, 'metric': ('binary_logloss', 'binary_error'), 'min_data_in_leaf': 15, 'objective': 'binary', 'seed': 0, 'verbose': -1}\n"
     ]
    },
    {
     "name": "stdout",
     "output_type": "stream",
     "text": [
      "Training until validation scores don't improve for 40 rounds                    \n",
      " 66%|█████▎  | 66/100 [01:03<00:30,  1.13trial/s, best loss: 0.3788863722385602]"
     ]
    },
    {
     "name": "stderr",
     "output_type": "stream",
     "text": [
      "/Users/g-ogaki/miniforge3/lib/python3.9/site-packages/lightgbm/engine.py:181: UserWarning: 'early_stopping_rounds' argument is deprecated and will be removed in a future release of LightGBM. Pass 'early_stopping()' callback via 'callbacks' argument instead.\n",
      "  _log_warning(\"'early_stopping_rounds' argument is deprecated and will be removed in a future release of LightGBM. \"\n",
      "\n",
      "/Users/g-ogaki/miniforge3/lib/python3.9/site-packages/lightgbm/engine.py:239: UserWarning: 'verbose_eval' argument is deprecated and will be removed in a future release of LightGBM. Pass 'log_evaluation()' callback via 'callbacks' argument instead.\n",
      "  _log_warning(\"'verbose_eval' argument is deprecated and will be removed in a future release of LightGBM. \"\n",
      "\n"
     ]
    },
    {
     "name": "stdout",
     "output_type": "stream",
     "text": [
      "Early stopping, best iteration is:                                              \n",
      "[35]\ttraining's binary_logloss: 0.519406\ttraining's binary_error: 0.144663\tvalid_1's binary_logloss: 0.524522\tvalid_1's binary_error: 0.122905\n",
      " 67%|█████▎  | 67/100 [01:03<00:27,  1.21trial/s, best loss: 0.3788863722385602]"
     ]
    },
    {
     "name": "stderr",
     "output_type": "stream",
     "text": [
      "2022/01/01 18:14:39 2 [INFO] {'bagging_fraction': 0.835830875459942, 'feature_fraction': 0.8907882291474415, 'lambda_l1': 0.02954082387390135, 'lambda_l2': 0.19360568949709941, 'learning_rate': 0.01, 'max_leaves': 67, 'metric': ('binary_logloss', 'binary_error'), 'min_data_in_leaf': 20, 'objective': 'binary', 'seed': 0, 'verbose': -1}\n"
     ]
    },
    {
     "name": "stdout",
     "output_type": "stream",
     "text": [
      "Training until validation scores don't improve for 40 rounds                    \n",
      " 67%|█████▎  | 67/100 [01:03<00:27,  1.21trial/s, best loss: 0.3788863722385602]"
     ]
    },
    {
     "name": "stderr",
     "output_type": "stream",
     "text": [
      "/Users/g-ogaki/miniforge3/lib/python3.9/site-packages/lightgbm/engine.py:181: UserWarning: 'early_stopping_rounds' argument is deprecated and will be removed in a future release of LightGBM. Pass 'early_stopping()' callback via 'callbacks' argument instead.\n",
      "  _log_warning(\"'early_stopping_rounds' argument is deprecated and will be removed in a future release of LightGBM. \"\n",
      "\n",
      "/Users/g-ogaki/miniforge3/lib/python3.9/site-packages/lightgbm/engine.py:239: UserWarning: 'verbose_eval' argument is deprecated and will be removed in a future release of LightGBM. Pass 'log_evaluation()' callback via 'callbacks' argument instead.\n",
      "  _log_warning(\"'verbose_eval' argument is deprecated and will be removed in a future release of LightGBM. \"\n",
      "\n"
     ]
    },
    {
     "name": "stdout",
     "output_type": "stream",
     "text": [
      "Early stopping, best iteration is:                                              \n",
      "[149]\ttraining's binary_logloss: 0.355883\ttraining's binary_error: 0.130618\tvalid_1's binary_logloss: 0.384524\tvalid_1's binary_error: 0.122905\n",
      " 68%|█████▍  | 68/100 [01:04<00:29,  1.10trial/s, best loss: 0.3788863722385602]"
     ]
    },
    {
     "name": "stderr",
     "output_type": "stream",
     "text": [
      "2022/01/01 18:14:40 2 [INFO] {'bagging_fraction': 0.8239554662263663, 'feature_fraction': 0.9518983480033326, 'lambda_l1': 0.02503469039734156, 'lambda_l2': 0.04498467128906251, 'learning_rate': 0.01, 'max_leaves': 54, 'metric': ('binary_logloss', 'binary_error'), 'min_data_in_leaf': 22, 'objective': 'binary', 'seed': 0, 'verbose': -1}\n"
     ]
    },
    {
     "name": "stdout",
     "output_type": "stream",
     "text": [
      "Training until validation scores don't improve for 40 rounds                    \n",
      " 68%|█████▍  | 68/100 [01:04<00:29,  1.10trial/s, best loss: 0.3788863722385602]"
     ]
    },
    {
     "name": "stderr",
     "output_type": "stream",
     "text": [
      "/Users/g-ogaki/miniforge3/lib/python3.9/site-packages/lightgbm/engine.py:181: UserWarning: 'early_stopping_rounds' argument is deprecated and will be removed in a future release of LightGBM. Pass 'early_stopping()' callback via 'callbacks' argument instead.\n",
      "  _log_warning(\"'early_stopping_rounds' argument is deprecated and will be removed in a future release of LightGBM. \"\n",
      "\n",
      "/Users/g-ogaki/miniforge3/lib/python3.9/site-packages/lightgbm/engine.py:239: UserWarning: 'verbose_eval' argument is deprecated and will be removed in a future release of LightGBM. Pass 'log_evaluation()' callback via 'callbacks' argument instead.\n",
      "  _log_warning(\"'verbose_eval' argument is deprecated and will be removed in a future release of LightGBM. \"\n",
      "\n"
     ]
    },
    {
     "name": "stdout",
     "output_type": "stream",
     "text": [
      "Early stopping, best iteration is:                                              \n",
      "[64]\ttraining's binary_logloss: 0.462019\ttraining's binary_error: 0.15309\tvalid_1's binary_logloss: 0.477057\tvalid_1's binary_error: 0.145251\n",
      " 69%|█████▌  | 69/100 [01:05<00:26,  1.17trial/s, best loss: 0.3788863722385602]"
     ]
    },
    {
     "name": "stderr",
     "output_type": "stream",
     "text": [
      "2022/01/01 18:14:41 2 [INFO] {'bagging_fraction': 0.8008607015968467, 'feature_fraction': 0.9302699288606568, 'lambda_l1': 0.06623134561013373, 'lambda_l2': 0.021250503746493832, 'learning_rate': 0.01, 'max_leaves': 63, 'metric': ('binary_logloss', 'binary_error'), 'min_data_in_leaf': 26, 'objective': 'binary', 'seed': 0, 'verbose': -1}\n"
     ]
    },
    {
     "name": "stdout",
     "output_type": "stream",
     "text": [
      "Training until validation scores don't improve for 40 rounds                    \n",
      " 69%|█████▌  | 69/100 [01:05<00:26,  1.17trial/s, best loss: 0.3788863722385602]"
     ]
    },
    {
     "name": "stderr",
     "output_type": "stream",
     "text": [
      "/Users/g-ogaki/miniforge3/lib/python3.9/site-packages/lightgbm/engine.py:181: UserWarning: 'early_stopping_rounds' argument is deprecated and will be removed in a future release of LightGBM. Pass 'early_stopping()' callback via 'callbacks' argument instead.\n",
      "  _log_warning(\"'early_stopping_rounds' argument is deprecated and will be removed in a future release of LightGBM. \"\n",
      "\n",
      "/Users/g-ogaki/miniforge3/lib/python3.9/site-packages/lightgbm/engine.py:239: UserWarning: 'verbose_eval' argument is deprecated and will be removed in a future release of LightGBM. Pass 'log_evaluation()' callback via 'callbacks' argument instead.\n",
      "  _log_warning(\"'verbose_eval' argument is deprecated and will be removed in a future release of LightGBM. \"\n",
      "\n"
     ]
    },
    {
     "name": "stdout",
     "output_type": "stream",
     "text": [
      "Early stopping, best iteration is:                                              \n",
      "[157]\ttraining's binary_logloss: 0.364374\ttraining's binary_error: 0.141854\tvalid_1's binary_logloss: 0.376483\tvalid_1's binary_error: 0.122905\n",
      " 70%|██████▎  | 70/100 [01:06<00:28,  1.04trial/s, best loss: 0.376482596842505]"
     ]
    },
    {
     "name": "stderr",
     "output_type": "stream",
     "text": [
      "2022/01/01 18:14:42 2 [INFO] {'bagging_fraction': 0.910451436336539, 'feature_fraction': 0.934354377889884, 'lambda_l1': 0.07029755363465212, 'lambda_l2': 0.3077378898139011, 'learning_rate': 0.01, 'max_leaves': 63, 'metric': ('binary_logloss', 'binary_error'), 'min_data_in_leaf': 26, 'objective': 'binary', 'seed': 0, 'verbose': -1}\n"
     ]
    },
    {
     "name": "stdout",
     "output_type": "stream",
     "text": [
      "Training until validation scores don't improve for 40 rounds                    \n",
      " 70%|██████▎  | 70/100 [01:06<00:28,  1.04trial/s, best loss: 0.376482596842505]"
     ]
    },
    {
     "name": "stderr",
     "output_type": "stream",
     "text": [
      "/Users/g-ogaki/miniforge3/lib/python3.9/site-packages/lightgbm/engine.py:181: UserWarning: 'early_stopping_rounds' argument is deprecated and will be removed in a future release of LightGBM. Pass 'early_stopping()' callback via 'callbacks' argument instead.\n",
      "  _log_warning(\"'early_stopping_rounds' argument is deprecated and will be removed in a future release of LightGBM. \"\n",
      "\n",
      "/Users/g-ogaki/miniforge3/lib/python3.9/site-packages/lightgbm/engine.py:239: UserWarning: 'verbose_eval' argument is deprecated and will be removed in a future release of LightGBM. Pass 'log_evaluation()' callback via 'callbacks' argument instead.\n",
      "  _log_warning(\"'verbose_eval' argument is deprecated and will be removed in a future release of LightGBM. \"\n",
      "\n"
     ]
    },
    {
     "name": "stdout",
     "output_type": "stream",
     "text": [
      "Early stopping, best iteration is:                                              \n",
      "[76]\ttraining's binary_logloss: 0.450281\ttraining's binary_error: 0.148876\tvalid_1's binary_logloss: 0.457239\tvalid_1's binary_error: 0.139665\n",
      " 71%|██████▍  | 71/100 [01:07<00:25,  1.16trial/s, best loss: 0.376482596842505]"
     ]
    },
    {
     "name": "stderr",
     "output_type": "stream",
     "text": [
      "2022/01/01 18:14:42 2 [INFO] {'bagging_fraction': 0.8106335920045983, 'feature_fraction': 0.9251381848021428, 'lambda_l1': 0.043008615504774854, 'lambda_l2': 0.14607595137649562, 'learning_rate': 0.01, 'max_leaves': 56, 'metric': ('binary_logloss', 'binary_error'), 'min_data_in_leaf': 32, 'objective': 'binary', 'seed': 0, 'verbose': -1}\n"
     ]
    },
    {
     "name": "stdout",
     "output_type": "stream",
     "text": [
      "Training until validation scores don't improve for 40 rounds                    \n",
      " 71%|██████▍  | 71/100 [01:07<00:25,  1.16trial/s, best loss: 0.376482596842505]"
     ]
    },
    {
     "name": "stderr",
     "output_type": "stream",
     "text": [
      "/Users/g-ogaki/miniforge3/lib/python3.9/site-packages/lightgbm/engine.py:181: UserWarning: 'early_stopping_rounds' argument is deprecated and will be removed in a future release of LightGBM. Pass 'early_stopping()' callback via 'callbacks' argument instead.\n",
      "  _log_warning(\"'early_stopping_rounds' argument is deprecated and will be removed in a future release of LightGBM. \"\n",
      "\n",
      "/Users/g-ogaki/miniforge3/lib/python3.9/site-packages/lightgbm/engine.py:239: UserWarning: 'verbose_eval' argument is deprecated and will be removed in a future release of LightGBM. Pass 'log_evaluation()' callback via 'callbacks' argument instead.\n",
      "  _log_warning(\"'verbose_eval' argument is deprecated and will be removed in a future release of LightGBM. \"\n",
      "\n"
     ]
    },
    {
     "name": "stdout",
     "output_type": "stream",
     "text": [
      "Early stopping, best iteration is:                                              \n",
      "[95]\ttraining's binary_logloss: 0.42523\ttraining's binary_error: 0.150281\tvalid_1's binary_logloss: 0.424814\tvalid_1's binary_error: 0.128492\n",
      " 72%|██████▍  | 72/100 [01:08<00:24,  1.15trial/s, best loss: 0.376482596842505]"
     ]
    },
    {
     "name": "stderr",
     "output_type": "stream",
     "text": [
      "2022/01/01 18:14:43 2 [INFO] {'bagging_fraction': 0.8533894969530758, 'feature_fraction': 0.9599258742169076, 'lambda_l1': 0.05345946973486347, 'lambda_l2': 0.23195487441825188, 'learning_rate': 0.01, 'max_leaves': 73, 'metric': ('binary_logloss', 'binary_error'), 'min_data_in_leaf': 24, 'objective': 'binary', 'seed': 0, 'verbose': -1}\n"
     ]
    },
    {
     "name": "stdout",
     "output_type": "stream",
     "text": [
      "Training until validation scores don't improve for 40 rounds                    \n",
      " 72%|██████▍  | 72/100 [01:08<00:24,  1.15trial/s, best loss: 0.376482596842505]"
     ]
    },
    {
     "name": "stderr",
     "output_type": "stream",
     "text": [
      "/Users/g-ogaki/miniforge3/lib/python3.9/site-packages/lightgbm/engine.py:181: UserWarning: 'early_stopping_rounds' argument is deprecated and will be removed in a future release of LightGBM. Pass 'early_stopping()' callback via 'callbacks' argument instead.\n",
      "  _log_warning(\"'early_stopping_rounds' argument is deprecated and will be removed in a future release of LightGBM. \"\n",
      "\n",
      "/Users/g-ogaki/miniforge3/lib/python3.9/site-packages/lightgbm/engine.py:239: UserWarning: 'verbose_eval' argument is deprecated and will be removed in a future release of LightGBM. Pass 'log_evaluation()' callback via 'callbacks' argument instead.\n",
      "  _log_warning(\"'verbose_eval' argument is deprecated and will be removed in a future release of LightGBM. \"\n",
      "\n"
     ]
    },
    {
     "name": "stdout",
     "output_type": "stream",
     "text": [
      "Early stopping, best iteration is:                                              \n",
      "[134]\ttraining's binary_logloss: 0.381436\ttraining's binary_error: 0.139045\tvalid_1's binary_logloss: 0.395349\tvalid_1's binary_error: 0.122905\n",
      " 73%|██████▌  | 73/100 [01:09<00:22,  1.18trial/s, best loss: 0.376482596842505]"
     ]
    },
    {
     "name": "stderr",
     "output_type": "stream",
     "text": [
      "2022/01/01 18:14:44 2 [INFO] {'bagging_fraction': 0.8808905565625905, 'feature_fraction': 0.9147765654985177, 'lambda_l1': 0.034985667348618556, 'lambda_l2': 0.0824697708062227, 'learning_rate': 0.01, 'max_leaves': 65, 'metric': ('binary_logloss', 'binary_error'), 'min_data_in_leaf': 35, 'objective': 'binary', 'seed': 0, 'verbose': -1}\n"
     ]
    },
    {
     "name": "stdout",
     "output_type": "stream",
     "text": [
      "Training until validation scores don't improve for 40 rounds                    \n",
      " 73%|██████▌  | 73/100 [01:09<00:22,  1.18trial/s, best loss: 0.376482596842505]"
     ]
    },
    {
     "name": "stderr",
     "output_type": "stream",
     "text": [
      "/Users/g-ogaki/miniforge3/lib/python3.9/site-packages/lightgbm/engine.py:181: UserWarning: 'early_stopping_rounds' argument is deprecated and will be removed in a future release of LightGBM. Pass 'early_stopping()' callback via 'callbacks' argument instead.\n",
      "  _log_warning(\"'early_stopping_rounds' argument is deprecated and will be removed in a future release of LightGBM. \"\n",
      "\n",
      "/Users/g-ogaki/miniforge3/lib/python3.9/site-packages/lightgbm/engine.py:239: UserWarning: 'verbose_eval' argument is deprecated and will be removed in a future release of LightGBM. Pass 'log_evaluation()' callback via 'callbacks' argument instead.\n",
      "  _log_warning(\"'verbose_eval' argument is deprecated and will be removed in a future release of LightGBM. \"\n",
      "\n"
     ]
    },
    {
     "name": "stdout",
     "output_type": "stream",
     "text": [
      "Early stopping, best iteration is:                                              \n",
      "[76]\ttraining's binary_logloss: 0.451888\ttraining's binary_error: 0.150281\tvalid_1's binary_logloss: 0.450237\tvalid_1's binary_error: 0.128492\n",
      " 74%|██████▋  | 74/100 [01:09<00:20,  1.28trial/s, best loss: 0.376482596842505]"
     ]
    },
    {
     "name": "stderr",
     "output_type": "stream",
     "text": [
      "2022/01/01 18:14:45 2 [INFO] {'bagging_fraction': 0.8846376234526474, 'feature_fraction': 0.9725181772562271, 'lambda_l1': 0.05184580878172441, 'lambda_l2': 0.010064055519559224, 'learning_rate': 0.01, 'max_leaves': 58, 'metric': ('binary_logloss', 'binary_error'), 'min_data_in_leaf': 29, 'objective': 'binary', 'seed': 0, 'verbose': -1}\n"
     ]
    },
    {
     "name": "stdout",
     "output_type": "stream",
     "text": [
      "Training until validation scores don't improve for 40 rounds                    \n",
      " 74%|██████▋  | 74/100 [01:09<00:20,  1.28trial/s, best loss: 0.376482596842505]"
     ]
    },
    {
     "name": "stderr",
     "output_type": "stream",
     "text": [
      "/Users/g-ogaki/miniforge3/lib/python3.9/site-packages/lightgbm/engine.py:181: UserWarning: 'early_stopping_rounds' argument is deprecated and will be removed in a future release of LightGBM. Pass 'early_stopping()' callback via 'callbacks' argument instead.\n",
      "  _log_warning(\"'early_stopping_rounds' argument is deprecated and will be removed in a future release of LightGBM. \"\n",
      "\n",
      "/Users/g-ogaki/miniforge3/lib/python3.9/site-packages/lightgbm/engine.py:239: UserWarning: 'verbose_eval' argument is deprecated and will be removed in a future release of LightGBM. Pass 'log_evaluation()' callback via 'callbacks' argument instead.\n",
      "  _log_warning(\"'verbose_eval' argument is deprecated and will be removed in a future release of LightGBM. \"\n",
      "\n"
     ]
    },
    {
     "name": "stdout",
     "output_type": "stream",
     "text": [
      "Early stopping, best iteration is:                                              \n",
      "[142]\ttraining's binary_logloss: 0.376937\ttraining's binary_error: 0.141854\tvalid_1's binary_logloss: 0.384411\tvalid_1's binary_error: 0.122905\n",
      " 75%|██████▊  | 75/100 [01:10<00:22,  1.11trial/s, best loss: 0.376482596842505]"
     ]
    },
    {
     "name": "stderr",
     "output_type": "stream",
     "text": [
      "2022/01/01 18:14:46 2 [INFO] {'bagging_fraction': 0.9443709491371213, 'feature_fraction': 0.9046076714283018, 'lambda_l1': 0.06356084782127738, 'lambda_l2': 0.11945464576224052, 'learning_rate': 0.01, 'max_leaves': 78, 'metric': ('binary_logloss', 'binary_error'), 'min_data_in_leaf': 31, 'objective': 'binary', 'seed': 0, 'verbose': -1}\n"
     ]
    },
    {
     "name": "stdout",
     "output_type": "stream",
     "text": [
      "Training until validation scores don't improve for 40 rounds                    \n",
      " 75%|██████▊  | 75/100 [01:10<00:22,  1.11trial/s, best loss: 0.376482596842505]"
     ]
    },
    {
     "name": "stderr",
     "output_type": "stream",
     "text": [
      "/Users/g-ogaki/miniforge3/lib/python3.9/site-packages/lightgbm/engine.py:181: UserWarning: 'early_stopping_rounds' argument is deprecated and will be removed in a future release of LightGBM. Pass 'early_stopping()' callback via 'callbacks' argument instead.\n",
      "  _log_warning(\"'early_stopping_rounds' argument is deprecated and will be removed in a future release of LightGBM. \"\n",
      "\n",
      "/Users/g-ogaki/miniforge3/lib/python3.9/site-packages/lightgbm/engine.py:239: UserWarning: 'verbose_eval' argument is deprecated and will be removed in a future release of LightGBM. Pass 'log_evaluation()' callback via 'callbacks' argument instead.\n",
      "  _log_warning(\"'verbose_eval' argument is deprecated and will be removed in a future release of LightGBM. \"\n",
      "\n"
     ]
    },
    {
     "name": "stdout",
     "output_type": "stream",
     "text": [
      "Early stopping, best iteration is:                                              \n",
      "[88]\ttraining's binary_logloss: 0.431969\ttraining's binary_error: 0.151685\tvalid_1's binary_logloss: 0.435373\tvalid_1's binary_error: 0.128492\n",
      " 76%|██████▊  | 76/100 [01:11<00:19,  1.20trial/s, best loss: 0.376482596842505]"
     ]
    },
    {
     "name": "stderr",
     "output_type": "stream",
     "text": [
      "2022/01/01 18:14:47 2 [INFO] {'bagging_fraction': 0.8003868122398579, 'feature_fraction': 0.9283911897397928, 'lambda_l1': 0.012890390439222278, 'lambda_l2': 0.02609445571096738, 'learning_rate': 0.01, 'max_leaves': 62, 'metric': ('binary_logloss', 'binary_error'), 'min_data_in_leaf': 27, 'objective': 'binary', 'seed': 0, 'verbose': -1}\n"
     ]
    },
    {
     "name": "stdout",
     "output_type": "stream",
     "text": [
      "Training until validation scores don't improve for 40 rounds                    \n",
      " 76%|██████▊  | 76/100 [01:11<00:19,  1.20trial/s, best loss: 0.376482596842505]"
     ]
    },
    {
     "name": "stderr",
     "output_type": "stream",
     "text": [
      "/Users/g-ogaki/miniforge3/lib/python3.9/site-packages/lightgbm/engine.py:181: UserWarning: 'early_stopping_rounds' argument is deprecated and will be removed in a future release of LightGBM. Pass 'early_stopping()' callback via 'callbacks' argument instead.\n",
      "  _log_warning(\"'early_stopping_rounds' argument is deprecated and will be removed in a future release of LightGBM. \"\n",
      "\n",
      "/Users/g-ogaki/miniforge3/lib/python3.9/site-packages/lightgbm/engine.py:239: UserWarning: 'verbose_eval' argument is deprecated and will be removed in a future release of LightGBM. Pass 'log_evaluation()' callback via 'callbacks' argument instead.\n",
      "  _log_warning(\"'verbose_eval' argument is deprecated and will be removed in a future release of LightGBM. \"\n",
      "\n"
     ]
    },
    {
     "name": "stdout",
     "output_type": "stream",
     "text": [
      "Early stopping, best iteration is:                                              \n",
      "[157]\ttraining's binary_logloss: 0.364136\ttraining's binary_error: 0.141854\tvalid_1's binary_logloss: 0.378379\tvalid_1's binary_error: 0.122905\n",
      " 77%|██████▉  | 77/100 [01:12<00:21,  1.09trial/s, best loss: 0.376482596842505]"
     ]
    },
    {
     "name": "stderr",
     "output_type": "stream",
     "text": [
      "2022/01/01 18:14:48 2 [INFO] {'bagging_fraction': 0.8179655934372226, 'feature_fraction': 0.9353346341603347, 'lambda_l1': 0.013215982464581243, 'lambda_l2': 0.02077282982979535, 'learning_rate': 0.01, 'max_leaves': 62, 'metric': ('binary_logloss', 'binary_error'), 'min_data_in_leaf': 27, 'objective': 'binary', 'seed': 0, 'verbose': -1}\n"
     ]
    },
    {
     "name": "stdout",
     "output_type": "stream",
     "text": [
      "Training until validation scores don't improve for 40 rounds                    \n",
      " 77%|██████▉  | 77/100 [01:12<00:21,  1.09trial/s, best loss: 0.376482596842505]"
     ]
    },
    {
     "name": "stderr",
     "output_type": "stream",
     "text": [
      "/Users/g-ogaki/miniforge3/lib/python3.9/site-packages/lightgbm/engine.py:181: UserWarning: 'early_stopping_rounds' argument is deprecated and will be removed in a future release of LightGBM. Pass 'early_stopping()' callback via 'callbacks' argument instead.\n",
      "  _log_warning(\"'early_stopping_rounds' argument is deprecated and will be removed in a future release of LightGBM. \"\n",
      "\n",
      "/Users/g-ogaki/miniforge3/lib/python3.9/site-packages/lightgbm/engine.py:239: UserWarning: 'verbose_eval' argument is deprecated and will be removed in a future release of LightGBM. Pass 'log_evaluation()' callback via 'callbacks' argument instead.\n",
      "  _log_warning(\"'verbose_eval' argument is deprecated and will be removed in a future release of LightGBM. \"\n",
      "\n"
     ]
    },
    {
     "name": "stdout",
     "output_type": "stream",
     "text": [
      "Early stopping, best iteration is:                                              \n",
      "[157]\ttraining's binary_logloss: 0.364021\ttraining's binary_error: 0.141854\tvalid_1's binary_logloss: 0.378403\tvalid_1's binary_error: 0.122905\n",
      " 78%|███████  | 78/100 [01:13<00:21,  1.01trial/s, best loss: 0.376482596842505]"
     ]
    },
    {
     "name": "stderr",
     "output_type": "stream",
     "text": [
      "2022/01/01 18:14:49 2 [INFO] {'bagging_fraction': 0.8010329111322471, 'feature_fraction': 0.9885176650636331, 'lambda_l1': 0.01000092790405197, 'lambda_l2': 0.02100115049178699, 'learning_rate': 0.01, 'max_leaves': 68, 'metric': ('binary_logloss', 'binary_error'), 'min_data_in_leaf': 36, 'objective': 'binary', 'seed': 0, 'verbose': -1}\n"
     ]
    },
    {
     "name": "stdout",
     "output_type": "stream",
     "text": [
      "Training until validation scores don't improve for 40 rounds                    \n",
      " 78%|███████  | 78/100 [01:13<00:21,  1.01trial/s, best loss: 0.376482596842505]"
     ]
    },
    {
     "name": "stderr",
     "output_type": "stream",
     "text": [
      "/Users/g-ogaki/miniforge3/lib/python3.9/site-packages/lightgbm/engine.py:181: UserWarning: 'early_stopping_rounds' argument is deprecated and will be removed in a future release of LightGBM. Pass 'early_stopping()' callback via 'callbacks' argument instead.\n",
      "  _log_warning(\"'early_stopping_rounds' argument is deprecated and will be removed in a future release of LightGBM. \"\n",
      "\n",
      "/Users/g-ogaki/miniforge3/lib/python3.9/site-packages/lightgbm/engine.py:239: UserWarning: 'verbose_eval' argument is deprecated and will be removed in a future release of LightGBM. Pass 'log_evaluation()' callback via 'callbacks' argument instead.\n",
      "  _log_warning(\"'verbose_eval' argument is deprecated and will be removed in a future release of LightGBM. \"\n",
      "\n"
     ]
    },
    {
     "name": "stdout",
     "output_type": "stream",
     "text": [
      "Early stopping, best iteration is:                                              \n",
      "[78]\ttraining's binary_logloss: 0.446282\ttraining's binary_error: 0.150281\tvalid_1's binary_logloss: 0.445031\tvalid_1's binary_error: 0.128492\n",
      " 79%|███████  | 79/100 [01:14<00:18,  1.16trial/s, best loss: 0.376482596842505]"
     ]
    },
    {
     "name": "stderr",
     "output_type": "stream",
     "text": [
      "2022/01/01 18:14:49 2 [INFO] {'bagging_fraction': 0.8189112101146286, 'feature_fraction': 0.9947853283240827, 'lambda_l1': 0.014181556729744176, 'lambda_l2': 0.0117893310353939, 'learning_rate': 0.01, 'max_leaves': 71, 'metric': ('binary_logloss', 'binary_error'), 'min_data_in_leaf': 40, 'objective': 'binary', 'seed': 0, 'verbose': -1}\n"
     ]
    },
    {
     "name": "stdout",
     "output_type": "stream",
     "text": [
      "Training until validation scores don't improve for 40 rounds                    \n",
      " 79%|███████  | 79/100 [01:14<00:18,  1.16trial/s, best loss: 0.376482596842505]"
     ]
    },
    {
     "name": "stderr",
     "output_type": "stream",
     "text": [
      "/Users/g-ogaki/miniforge3/lib/python3.9/site-packages/lightgbm/engine.py:181: UserWarning: 'early_stopping_rounds' argument is deprecated and will be removed in a future release of LightGBM. Pass 'early_stopping()' callback via 'callbacks' argument instead.\n",
      "  _log_warning(\"'early_stopping_rounds' argument is deprecated and will be removed in a future release of LightGBM. \"\n",
      "\n",
      "/Users/g-ogaki/miniforge3/lib/python3.9/site-packages/lightgbm/engine.py:239: UserWarning: 'verbose_eval' argument is deprecated and will be removed in a future release of LightGBM. Pass 'log_evaluation()' callback via 'callbacks' argument instead.\n",
      "  _log_warning(\"'verbose_eval' argument is deprecated and will be removed in a future release of LightGBM. \"\n",
      "\n"
     ]
    },
    {
     "name": "stdout",
     "output_type": "stream",
     "text": [
      "Early stopping, best iteration is:                                              \n",
      "[91]\ttraining's binary_logloss: 0.437017\ttraining's binary_error: 0.150281\tvalid_1's binary_logloss: 0.432285\tvalid_1's binary_error: 0.122905\n",
      " 80%|███████▏ | 80/100 [01:14<00:15,  1.26trial/s, best loss: 0.376482596842505]"
     ]
    },
    {
     "name": "stderr",
     "output_type": "stream",
     "text": [
      "2022/01/01 18:14:50 2 [INFO] {'bagging_fraction': 0.8064695404390846, 'feature_fraction': 0.9545831415158168, 'lambda_l1': 0.011529361068766312, 'lambda_l2': 0.01644952455058079, 'learning_rate': 0.01, 'max_leaves': 61, 'metric': ('binary_logloss', 'binary_error'), 'min_data_in_leaf': 27, 'objective': 'binary', 'seed': 0, 'verbose': -1}\n"
     ]
    },
    {
     "name": "stdout",
     "output_type": "stream",
     "text": [
      "Training until validation scores don't improve for 40 rounds                    \n",
      " 80%|███████▏ | 80/100 [01:15<00:15,  1.26trial/s, best loss: 0.376482596842505]"
     ]
    },
    {
     "name": "stderr",
     "output_type": "stream",
     "text": [
      "/Users/g-ogaki/miniforge3/lib/python3.9/site-packages/lightgbm/engine.py:181: UserWarning: 'early_stopping_rounds' argument is deprecated and will be removed in a future release of LightGBM. Pass 'early_stopping()' callback via 'callbacks' argument instead.\n",
      "  _log_warning(\"'early_stopping_rounds' argument is deprecated and will be removed in a future release of LightGBM. \"\n",
      "\n",
      "/Users/g-ogaki/miniforge3/lib/python3.9/site-packages/lightgbm/engine.py:239: UserWarning: 'verbose_eval' argument is deprecated and will be removed in a future release of LightGBM. Pass 'log_evaluation()' callback via 'callbacks' argument instead.\n",
      "  _log_warning(\"'verbose_eval' argument is deprecated and will be removed in a future release of LightGBM. \"\n",
      "\n"
     ]
    },
    {
     "name": "stdout",
     "output_type": "stream",
     "text": [
      "Early stopping, best iteration is:                                              \n",
      "[71]\ttraining's binary_logloss: 0.453655\ttraining's binary_error: 0.151685\tvalid_1's binary_logloss: 0.460441\tvalid_1's binary_error: 0.139665\n",
      " 81%|███████▎ | 81/100 [01:15<00:13,  1.37trial/s, best loss: 0.376482596842505]"
     ]
    },
    {
     "name": "stderr",
     "output_type": "stream",
     "text": [
      "2022/01/01 18:14:51 2 [INFO] {'bagging_fraction': 0.8010237068494679, 'feature_fraction': 0.9473760620760426, 'lambda_l1': 0.020306054798784494, 'lambda_l2': 0.022415400601897048, 'learning_rate': 0.01, 'max_leaves': 65, 'metric': ('binary_logloss', 'binary_error'), 'min_data_in_leaf': 29, 'objective': 'binary', 'seed': 0, 'verbose': -1}\n"
     ]
    },
    {
     "name": "stdout",
     "output_type": "stream",
     "text": [
      "Training until validation scores don't improve for 40 rounds                    \n",
      " 81%|███████▎ | 81/100 [01:15<00:13,  1.37trial/s, best loss: 0.376482596842505]"
     ]
    },
    {
     "name": "stderr",
     "output_type": "stream",
     "text": [
      "/Users/g-ogaki/miniforge3/lib/python3.9/site-packages/lightgbm/engine.py:181: UserWarning: 'early_stopping_rounds' argument is deprecated and will be removed in a future release of LightGBM. Pass 'early_stopping()' callback via 'callbacks' argument instead.\n",
      "  _log_warning(\"'early_stopping_rounds' argument is deprecated and will be removed in a future release of LightGBM. \"\n",
      "\n",
      "/Users/g-ogaki/miniforge3/lib/python3.9/site-packages/lightgbm/engine.py:239: UserWarning: 'verbose_eval' argument is deprecated and will be removed in a future release of LightGBM. Pass 'log_evaluation()' callback via 'callbacks' argument instead.\n",
      "  _log_warning(\"'verbose_eval' argument is deprecated and will be removed in a future release of LightGBM. \"\n",
      "\n"
     ]
    },
    {
     "name": "stdout",
     "output_type": "stream",
     "text": [
      "Early stopping, best iteration is:                                              \n",
      "[117]\ttraining's binary_logloss: 0.396708\ttraining's binary_error: 0.148876\tvalid_1's binary_logloss: 0.40419\tvalid_1's binary_error: 0.128492\n",
      " 82%|███████▍ | 82/100 [01:16<00:13,  1.31trial/s, best loss: 0.376482596842505]"
     ]
    },
    {
     "name": "stderr",
     "output_type": "stream",
     "text": [
      "2022/01/01 18:14:52 2 [INFO] {'bagging_fraction': 0.8152866553499878, 'feature_fraction': 0.9383315581944849, 'lambda_l1': 0.012704207687560904, 'lambda_l2': 0.02764549689146553, 'learning_rate': 0.01, 'max_leaves': 54, 'metric': ('binary_logloss', 'binary_error'), 'min_data_in_leaf': 38, 'objective': 'binary', 'seed': 0, 'verbose': -1}\n"
     ]
    },
    {
     "name": "stdout",
     "output_type": "stream",
     "text": [
      "Training until validation scores don't improve for 40 rounds                    \n",
      " 82%|███████▍ | 82/100 [01:16<00:13,  1.31trial/s, best loss: 0.376482596842505]"
     ]
    },
    {
     "name": "stderr",
     "output_type": "stream",
     "text": [
      "/Users/g-ogaki/miniforge3/lib/python3.9/site-packages/lightgbm/engine.py:181: UserWarning: 'early_stopping_rounds' argument is deprecated and will be removed in a future release of LightGBM. Pass 'early_stopping()' callback via 'callbacks' argument instead.\n",
      "  _log_warning(\"'early_stopping_rounds' argument is deprecated and will be removed in a future release of LightGBM. \"\n",
      "\n",
      "/Users/g-ogaki/miniforge3/lib/python3.9/site-packages/lightgbm/engine.py:239: UserWarning: 'verbose_eval' argument is deprecated and will be removed in a future release of LightGBM. Pass 'log_evaluation()' callback via 'callbacks' argument instead.\n",
      "  _log_warning(\"'verbose_eval' argument is deprecated and will be removed in a future release of LightGBM. \"\n",
      "\n"
     ]
    },
    {
     "name": "stdout",
     "output_type": "stream",
     "text": [
      "Early stopping, best iteration is:                                              \n",
      "[115]\ttraining's binary_logloss: 0.408784\ttraining's binary_error: 0.150281\tvalid_1's binary_logloss: 0.407594\tvalid_1's binary_error: 0.122905\n",
      " 83%|███████▍ | 83/100 [01:17<00:13,  1.28trial/s, best loss: 0.376482596842505]"
     ]
    },
    {
     "name": "stderr",
     "output_type": "stream",
     "text": [
      "2022/01/01 18:14:52 2 [INFO] {'bagging_fraction': 0.8243164969571491, 'feature_fraction': 0.935081578226042, 'lambda_l1': 0.017623201351886074, 'lambda_l2': 0.013921616943543814, 'learning_rate': 0.01, 'max_leaves': 43, 'metric': ('binary_logloss', 'binary_error'), 'min_data_in_leaf': 25, 'objective': 'binary', 'seed': 0, 'verbose': -1}\n"
     ]
    },
    {
     "name": "stdout",
     "output_type": "stream",
     "text": [
      "Training until validation scores don't improve for 40 rounds                    \n",
      " 83%|███████▍ | 83/100 [01:17<00:13,  1.28trial/s, best loss: 0.376482596842505]"
     ]
    },
    {
     "name": "stderr",
     "output_type": "stream",
     "text": [
      "/Users/g-ogaki/miniforge3/lib/python3.9/site-packages/lightgbm/engine.py:181: UserWarning: 'early_stopping_rounds' argument is deprecated and will be removed in a future release of LightGBM. Pass 'early_stopping()' callback via 'callbacks' argument instead.\n",
      "  _log_warning(\"'early_stopping_rounds' argument is deprecated and will be removed in a future release of LightGBM. \"\n",
      "\n",
      "/Users/g-ogaki/miniforge3/lib/python3.9/site-packages/lightgbm/engine.py:239: UserWarning: 'verbose_eval' argument is deprecated and will be removed in a future release of LightGBM. Pass 'log_evaluation()' callback via 'callbacks' argument instead.\n",
      "  _log_warning(\"'verbose_eval' argument is deprecated and will be removed in a future release of LightGBM. \"\n",
      "\n"
     ]
    },
    {
     "name": "stdout",
     "output_type": "stream",
     "text": [
      "Early stopping, best iteration is:                                              \n",
      "[152]\ttraining's binary_logloss: 0.364725\ttraining's binary_error: 0.13764\tvalid_1's binary_logloss: 0.379276\tvalid_1's binary_error: 0.122905\n",
      " 84%|███████▌ | 84/100 [01:18<00:15,  1.07trial/s, best loss: 0.376482596842505]"
     ]
    },
    {
     "name": "stderr",
     "output_type": "stream",
     "text": [
      "2022/01/01 18:14:54 2 [INFO] {'bagging_fraction': 0.8396309058141567, 'feature_fraction': 0.9627851123332554, 'lambda_l1': 0.024281295745183316, 'lambda_l2': 0.02778617010899328, 'learning_rate': 0.01, 'max_leaves': 51, 'metric': ('binary_logloss', 'binary_error'), 'min_data_in_leaf': 44, 'objective': 'binary', 'seed': 0, 'verbose': -1}\n"
     ]
    },
    {
     "name": "stdout",
     "output_type": "stream",
     "text": [
      "Training until validation scores don't improve for 40 rounds                    \n",
      " 84%|███████▌ | 84/100 [01:18<00:15,  1.07trial/s, best loss: 0.376482596842505]"
     ]
    },
    {
     "name": "stderr",
     "output_type": "stream",
     "text": [
      "/Users/g-ogaki/miniforge3/lib/python3.9/site-packages/lightgbm/engine.py:181: UserWarning: 'early_stopping_rounds' argument is deprecated and will be removed in a future release of LightGBM. Pass 'early_stopping()' callback via 'callbacks' argument instead.\n",
      "  _log_warning(\"'early_stopping_rounds' argument is deprecated and will be removed in a future release of LightGBM. \"\n",
      "\n",
      "/Users/g-ogaki/miniforge3/lib/python3.9/site-packages/lightgbm/engine.py:239: UserWarning: 'verbose_eval' argument is deprecated and will be removed in a future release of LightGBM. Pass 'log_evaluation()' callback via 'callbacks' argument instead.\n",
      "  _log_warning(\"'verbose_eval' argument is deprecated and will be removed in a future release of LightGBM. \"\n",
      "\n"
     ]
    },
    {
     "name": "stdout",
     "output_type": "stream",
     "text": [
      "Early stopping, best iteration is:                                              \n",
      "[79]\ttraining's binary_logloss: 0.454525\ttraining's binary_error: 0.150281\tvalid_1's binary_logloss: 0.445121\tvalid_1's binary_error: 0.122905\n",
      " 85%|███████▋ | 85/100 [01:19<00:12,  1.23trial/s, best loss: 0.376482596842505]"
     ]
    },
    {
     "name": "stderr",
     "output_type": "stream",
     "text": [
      "2022/01/01 18:14:54 2 [INFO] {'bagging_fraction': 0.808341077334815, 'feature_fraction': 0.9286241626175878, 'lambda_l1': 0.015099816735185375, 'lambda_l2': 0.03566109543074987, 'learning_rate': 0.01, 'max_leaves': 47, 'metric': ('binary_logloss', 'binary_error'), 'min_data_in_leaf': 32, 'objective': 'binary', 'seed': 0, 'verbose': -1}\n"
     ]
    },
    {
     "name": "stdout",
     "output_type": "stream",
     "text": [
      "Training until validation scores don't improve for 40 rounds                    \n",
      " 85%|███████▋ | 85/100 [01:19<00:12,  1.23trial/s, best loss: 0.376482596842505]"
     ]
    },
    {
     "name": "stderr",
     "output_type": "stream",
     "text": [
      "/Users/g-ogaki/miniforge3/lib/python3.9/site-packages/lightgbm/engine.py:181: UserWarning: 'early_stopping_rounds' argument is deprecated and will be removed in a future release of LightGBM. Pass 'early_stopping()' callback via 'callbacks' argument instead.\n",
      "  _log_warning(\"'early_stopping_rounds' argument is deprecated and will be removed in a future release of LightGBM. \"\n",
      "\n",
      "/Users/g-ogaki/miniforge3/lib/python3.9/site-packages/lightgbm/engine.py:239: UserWarning: 'verbose_eval' argument is deprecated and will be removed in a future release of LightGBM. Pass 'log_evaluation()' callback via 'callbacks' argument instead.\n",
      "  _log_warning(\"'verbose_eval' argument is deprecated and will be removed in a future release of LightGBM. \"\n",
      "\n"
     ]
    },
    {
     "name": "stdout",
     "output_type": "stream",
     "text": [
      "Early stopping, best iteration is:                                              \n",
      "[90]\ttraining's binary_logloss: 0.429704\ttraining's binary_error: 0.150281\tvalid_1's binary_logloss: 0.428176\tvalid_1's binary_error: 0.128492\n",
      " 86%|███████▋ | 86/100 [01:19<00:11,  1.25trial/s, best loss: 0.376482596842505]"
     ]
    },
    {
     "name": "stderr",
     "output_type": "stream",
     "text": [
      "2022/01/01 18:14:55 2 [INFO] {'bagging_fraction': 0.805337237100017, 'feature_fraction': 0.9703127597560237, 'lambda_l1': 0.010797017143927213, 'lambda_l2': 0.0204739792267175, 'learning_rate': 0.01, 'max_leaves': 69, 'metric': ('binary_logloss', 'binary_error'), 'min_data_in_leaf': 34, 'objective': 'binary', 'seed': 0, 'verbose': -1}\n"
     ]
    },
    {
     "name": "stdout",
     "output_type": "stream",
     "text": [
      "Training until validation scores don't improve for 40 rounds                    \n",
      " 86%|███████▋ | 86/100 [01:19<00:11,  1.25trial/s, best loss: 0.376482596842505]"
     ]
    },
    {
     "name": "stderr",
     "output_type": "stream",
     "text": [
      "/Users/g-ogaki/miniforge3/lib/python3.9/site-packages/lightgbm/engine.py:181: UserWarning: 'early_stopping_rounds' argument is deprecated and will be removed in a future release of LightGBM. Pass 'early_stopping()' callback via 'callbacks' argument instead.\n",
      "  _log_warning(\"'early_stopping_rounds' argument is deprecated and will be removed in a future release of LightGBM. \"\n",
      "\n",
      "/Users/g-ogaki/miniforge3/lib/python3.9/site-packages/lightgbm/engine.py:239: UserWarning: 'verbose_eval' argument is deprecated and will be removed in a future release of LightGBM. Pass 'log_evaluation()' callback via 'callbacks' argument instead.\n",
      "  _log_warning(\"'verbose_eval' argument is deprecated and will be removed in a future release of LightGBM. \"\n",
      "\n"
     ]
    },
    {
     "name": "stdout",
     "output_type": "stream",
     "text": [
      "Early stopping, best iteration is:                                              \n",
      "[78]\ttraining's binary_logloss: 0.44564\ttraining's binary_error: 0.150281\tvalid_1's binary_logloss: 0.44418\tvalid_1's binary_error: 0.128492\n",
      " 87%|███████▊ | 87/100 [01:20<00:09,  1.31trial/s, best loss: 0.376482596842505]"
     ]
    },
    {
     "name": "stderr",
     "output_type": "stream",
     "text": [
      "2022/01/01 18:14:56 2 [INFO] {'bagging_fraction': 0.8150412107422638, 'feature_fraction': 0.9752371494341349, 'lambda_l1': 0.0380808507884837, 'lambda_l2': 0.05071939465947144, 'learning_rate': 0.01, 'max_leaves': 59, 'metric': ('binary_logloss', 'binary_error'), 'min_data_in_leaf': 27, 'objective': 'binary', 'seed': 0, 'verbose': -1}\n"
     ]
    },
    {
     "name": "stdout",
     "output_type": "stream",
     "text": [
      "Training until validation scores don't improve for 40 rounds                    \n",
      " 87%|███████▊ | 87/100 [01:20<00:09,  1.31trial/s, best loss: 0.376482596842505]"
     ]
    },
    {
     "name": "stderr",
     "output_type": "stream",
     "text": [
      "/Users/g-ogaki/miniforge3/lib/python3.9/site-packages/lightgbm/engine.py:181: UserWarning: 'early_stopping_rounds' argument is deprecated and will be removed in a future release of LightGBM. Pass 'early_stopping()' callback via 'callbacks' argument instead.\n",
      "  _log_warning(\"'early_stopping_rounds' argument is deprecated and will be removed in a future release of LightGBM. \"\n",
      "\n",
      "/Users/g-ogaki/miniforge3/lib/python3.9/site-packages/lightgbm/engine.py:239: UserWarning: 'verbose_eval' argument is deprecated and will be removed in a future release of LightGBM. Pass 'log_evaluation()' callback via 'callbacks' argument instead.\n",
      "  _log_warning(\"'verbose_eval' argument is deprecated and will be removed in a future release of LightGBM. \"\n",
      "\n"
     ]
    },
    {
     "name": "stdout",
     "output_type": "stream",
     "text": [
      "Early stopping, best iteration is:                                              \n",
      "[157]\ttraining's binary_logloss: 0.364951\ttraining's binary_error: 0.140449\tvalid_1's binary_logloss: 0.376658\tvalid_1's binary_error: 0.117318\n",
      " 88%|███████▉ | 88/100 [01:21<00:11,  1.08trial/s, best loss: 0.376482596842505]"
     ]
    },
    {
     "name": "stderr",
     "output_type": "stream",
     "text": [
      "2022/01/01 18:14:57 2 [INFO] {'bagging_fraction': 0.8279209998930009, 'feature_fraction': 0.9768498565059994, 'lambda_l1': 0.09554027253381556, 'lambda_l2': 0.0490776961820894, 'learning_rate': 0.01, 'max_leaves': 59, 'metric': ('binary_logloss', 'binary_error'), 'min_data_in_leaf': 31, 'objective': 'binary', 'seed': 0, 'verbose': -1}\n"
     ]
    },
    {
     "name": "stdout",
     "output_type": "stream",
     "text": [
      "Training until validation scores don't improve for 40 rounds                    \n",
      " 88%|███████▉ | 88/100 [01:21<00:11,  1.08trial/s, best loss: 0.376482596842505]"
     ]
    },
    {
     "name": "stderr",
     "output_type": "stream",
     "text": [
      "/Users/g-ogaki/miniforge3/lib/python3.9/site-packages/lightgbm/engine.py:181: UserWarning: 'early_stopping_rounds' argument is deprecated and will be removed in a future release of LightGBM. Pass 'early_stopping()' callback via 'callbacks' argument instead.\n",
      "  _log_warning(\"'early_stopping_rounds' argument is deprecated and will be removed in a future release of LightGBM. \"\n",
      "\n",
      "/Users/g-ogaki/miniforge3/lib/python3.9/site-packages/lightgbm/engine.py:239: UserWarning: 'verbose_eval' argument is deprecated and will be removed in a future release of LightGBM. Pass 'log_evaluation()' callback via 'callbacks' argument instead.\n",
      "  _log_warning(\"'verbose_eval' argument is deprecated and will be removed in a future release of LightGBM. \"\n",
      "\n"
     ]
    },
    {
     "name": "stdout",
     "output_type": "stream",
     "text": [
      "Early stopping, best iteration is:                                              \n",
      "[74]\ttraining's binary_logloss: 0.451089\ttraining's binary_error: 0.150281\tvalid_1's binary_logloss: 0.45362\tvalid_1's binary_error: 0.128492\n",
      " 89%|████████ | 89/100 [01:22<00:08,  1.27trial/s, best loss: 0.376482596842505]"
     ]
    },
    {
     "name": "stderr",
     "output_type": "stream",
     "text": [
      "2022/01/01 18:14:57 2 [INFO] {'bagging_fraction': 0.812975076835073, 'feature_fraction': 0.9820127095521615, 'lambda_l1': 0.03258325683719617, 'lambda_l2': 0.012314904130365314, 'learning_rate': 0.01, 'max_leaves': 40, 'metric': ('binary_logloss', 'binary_error'), 'min_data_in_leaf': 23, 'objective': 'binary', 'seed': 0, 'verbose': -1}\n"
     ]
    },
    {
     "name": "stdout",
     "output_type": "stream",
     "text": [
      "Training until validation scores don't improve for 40 rounds                    \n",
      " 89%|████████ | 89/100 [01:22<00:08,  1.27trial/s, best loss: 0.376482596842505]"
     ]
    },
    {
     "name": "stderr",
     "output_type": "stream",
     "text": [
      "/Users/g-ogaki/miniforge3/lib/python3.9/site-packages/lightgbm/engine.py:181: UserWarning: 'early_stopping_rounds' argument is deprecated and will be removed in a future release of LightGBM. Pass 'early_stopping()' callback via 'callbacks' argument instead.\n",
      "  _log_warning(\"'early_stopping_rounds' argument is deprecated and will be removed in a future release of LightGBM. \"\n",
      "\n",
      "/Users/g-ogaki/miniforge3/lib/python3.9/site-packages/lightgbm/engine.py:239: UserWarning: 'verbose_eval' argument is deprecated and will be removed in a future release of LightGBM. Pass 'log_evaluation()' callback via 'callbacks' argument instead.\n",
      "  _log_warning(\"'verbose_eval' argument is deprecated and will be removed in a future release of LightGBM. \"\n",
      "\n"
     ]
    },
    {
     "name": "stdout",
     "output_type": "stream",
     "text": [
      "Early stopping, best iteration is:                                              \n",
      "[64]\ttraining's binary_logloss: 0.462289\ttraining's binary_error: 0.15309\tvalid_1's binary_logloss: 0.476453\tvalid_1's binary_error: 0.145251\n",
      " 90%|████████ | 90/100 [01:22<00:07,  1.40trial/s, best loss: 0.376482596842505]"
     ]
    },
    {
     "name": "stderr",
     "output_type": "stream",
     "text": [
      "2022/01/01 18:14:58 2 [INFO] {'bagging_fraction': 0.8003580153850997, 'feature_fraction': 0.9201174170344479, 'lambda_l1': 0.08407006061261475, 'lambda_l2': 0.038973352514857555, 'learning_rate': 0.01, 'max_leaves': 56, 'metric': ('binary_logloss', 'binary_error'), 'min_data_in_leaf': 30, 'objective': 'binary', 'seed': 0, 'verbose': -1}\n"
     ]
    },
    {
     "name": "stdout",
     "output_type": "stream",
     "text": [
      "Training until validation scores don't improve for 40 rounds                    \n",
      " 90%|████████ | 90/100 [01:22<00:07,  1.40trial/s, best loss: 0.376482596842505]"
     ]
    },
    {
     "name": "stderr",
     "output_type": "stream",
     "text": [
      "/Users/g-ogaki/miniforge3/lib/python3.9/site-packages/lightgbm/engine.py:181: UserWarning: 'early_stopping_rounds' argument is deprecated and will be removed in a future release of LightGBM. Pass 'early_stopping()' callback via 'callbacks' argument instead.\n",
      "  _log_warning(\"'early_stopping_rounds' argument is deprecated and will be removed in a future release of LightGBM. \"\n",
      "\n",
      "/Users/g-ogaki/miniforge3/lib/python3.9/site-packages/lightgbm/engine.py:239: UserWarning: 'verbose_eval' argument is deprecated and will be removed in a future release of LightGBM. Pass 'log_evaluation()' callback via 'callbacks' argument instead.\n",
      "  _log_warning(\"'verbose_eval' argument is deprecated and will be removed in a future release of LightGBM. \"\n",
      "\n"
     ]
    },
    {
     "name": "stdout",
     "output_type": "stream",
     "text": [
      "Early stopping, best iteration is:                                              \n",
      "[90]\ttraining's binary_logloss: 0.428201\ttraining's binary_error: 0.151685\tvalid_1's binary_logloss: 0.432411\tvalid_1's binary_error: 0.128492\n",
      " 91%|████████▏| 91/100 [01:23<00:06,  1.43trial/s, best loss: 0.376482596842505]"
     ]
    },
    {
     "name": "stderr",
     "output_type": "stream",
     "text": [
      "2022/01/01 18:14:59 2 [INFO] {'bagging_fraction': 0.8335591348836826, 'feature_fraction': 0.9944727906135213, 'lambda_l1': 0.03778222426050006, 'lambda_l2': 0.017230211775053617, 'learning_rate': 0.01, 'max_leaves': 45, 'metric': ('binary_logloss', 'binary_error'), 'min_data_in_leaf': 25, 'objective': 'binary', 'seed': 0, 'verbose': -1}\n"
     ]
    },
    {
     "name": "stdout",
     "output_type": "stream",
     "text": [
      "Training until validation scores don't improve for 40 rounds                    \n",
      " 91%|████████▏| 91/100 [01:23<00:06,  1.43trial/s, best loss: 0.376482596842505]"
     ]
    },
    {
     "name": "stderr",
     "output_type": "stream",
     "text": [
      "/Users/g-ogaki/miniforge3/lib/python3.9/site-packages/lightgbm/engine.py:181: UserWarning: 'early_stopping_rounds' argument is deprecated and will be removed in a future release of LightGBM. Pass 'early_stopping()' callback via 'callbacks' argument instead.\n",
      "  _log_warning(\"'early_stopping_rounds' argument is deprecated and will be removed in a future release of LightGBM. \"\n",
      "\n",
      "/Users/g-ogaki/miniforge3/lib/python3.9/site-packages/lightgbm/engine.py:239: UserWarning: 'verbose_eval' argument is deprecated and will be removed in a future release of LightGBM. Pass 'log_evaluation()' callback via 'callbacks' argument instead.\n",
      "  _log_warning(\"'verbose_eval' argument is deprecated and will be removed in a future release of LightGBM. \"\n",
      "\n"
     ]
    },
    {
     "name": "stdout",
     "output_type": "stream",
     "text": [
      "Early stopping, best iteration is:                                              \n",
      "[62]\ttraining's binary_logloss: 0.46887\ttraining's binary_error: 0.15309\tvalid_1's binary_logloss: 0.477755\tvalid_1's binary_error: 0.139665\n",
      " 92%|████████▎| 92/100 [01:24<00:05,  1.42trial/s, best loss: 0.376482596842505]"
     ]
    },
    {
     "name": "stderr",
     "output_type": "stream",
     "text": [
      "2022/01/01 18:14:59 2 [INFO] {'bagging_fraction': 0.8430713121511247, 'feature_fraction': 0.9833543855437166, 'lambda_l1': 0.019769226451952365, 'lambda_l2': 0.05626608789342021, 'learning_rate': 0.01, 'max_leaves': 75, 'metric': ('binary_logloss', 'binary_error'), 'min_data_in_leaf': 21, 'objective': 'binary', 'seed': 0, 'verbose': -1}\n"
     ]
    },
    {
     "name": "stdout",
     "output_type": "stream",
     "text": [
      "Training until validation scores don't improve for 40 rounds                    \n",
      " 92%|████████▎| 92/100 [01:24<00:05,  1.42trial/s, best loss: 0.376482596842505]"
     ]
    },
    {
     "name": "stderr",
     "output_type": "stream",
     "text": [
      "/Users/g-ogaki/miniforge3/lib/python3.9/site-packages/lightgbm/engine.py:181: UserWarning: 'early_stopping_rounds' argument is deprecated and will be removed in a future release of LightGBM. Pass 'early_stopping()' callback via 'callbacks' argument instead.\n",
      "  _log_warning(\"'early_stopping_rounds' argument is deprecated and will be removed in a future release of LightGBM. \"\n",
      "\n",
      "/Users/g-ogaki/miniforge3/lib/python3.9/site-packages/lightgbm/engine.py:239: UserWarning: 'verbose_eval' argument is deprecated and will be removed in a future release of LightGBM. Pass 'log_evaluation()' callback via 'callbacks' argument instead.\n",
      "  _log_warning(\"'verbose_eval' argument is deprecated and will be removed in a future release of LightGBM. \"\n",
      "\n"
     ]
    },
    {
     "name": "stdout",
     "output_type": "stream",
     "text": [
      "Early stopping, best iteration is:                                              \n",
      "[58]\ttraining's binary_logloss: 0.472603\ttraining's binary_error: 0.150281\tvalid_1's binary_logloss: 0.486846\tvalid_1's binary_error: 0.145251\n",
      " 93%|████████▎| 93/100 [01:24<00:04,  1.41trial/s, best loss: 0.376482596842505]"
     ]
    },
    {
     "name": "stderr",
     "output_type": "stream",
     "text": [
      "2022/01/01 18:15:00 2 [INFO] {'bagging_fraction': 0.8613166892412032, 'feature_fraction': 0.9567039067573265, 'lambda_l1': 0.1420321543937569, 'lambda_l2': 0.026207014393952455, 'learning_rate': 0.01, 'max_leaves': 67, 'metric': ('binary_logloss', 'binary_error'), 'min_data_in_leaf': 28, 'objective': 'binary', 'seed': 0, 'verbose': -1}\n"
     ]
    },
    {
     "name": "stdout",
     "output_type": "stream",
     "text": [
      "Training until validation scores don't improve for 40 rounds                    \n",
      " 93%|████████▎| 93/100 [01:24<00:04,  1.41trial/s, best loss: 0.376482596842505]"
     ]
    },
    {
     "name": "stderr",
     "output_type": "stream",
     "text": [
      "/Users/g-ogaki/miniforge3/lib/python3.9/site-packages/lightgbm/engine.py:181: UserWarning: 'early_stopping_rounds' argument is deprecated and will be removed in a future release of LightGBM. Pass 'early_stopping()' callback via 'callbacks' argument instead.\n",
      "  _log_warning(\"'early_stopping_rounds' argument is deprecated and will be removed in a future release of LightGBM. \"\n",
      "\n",
      "/Users/g-ogaki/miniforge3/lib/python3.9/site-packages/lightgbm/engine.py:239: UserWarning: 'verbose_eval' argument is deprecated and will be removed in a future release of LightGBM. Pass 'log_evaluation()' callback via 'callbacks' argument instead.\n",
      "  _log_warning(\"'verbose_eval' argument is deprecated and will be removed in a future release of LightGBM. \"\n",
      "\n"
     ]
    },
    {
     "name": "stdout",
     "output_type": "stream",
     "text": [
      "Early stopping, best iteration is:                                              \n",
      "[133]\ttraining's binary_logloss: 0.384825\ttraining's binary_error: 0.143258\tvalid_1's binary_logloss: 0.394231\tvalid_1's binary_error: 0.122905\n",
      " 94%|████████▍| 94/100 [01:26<00:05,  1.20trial/s, best loss: 0.376482596842505]"
     ]
    },
    {
     "name": "stderr",
     "output_type": "stream",
     "text": [
      "2022/01/01 18:15:01 2 [INFO] {'bagging_fraction': 0.8522201200795307, 'feature_fraction': 0.9503301815639065, 'lambda_l1': 0.16584867274515855, 'lambda_l2': 0.05017324220153593, 'learning_rate': 0.01, 'max_leaves': 57, 'metric': ('binary_logloss', 'binary_error'), 'min_data_in_leaf': 33, 'objective': 'binary', 'seed': 0, 'verbose': -1}\n"
     ]
    },
    {
     "name": "stdout",
     "output_type": "stream",
     "text": [
      "Training until validation scores don't improve for 40 rounds                    \n",
      " 94%|████████▍| 94/100 [01:26<00:05,  1.20trial/s, best loss: 0.376482596842505]"
     ]
    },
    {
     "name": "stderr",
     "output_type": "stream",
     "text": [
      "/Users/g-ogaki/miniforge3/lib/python3.9/site-packages/lightgbm/engine.py:181: UserWarning: 'early_stopping_rounds' argument is deprecated and will be removed in a future release of LightGBM. Pass 'early_stopping()' callback via 'callbacks' argument instead.\n",
      "  _log_warning(\"'early_stopping_rounds' argument is deprecated and will be removed in a future release of LightGBM. \"\n",
      "\n",
      "/Users/g-ogaki/miniforge3/lib/python3.9/site-packages/lightgbm/engine.py:239: UserWarning: 'verbose_eval' argument is deprecated and will be removed in a future release of LightGBM. Pass 'log_evaluation()' callback via 'callbacks' argument instead.\n",
      "  _log_warning(\"'verbose_eval' argument is deprecated and will be removed in a future release of LightGBM. \"\n",
      "\n"
     ]
    },
    {
     "name": "stdout",
     "output_type": "stream",
     "text": [
      "Early stopping, best iteration is:                                              \n",
      "[80]\ttraining's binary_logloss: 0.444833\ttraining's binary_error: 0.150281\tvalid_1's binary_logloss: 0.444034\tvalid_1's binary_error: 0.128492\n",
      " 95%|████████▌| 95/100 [01:26<00:03,  1.26trial/s, best loss: 0.376482596842505]"
     ]
    },
    {
     "name": "stderr",
     "output_type": "stream",
     "text": [
      "2022/01/01 18:15:02 2 [INFO] {'bagging_fraction': 0.8217905656922067, 'feature_fraction': 0.9751377069901278, 'lambda_l1': 0.0776334779661421, 'lambda_l2': 0.0106599366775512, 'learning_rate': 0.01, 'max_leaves': 72, 'metric': ('binary_logloss', 'binary_error'), 'min_data_in_leaf': 36, 'objective': 'binary', 'seed': 0, 'verbose': -1}\n"
     ]
    },
    {
     "name": "stdout",
     "output_type": "stream",
     "text": [
      "Training until validation scores don't improve for 40 rounds                    \n",
      " 95%|████████▌| 95/100 [01:26<00:03,  1.26trial/s, best loss: 0.376482596842505]"
     ]
    },
    {
     "name": "stderr",
     "output_type": "stream",
     "text": [
      "/Users/g-ogaki/miniforge3/lib/python3.9/site-packages/lightgbm/engine.py:181: UserWarning: 'early_stopping_rounds' argument is deprecated and will be removed in a future release of LightGBM. Pass 'early_stopping()' callback via 'callbacks' argument instead.\n",
      "  _log_warning(\"'early_stopping_rounds' argument is deprecated and will be removed in a future release of LightGBM. \"\n",
      "\n",
      "/Users/g-ogaki/miniforge3/lib/python3.9/site-packages/lightgbm/engine.py:239: UserWarning: 'verbose_eval' argument is deprecated and will be removed in a future release of LightGBM. Pass 'log_evaluation()' callback via 'callbacks' argument instead.\n",
      "  _log_warning(\"'verbose_eval' argument is deprecated and will be removed in a future release of LightGBM. \"\n",
      "\n"
     ]
    },
    {
     "name": "stdout",
     "output_type": "stream",
     "text": [
      "Early stopping, best iteration is:                                              \n",
      "[79]\ttraining's binary_logloss: 0.445495\ttraining's binary_error: 0.150281\tvalid_1's binary_logloss: 0.443805\tvalid_1's binary_error: 0.128492\n",
      " 96%|████████▋| 96/100 [01:27<00:02,  1.39trial/s, best loss: 0.376482596842505]"
     ]
    },
    {
     "name": "stderr",
     "output_type": "stream",
     "text": [
      "2022/01/01 18:15:02 2 [INFO] {'bagging_fraction': 0.8691099275893169, 'feature_fraction': 0.9433525231687435, 'lambda_l1': 0.057908447715479115, 'lambda_l2': 0.01474021398017653, 'learning_rate': 0.01, 'max_leaves': 48, 'metric': ('binary_logloss', 'binary_error'), 'min_data_in_leaf': 26, 'objective': 'binary', 'seed': 0, 'verbose': -1}\n"
     ]
    },
    {
     "name": "stdout",
     "output_type": "stream",
     "text": [
      "Training until validation scores don't improve for 40 rounds                    \n",
      " 96%|████████▋| 96/100 [01:27<00:02,  1.39trial/s, best loss: 0.376482596842505]"
     ]
    },
    {
     "name": "stderr",
     "output_type": "stream",
     "text": [
      "/Users/g-ogaki/miniforge3/lib/python3.9/site-packages/lightgbm/engine.py:181: UserWarning: 'early_stopping_rounds' argument is deprecated and will be removed in a future release of LightGBM. Pass 'early_stopping()' callback via 'callbacks' argument instead.\n",
      "  _log_warning(\"'early_stopping_rounds' argument is deprecated and will be removed in a future release of LightGBM. \"\n",
      "\n",
      "/Users/g-ogaki/miniforge3/lib/python3.9/site-packages/lightgbm/engine.py:239: UserWarning: 'verbose_eval' argument is deprecated and will be removed in a future release of LightGBM. Pass 'log_evaluation()' callback via 'callbacks' argument instead.\n",
      "  _log_warning(\"'verbose_eval' argument is deprecated and will be removed in a future release of LightGBM. \"\n",
      "\n"
     ]
    },
    {
     "name": "stdout",
     "output_type": "stream",
     "text": [
      "Early stopping, best iteration is:                                              \n",
      "[189]\ttraining's binary_logloss: 0.345338\ttraining's binary_error: 0.141854\tvalid_1's binary_logloss: 0.360448\tvalid_1's binary_error: 0.117318\n",
      " 97%|███████▊| 97/100 [01:28<00:02,  1.21trial/s, best loss: 0.3604479323510402]"
     ]
    },
    {
     "name": "stderr",
     "output_type": "stream",
     "text": [
      "2022/01/01 18:15:03 2 [INFO] {'bagging_fraction': 0.9163426394036658, 'feature_fraction': 0.9442960729155702, 'lambda_l1': 0.04777614283084559, 'lambda_l2': 0.015007754826913562, 'learning_rate': 0.01, 'max_leaves': 34, 'metric': ('binary_logloss', 'binary_error'), 'min_data_in_leaf': 39, 'objective': 'binary', 'seed': 0, 'verbose': -1}\n"
     ]
    },
    {
     "name": "stdout",
     "output_type": "stream",
     "text": [
      "Training until validation scores don't improve for 40 rounds                    \n",
      " 97%|███████▊| 97/100 [01:28<00:02,  1.21trial/s, best loss: 0.3604479323510402]"
     ]
    },
    {
     "name": "stderr",
     "output_type": "stream",
     "text": [
      "/Users/g-ogaki/miniforge3/lib/python3.9/site-packages/lightgbm/engine.py:181: UserWarning: 'early_stopping_rounds' argument is deprecated and will be removed in a future release of LightGBM. Pass 'early_stopping()' callback via 'callbacks' argument instead.\n",
      "  _log_warning(\"'early_stopping_rounds' argument is deprecated and will be removed in a future release of LightGBM. \"\n",
      "\n",
      "/Users/g-ogaki/miniforge3/lib/python3.9/site-packages/lightgbm/engine.py:239: UserWarning: 'verbose_eval' argument is deprecated and will be removed in a future release of LightGBM. Pass 'log_evaluation()' callback via 'callbacks' argument instead.\n",
      "  _log_warning(\"'verbose_eval' argument is deprecated and will be removed in a future release of LightGBM. \"\n",
      "\n"
     ]
    },
    {
     "name": "stdout",
     "output_type": "stream",
     "text": [
      "Early stopping, best iteration is:                                              \n",
      "[29]\ttraining's binary_logloss: 0.557908\ttraining's binary_error: 0.19382\tvalid_1's binary_logloss: 0.556374\tvalid_1's binary_error: 0.173184\n",
      " 98%|███████▊| 98/100 [01:28<00:01,  1.45trial/s, best loss: 0.3604479323510402]"
     ]
    },
    {
     "name": "stderr",
     "output_type": "stream",
     "text": [
      "2022/01/01 18:15:04 2 [INFO] {'bagging_fraction': 0.8693105537413314, 'feature_fraction': 0.9656160264055401, 'lambda_l1': 0.058385226010862004, 'lambda_l2': 0.04391762885779134, 'learning_rate': 0.01, 'max_leaves': 48, 'metric': ('binary_logloss', 'binary_error'), 'min_data_in_leaf': 17, 'objective': 'binary', 'seed': 0, 'verbose': -1}\n"
     ]
    },
    {
     "name": "stdout",
     "output_type": "stream",
     "text": [
      "Training until validation scores don't improve for 40 rounds                    \n",
      " 98%|███████▊| 98/100 [01:28<00:01,  1.45trial/s, best loss: 0.3604479323510402]"
     ]
    },
    {
     "name": "stderr",
     "output_type": "stream",
     "text": [
      "/Users/g-ogaki/miniforge3/lib/python3.9/site-packages/lightgbm/engine.py:181: UserWarning: 'early_stopping_rounds' argument is deprecated and will be removed in a future release of LightGBM. Pass 'early_stopping()' callback via 'callbacks' argument instead.\n",
      "  _log_warning(\"'early_stopping_rounds' argument is deprecated and will be removed in a future release of LightGBM. \"\n",
      "\n",
      "/Users/g-ogaki/miniforge3/lib/python3.9/site-packages/lightgbm/engine.py:239: UserWarning: 'verbose_eval' argument is deprecated and will be removed in a future release of LightGBM. Pass 'log_evaluation()' callback via 'callbacks' argument instead.\n",
      "  _log_warning(\"'verbose_eval' argument is deprecated and will be removed in a future release of LightGBM. \"\n",
      "\n"
     ]
    },
    {
     "name": "stdout",
     "output_type": "stream",
     "text": [
      "Early stopping, best iteration is:                                              \n",
      "[67]\ttraining's binary_logloss: 0.445096\ttraining's binary_error: 0.133427\tvalid_1's binary_logloss: 0.455366\tvalid_1's binary_error: 0.128492\n",
      " 99%|███████▉| 99/100 [01:29<00:00,  1.31trial/s, best loss: 0.3604479323510402]"
     ]
    },
    {
     "name": "stderr",
     "output_type": "stream",
     "text": [
      "2022/01/01 18:15:05 2 [INFO] {'bagging_fraction': 0.897148850095819, 'feature_fraction': 0.9152163529496, 'lambda_l1': 0.21795723541697962, 'lambda_l2': 0.07551290201567866, 'learning_rate': 0.01, 'max_leaves': 37, 'metric': ('binary_logloss', 'binary_error'), 'min_data_in_leaf': 37, 'objective': 'binary', 'seed': 0, 'verbose': -1}\n"
     ]
    },
    {
     "name": "stdout",
     "output_type": "stream",
     "text": [
      "Training until validation scores don't improve for 40 rounds                    \n",
      " 99%|███████▉| 99/100 [01:29<00:00,  1.31trial/s, best loss: 0.3604479323510402]"
     ]
    },
    {
     "name": "stderr",
     "output_type": "stream",
     "text": [
      "/Users/g-ogaki/miniforge3/lib/python3.9/site-packages/lightgbm/engine.py:181: UserWarning: 'early_stopping_rounds' argument is deprecated and will be removed in a future release of LightGBM. Pass 'early_stopping()' callback via 'callbacks' argument instead.\n",
      "  _log_warning(\"'early_stopping_rounds' argument is deprecated and will be removed in a future release of LightGBM. \"\n",
      "\n",
      "/Users/g-ogaki/miniforge3/lib/python3.9/site-packages/lightgbm/engine.py:239: UserWarning: 'verbose_eval' argument is deprecated and will be removed in a future release of LightGBM. Pass 'log_evaluation()' callback via 'callbacks' argument instead.\n",
      "  _log_warning(\"'verbose_eval' argument is deprecated and will be removed in a future release of LightGBM. \"\n",
      "\n"
     ]
    },
    {
     "name": "stdout",
     "output_type": "stream",
     "text": [
      "Early stopping, best iteration is:                                              \n",
      "[30]\ttraining's binary_logloss: 0.551079\ttraining's binary_error: 0.189607\tvalid_1's binary_logloss: 0.550284\tvalid_1's binary_error: 0.173184\n",
      "100%|███████| 100/100 [01:30<00:00,  1.11trial/s, best loss: 0.3604479323510402]"
     ]
    },
    {
     "name": "stderr",
     "output_type": "stream",
     "text": [
      "2022/01/01 18:15:05 3 [INFO] best params: {'bagging_fraction': 0.8691099275893169, 'feature_fraction': 0.9433525231687435, 'lambda_l1': 0.057908447715479115, 'lambda_l2': 0.01474021398017653, 'learning_rate': 0.01, 'max_leaves': 48, 'metric': ('binary_logloss', 'binary_error'), 'min_data_in_leaf': 26, 'objective': 'binary', 'seed': 0, 'verbose': -1}\n"
     ]
    },
    {
     "name": "stdout",
     "output_type": "stream",
     "text": [
      "\n"
     ]
    }
   ],
   "source": [
    "best = fmin(fn=objective, space=space, algo=tpe.suggest, max_evals=100)\n",
    "best_params = space_eval(space, best)"
   ]
  },
  {
   "cell_type": "code",
   "execution_count": 12,
   "id": "ac63e388-4b19-42a9-be57-232da630da32",
   "metadata": {},
   "outputs": [
    {
     "name": "stderr",
     "output_type": "stream",
     "text": [
      "2022/01/01 18:15:41 1 [INFO] best params: {'bagging_fraction': 0.8691099275893169, 'feature_fraction': 0.9433525231687435, 'lambda_l1': 0.057908447715479115, 'lambda_l2': 0.01474021398017653, 'learning_rate': 0.01, 'max_leaves': 48, 'metric': ('binary_logloss', 'binary_error'), 'min_data_in_leaf': 26, 'objective': 'binary', 'seed': 0, 'verbose': -1}\n"
     ]
    }
   ],
   "source": [
    "logger.info(\"best params: {}\".format(best_params))"
   ]
  },
  {
   "cell_type": "markdown",
   "id": "bfa4545a-8cb4-40cf-8eea-1478e43f2f2b",
   "metadata": {},
   "source": [
    "# Inference"
   ]
  },
  {
   "cell_type": "code",
   "execution_count": 11,
   "id": "43cc9a29-ed85-4167-8919-06a59931fd01",
   "metadata": {
    "tags": []
   },
   "outputs": [
    {
     "name": "stderr",
     "output_type": "stream",
     "text": [
      "2022/01/02 17:37:10 45 [INFO] [train] start.\n"
     ]
    },
    {
     "name": "stdout",
     "output_type": "stream",
     "text": [
      "[17:37:10] WARNING: /Users/runner/miniforge3/conda-bld/xgboost-split_1637426411619/work/src/learner.cc:1115: Starting in XGBoost 1.3.0, the default evaluation metric used with the objective 'binary:logistic' was changed from 'error' to 'logloss'. Explicitly set eval_metric if you'd like to restore the old behavior.\n",
      "[0]\ttrain-logloss:0.68719\teval-logloss:0.68732\n",
      "[100]\ttrain-logloss:0.38564\teval-logloss:0.38989\n",
      "[200]\ttrain-logloss:0.29612\teval-logloss:0.32061\n",
      "[300]\ttrain-logloss:0.25847\teval-logloss:0.30303\n",
      "[397]\ttrain-logloss:0.23681\teval-logloss:0.30037\n",
      "[17:37:12] WARNING: /Users/runner/miniforge3/conda-bld/xgboost-split_1637426411619/work/src/learner.cc:1115: Starting in XGBoost 1.3.0, the default evaluation metric used with the objective 'binary:logistic' was changed from 'error' to 'logloss'. Explicitly set eval_metric if you'd like to restore the old behavior.\n",
      "[0]\ttrain-logloss:0.68699\teval-logloss:0.68727\n",
      "[100]\ttrain-logloss:0.38314\teval-logloss:0.40357\n",
      "[200]\ttrain-logloss:0.29661\teval-logloss:0.33472\n",
      "[300]\ttrain-logloss:0.26019\teval-logloss:0.31379\n",
      "[400]\ttrain-logloss:0.23759\teval-logloss:0.30862\n",
      "[467]\ttrain-logloss:0.22508\teval-logloss:0.30925\n",
      "[17:37:13] WARNING: /Users/runner/miniforge3/conda-bld/xgboost-split_1637426411619/work/src/learner.cc:1115: Starting in XGBoost 1.3.0, the default evaluation metric used with the objective 'binary:logistic' was changed from 'error' to 'logloss'. Explicitly set eval_metric if you'd like to restore the old behavior.\n",
      "[0]\ttrain-logloss:0.68698\teval-logloss:0.68702\n",
      "[100]\ttrain-logloss:0.38361\teval-logloss:0.39925\n",
      "[200]\ttrain-logloss:0.29629\teval-logloss:0.33402\n",
      "[300]\ttrain-logloss:0.25949\teval-logloss:0.31682\n",
      "[400]\ttrain-logloss:0.23728\teval-logloss:0.31083\n",
      "[500]\ttrain-logloss:0.22110\teval-logloss:0.30921\n",
      "[568]\ttrain-logloss:0.21194\teval-logloss:0.30885\n",
      "[17:37:16] WARNING: /Users/runner/miniforge3/conda-bld/xgboost-split_1637426411619/work/src/learner.cc:1115: Starting in XGBoost 1.3.0, the default evaluation metric used with the objective 'binary:logistic' was changed from 'error' to 'logloss'. Explicitly set eval_metric if you'd like to restore the old behavior.\n",
      "[0]\ttrain-logloss:0.68695\teval-logloss:0.68710\n",
      "[100]\ttrain-logloss:0.38327\teval-logloss:0.40603\n",
      "[200]\ttrain-logloss:0.29551\teval-logloss:0.35015\n",
      "[300]\ttrain-logloss:0.25850\teval-logloss:0.33880\n",
      "[400]\ttrain-logloss:0.23707\teval-logloss:0.33822\n",
      "[406]\ttrain-logloss:0.23598\teval-logloss:0.33851\n",
      "[17:37:17] WARNING: /Users/runner/miniforge3/conda-bld/xgboost-split_1637426411619/work/src/learner.cc:1115: Starting in XGBoost 1.3.0, the default evaluation metric used with the objective 'binary:logistic' was changed from 'error' to 'logloss'. Explicitly set eval_metric if you'd like to restore the old behavior.\n",
      "[0]\ttrain-logloss:0.68680\teval-logloss:0.68790\n",
      "[100]\ttrain-logloss:0.36961\teval-logloss:0.43904\n",
      "[200]\ttrain-logloss:0.27931\teval-logloss:0.39376\n",
      "[300]\ttrain-logloss:0.24148\teval-logloss:0.38813\n",
      "[340]\ttrain-logloss:0.23177\teval-logloss:0.38909\n"
     ]
    },
    {
     "name": "stderr",
     "output_type": "stream",
     "text": [
      "2022/01/02 17:37:19 47 [INFO] [train] done in 8.721 seconds.\n"
     ]
    }
   ],
   "source": [
    "runner = Runner(PROJECT_NAME, ModelXGB, cv=True)\n",
    "with timer(\"train\", logger):\n",
    "    runner.train(X_train, y_train, params, train_params)"
   ]
  },
  {
   "cell_type": "code",
   "execution_count": 12,
   "id": "68408285-c282-49ee-bd5b-0cb383d1e503",
   "metadata": {},
   "outputs": [
    {
     "data": {
      "text/plain": [
       "0.3282806"
      ]
     },
     "execution_count": 12,
     "metadata": {},
     "output_type": "execute_result"
    }
   ],
   "source": [
    "runner.get_score()"
   ]
  },
  {
   "cell_type": "code",
   "execution_count": 13,
   "id": "c6a868f6-d019-4fad-8f27-d5a66dc29af5",
   "metadata": {},
   "outputs": [
    {
     "name": "stderr",
     "output_type": "stream",
     "text": [
      "2022/01/02 17:37:21 45 [INFO] [prediction] start.\n",
      "/Users/g-ogaki/miniforge3/lib/python3.9/site-packages/xgboost/core.py:105: UserWarning: ntree_limit is deprecated, use `iteration_range` or model slicing instead.\n",
      "  warnings.warn(\n",
      "2022/01/02 17:37:21 47 [INFO] [prediction] done in 0.030 seconds.\n"
     ]
    },
    {
     "data": {
      "text/plain": [
       "array([0, 0, 0, 0, 1, 0, 1, 1, 1, 0, 0, 0, 1, 0, 1, 1, 0, 0, 1, 0, 0, 1,\n",
       "       1, 0, 1, 0, 1, 0, 1, 0, 0, 0, 1, 0, 1, 0, 0, 0, 0, 0, 0, 0, 0, 1,\n",
       "       1, 0, 0, 0, 1, 1, 0, 0, 1, 1, 0, 0, 0, 0, 0, 1, 0, 0, 0, 1, 1, 1,\n",
       "       1, 0, 1, 1, 1, 0, 1, 1, 1, 1, 0, 1, 0, 1, 0, 0, 0, 0, 0, 0, 1, 1,\n",
       "       1, 1, 1, 0, 1, 0, 0, 0, 1, 0, 1, 0, 1, 0, 0, 0, 1, 0, 0, 0, 0, 0,\n",
       "       0, 1, 1, 1, 1, 0, 0, 1, 1, 1, 1, 0, 1, 0, 0, 1, 0, 1, 0, 0, 0, 0,\n",
       "       0, 0, 0, 0, 0, 0, 0, 0, 0, 1, 1, 0, 1, 0, 0, 0, 0, 0, 1, 0, 0, 1,\n",
       "       1, 0, 1, 1, 1, 1, 1, 1, 1, 0, 0, 1, 0, 0, 1, 0, 0, 0, 0, 0, 0, 1,\n",
       "       1, 0, 1, 1, 0, 0, 1, 0, 1, 0, 1, 0, 0, 0, 0, 0, 1, 0, 1, 0, 1, 1,\n",
       "       0, 0, 1, 0, 0, 1, 0, 0, 1, 0, 1, 0, 0, 0, 0, 1, 0, 0, 1, 1, 1, 0,\n",
       "       1, 0, 1, 0, 1, 1, 0, 1, 0, 0, 0, 1, 0, 0, 0, 0, 0, 0, 1, 1, 1, 1,\n",
       "       0, 0, 0, 0, 1, 0, 1, 1, 1, 0, 0, 0, 0, 0, 0, 0, 1, 0, 0, 0, 1, 1,\n",
       "       0, 0, 0, 0, 0, 0, 0, 0, 1, 1, 0, 1, 0, 0, 0, 0, 0, 1, 1, 1, 0, 0,\n",
       "       0, 0, 0, 0, 0, 1, 0, 0, 0, 0, 1, 0, 0, 0, 0, 0, 0, 0, 1, 1, 0, 1,\n",
       "       0, 1, 0, 0, 0, 0, 1, 1, 0, 0, 0, 0, 0, 0, 0, 1, 1, 0, 1, 0, 0, 0,\n",
       "       1, 0, 0, 1, 0, 0, 0, 0, 0, 1, 0, 0, 0, 1, 1, 1, 0, 0, 0, 1, 1, 0,\n",
       "       0, 1, 1, 0, 1, 0, 0, 1, 0, 1, 1, 0, 1, 0, 0, 1, 1, 0, 0, 1, 0, 0,\n",
       "       1, 1, 0, 0, 0, 1, 0, 0, 1, 1, 0, 1, 0, 0, 0, 0, 0, 1, 1, 0, 0, 1,\n",
       "       0, 1, 0, 0, 1, 0, 1, 0, 0, 0, 0, 0, 1, 1, 1, 1, 1, 0, 1, 0, 0, 1])"
      ]
     },
     "execution_count": 13,
     "metadata": {},
     "output_type": "execute_result"
    }
   ],
   "source": [
    "with timer(\"prediction\", logger):\n",
    "    prob = runner.predict(X_test)\n",
    "pred = np.where(prob > 0.5, 1, 0)\n",
    "pred"
   ]
  },
  {
   "cell_type": "code",
   "execution_count": 14,
   "id": "d25ca66a-ee11-42b0-837e-fce68f562b78",
   "metadata": {},
   "outputs": [
    {
     "data": {
      "text/html": [
       "<div>\n",
       "<style scoped>\n",
       "    .dataframe tbody tr th:only-of-type {\n",
       "        vertical-align: middle;\n",
       "    }\n",
       "\n",
       "    .dataframe tbody tr th {\n",
       "        vertical-align: top;\n",
       "    }\n",
       "\n",
       "    .dataframe thead th {\n",
       "        text-align: right;\n",
       "    }\n",
       "</style>\n",
       "<table border=\"1\" class=\"dataframe\">\n",
       "  <thead>\n",
       "    <tr style=\"text-align: right;\">\n",
       "      <th></th>\n",
       "      <th>PassengerId</th>\n",
       "      <th>Survived</th>\n",
       "    </tr>\n",
       "  </thead>\n",
       "  <tbody>\n",
       "    <tr>\n",
       "      <th>891</th>\n",
       "      <td>892</td>\n",
       "      <td>0</td>\n",
       "    </tr>\n",
       "    <tr>\n",
       "      <th>892</th>\n",
       "      <td>893</td>\n",
       "      <td>0</td>\n",
       "    </tr>\n",
       "    <tr>\n",
       "      <th>893</th>\n",
       "      <td>894</td>\n",
       "      <td>0</td>\n",
       "    </tr>\n",
       "    <tr>\n",
       "      <th>894</th>\n",
       "      <td>895</td>\n",
       "      <td>0</td>\n",
       "    </tr>\n",
       "    <tr>\n",
       "      <th>895</th>\n",
       "      <td>896</td>\n",
       "      <td>1</td>\n",
       "    </tr>\n",
       "    <tr>\n",
       "      <th>...</th>\n",
       "      <td>...</td>\n",
       "      <td>...</td>\n",
       "    </tr>\n",
       "    <tr>\n",
       "      <th>1304</th>\n",
       "      <td>1305</td>\n",
       "      <td>0</td>\n",
       "    </tr>\n",
       "    <tr>\n",
       "      <th>1305</th>\n",
       "      <td>1306</td>\n",
       "      <td>1</td>\n",
       "    </tr>\n",
       "    <tr>\n",
       "      <th>1306</th>\n",
       "      <td>1307</td>\n",
       "      <td>0</td>\n",
       "    </tr>\n",
       "    <tr>\n",
       "      <th>1307</th>\n",
       "      <td>1308</td>\n",
       "      <td>0</td>\n",
       "    </tr>\n",
       "    <tr>\n",
       "      <th>1308</th>\n",
       "      <td>1309</td>\n",
       "      <td>1</td>\n",
       "    </tr>\n",
       "  </tbody>\n",
       "</table>\n",
       "<p>418 rows × 2 columns</p>\n",
       "</div>"
      ],
      "text/plain": [
       "      PassengerId  Survived\n",
       "891           892         0\n",
       "892           893         0\n",
       "893           894         0\n",
       "894           895         0\n",
       "895           896         1\n",
       "...           ...       ...\n",
       "1304         1305         0\n",
       "1305         1306         1\n",
       "1306         1307         0\n",
       "1307         1308         0\n",
       "1308         1309         1\n",
       "\n",
       "[418 rows x 2 columns]"
      ]
     },
     "execution_count": 14,
     "metadata": {},
     "output_type": "execute_result"
    }
   ],
   "source": [
    "submission = pd.DataFrame({\n",
    "    \"PassengerId\": df_test[\"PassengerId\"],\n",
    "    \"Survived\": pred\n",
    "})\n",
    "submission\n",
    "submission.to_csv(f\"../submission/submission_{PROJECT_NAME}.csv\", index=False)\n",
    "submission"
   ]
  },
  {
   "cell_type": "code",
   "execution_count": 15,
   "id": "f7672fdb-2ad7-48e7-a522-30dbe600255b",
   "metadata": {},
   "outputs": [
    {
     "name": "stdout",
     "output_type": "stream",
     "text": [
      "100%|████████████████████████████████████████| 2.77k/2.77k [00:02<00:00, 957B/s]\n",
      "Successfully submitted to Titanic - Machine Learning from Disaster"
     ]
    }
   ],
   "source": [
    "!kaggle competitions submit titanic -f ../submission/submission_{PROJECT_NAME}.csv -m \"loss: 0.5372970979437052\""
   ]
  }
 ],
 "metadata": {
  "kernelspec": {
   "display_name": "Python 3 (ipykernel)",
   "language": "python",
   "name": "python3"
  },
  "language_info": {
   "codemirror_mode": {
    "name": "ipython",
    "version": 3
   },
   "file_extension": ".py",
   "mimetype": "text/x-python",
   "name": "python",
   "nbconvert_exporter": "python",
   "pygments_lexer": "ipython3",
   "version": "3.9.7"
  },
  "toc-autonumbering": true
 },
 "nbformat": 4,
 "nbformat_minor": 5
}
